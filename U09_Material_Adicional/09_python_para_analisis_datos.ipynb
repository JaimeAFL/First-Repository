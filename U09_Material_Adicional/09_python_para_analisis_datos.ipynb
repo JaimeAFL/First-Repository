{
 "cells": [
  {
   "cell_type": "markdown",
   "metadata": {},
   "source": [
    "# Tu reto en esta unidad\n",
    "\n",
    "En todo lo que llevamos de curso has aprendido a utilizar el lenguaje R para realizar todo tipo de tareas con datos, desde el análisis y manipulación básicas, pasando por la visualización y generación de gráficos, hasta construir y validar modelos estadísticos para estimar y predecir distintos fenómenos.\n",
    "\n",
    "Pero no solo de R vive el científico de datos. En esta unidad vamos a enseñarte cómo un lenguaje de propósito general como Python se ha convertido, gracias a sus características propias y a unas potentes librerías desarrolladas por la comunidad de usuarios, en una de las herramientas más útiles y polivalentes para nuestro trabajo con datos.\n",
    "\n",
    "En esta unidad repasaremos muchos elementos del lenguaje y de estas librerías, el contenido es largo. ¡Pero no te asustes! No hay teoría compleja, la mayoría de conceptos de programación te serán familiares de otros lenguajes, y los conceptos de análisis estádistico los conoces ya de las unidades anteriores. El objetivo es darte una visión global de Python y su uso en ciencia de datos, no que te conviertas en un experto gurú.\n",
    "\n",
    "Por cierto, ¿conoces las películas 'La vida de Brian' o 'Los caballeros de la mesa cuadrada'? Muy pronto te contaremos qué relación pueden tener estas películas y un lenguaje de programación (si no lo has averiguado tú ya, claro)."
   ]
  },
  {
   "cell_type": "markdown",
   "metadata": {},
   "source": [
    "# Introducción\n",
    "\n",
    "El objetivo en esta unidad es presentar los fundamentos del lenguaje Python y las herramientas que ofrece para facilitar el trabajo del análisis de datos.\n",
    "\n",
    "Para intentar adaptarnos a los conocimientos de todas las personas que hacéis este curso, hemos dividido esta unidad en dos partes.\n",
    "\n",
    "En la primera parte de la unidad repasaremos las principales características y funcionalidades que ofrece el propio lenguaje Python y su enorme biblioteca de librerías. Nos centraremos en los conceptos más importantes para entender cómo funciona y aprender a aprovechar sus virtudes en nuestros programas.\n",
    "\n",
    "En la segunda parte, visitaremos algunas de las principales librerías de terceros creadas para facilitar la vida de los usuarios científicos en tareas como el cálculo, manipulación de datos, visualización y modelado estadístico."
   ]
  },
  {
   "cell_type": "markdown",
   "metadata": {},
   "source": [
    "## ¿Qué es Python?\n",
    "\n",
    "Python es uno de los lenguajes de programación más populares y extendidos hoy en día. Se trata de un lenguaje de propósito general, utilizado en infinidad de ámbitos y tareas, desde el desarrollo de aplicaciones y servicios web haste en la programación de sistemas operativos.\n",
    "\n",
    "Python es un lenguaje interpretado. Es decir, no es necesario compilar el código para obtener un programa ejecutable. El intérprete de Python se encarga de leer el código que nosotros introducimos y evaluarlo. Esta característica nos va a facilitar mucho poder escribir nuestro programa y probar qué resultado genera de forma interactiva. Además, también hace que podamos copiar nuestro mismo programa de un ordenador con Windows a un ordenador con Linux o un Mac OS y ejecutarlo sin cambiar nada, solo hace falta que esté instalado el intérprete. Decimos que Python es un lenguaje multiplataforma.\n",
    "\n",
    "Python es un lenguaje de alto nivel, con una sintaxis que prima la sencillez y la legibilidad. Una de las ideas detrás de este lenguaje es simplificar la vida del usuario y permitirle programar en unas pocas líneas de código algoritmos bastante complejos de una forma clara.\n",
    "\n",
    "Otra punto importante es la biblioteca estándar que incorpora de serie, un conjunto de librerías que proporciona gran cantidad de herramientas y componentes que abarcan múltiples funcionalidades (desde el acceso a ficheros, a conectarte a páginas web u otros ordenadores, o el procesamiento de cadenas de texto) y que sirven como base para ayudarte a construir nuevas aplicaciones.\n",
    "\n",
    "Además, tendrás disponible una ingente colección de librerías y proyectos de código abierto aportadas por la enorme comunidad de usuarios de Python. Será muy dificil que no encuentres una librería que te ayude a solucionar alguna de tus necesidades.\n",
    "\n",
    "> **Ojo al dato** Una curiosidad sobre Python. Guido van Rossum, principal creador del lenguaje, lo bautizó con este nombre en honor al grupo de humoristas británicos Monty Python, famosos por sus programas para TV _Monty Python's Flying Circus_ o sus películas _La vida de Brian_ o _Los caballeros de la mesa cuadrada_. ¿Cómo, no los conoces? Ya tienes una tarea, buscar y ver sus películas."
   ]
  },
  {
   "cell_type": "markdown",
   "metadata": {},
   "source": [
    "### Python y el análisis de datos\n",
    "\n",
    "Todas las virtudes que acabamos de enumerar ya nos hacen ver que Python es un lenguaje muy potente con infinidad de aplicaciones, y que se adapta perfectamente para ayudarnos a resolver casi cualquier problema que se nos presente.\n",
    "\n",
    "Si nos centramos en el análisis de datos, a estas virtudes sumamos que existen un número cada vez mayor de librerías avanzadas para la extracción y procesado de datos, cálculo matemático, análisis y modelado estadístico, aprendizaje automático (_machine learning_), inteligencia artificial y visualización gráfica.\n",
    "\n",
    "Además, existen librerías para integrarlo con plataformas _big data_ como Hadoop o Spark, y para conectarlo con todo tipo de fuentes y bases de datos, tanto SQL como NoSQL.\n",
    "\n",
    "Por todos estos motivos, la popularidad de Python entre los campos de la ciencia de datos y el _big data_ no para de crecer."
   ]
  },
  {
   "cell_type": "markdown",
   "metadata": {},
   "source": [
    "## ¿Python 2 o Python 3?\n",
    "\n",
    "Esta pregunta requiere una explicación.\n",
    "\n",
    "Piensa en un lenguaje de programación como en un lenguaje humano cualquiera. Con el tiempo las formas en que usamos un idioma, las palabras, las expresiones, hasta las mismas reglas de la gramática o la ortografía sufren algunos cambios. El idioma evoluciona para adaptarse a nuevas necesidades, nuevos conceptos o formas que expresar. Con los lenguajes de programación ocurre igual.\n",
    "\n",
    "Aunque Python no sea un lenguaje de programación tan _\"veterano\"_ si lo comparamos con otros históricos (_Fortran_ nace en 1955, _LISP_ en 1958, o _C_ en 1972), ciertamente sí es un lenguaje _adulto_; ya ha pasado por múltiples revisiones y cambios desde que se publicó la versión 1.0 allá por 1994. Python 2 apareción en el año 2000, y Python 3 (la última gran revisión del lenguaje) se lanzó en 2008.\n",
    "\n",
    "Los cambios entre las versiones 2 y 3 del lenguaje fueron importantes en algunos puntos. Como ya te hemos contado, Python es un lenguaje interpretado; es el intérprete de Python quien se encarga de leer un programa, evaluar el código y traducirlo a instrucciones que la máquina puede ejecutar. Debido a algunos de estos cambios que se introdujeron de la versión 2 a la 3, se perdió la compatibilidad hacia atrás. Es decir, los intérpretes de la versión 2 no eran capaces de _\"entender\"_ algunas de las nuevas expresiones de Python 3 y no podían ejecutar los programas escritos en la nueva versión.\n",
    "\n",
    "Como había mucha (pero mucha) gente y empresas que habían creado sus programas y librerías usando Python 2, se decidió seguir manteniendo y mejorando esta versión del lenguaje en paralelo a Python 3 durante un periodo de tiempo. Así se daba un margen para poder ir migrando a la nueva versión. La última versión de Python 2, la 2.7, se publicó en 2010 (¡dos años después de que saliera Python 3!) y se ha decidido mantenerla hasta 2020. A partir de ahí, el equipo responsable del lenguaje dejará de desarrollar y resolver problemas para la versión 2.7.\n",
    "\n",
    "Es cierto que todavía hay muchos programas y librerías escritas usando Python 2.7. Pero a día de hoy, más o menos un 95% de este software está disponible también escrito en Python 3. Y la mayor parte de todo el código nuevo ya se crea usando Python 3.\n",
    "\n",
    "Así que volviendo a la pregunta que nos hacíamos, la respuesta es que para este curso vamos a usar Python 3. Y en concreto, trabajaremos con la versión más reciente, la 3.6.\n",
    "\n",
    "De todas formas, si en algún momento te encuentras con código escrito en Python 2 no debes preocuparte. A nivel de un programador, apenas notarás diferencias, la mayor parte del código será igual. Los cambios más fundamentales afectan más al intérprete."
   ]
  },
  {
   "cell_type": "markdown",
   "metadata": {},
   "source": [
    "## Configuración del entorno de trabajo\n",
    "\n",
    "### Material de la unidad\n",
    "\n",
    "Para seguir el contenido de esta unidad tendrás que descargarte material auxiliar que tienes disponible en el campus. Incluye versiones interactivas de esta unidad para ejecutar en los entornos de desarrollo, así como ficheros de código y datos que usaremos en algunos ejemplos.\n",
    "\n",
    "Te recomendamos que crees una carpeta para esta unidad (p.ej. dentro de tu carpeta de Documentos o en otra carpeta que estés usando para seguir el curso) y descargues todos los ficheros.\n",
    "\n",
    "### Instalación de Python y entorno de desarrollo\n",
    "\n",
    "Ahora tenemos que instalar Python en nuestro ordenador.\n",
    "\n",
    "Una opción sería descargar la versión de Python para nuestro sistema operativo de la página oficial (https://www.python.org/downloads/). Después de instalarlo tendríamos que instalar también todas las librerías externas que vamos a necesitar. Pero espera un poco...\n",
    "\n",
    "Nosotros vamos a elegir una opción más cómoda, que consiste en utilizar Anaconda (https://www.anaconda.com/). Se trata de una distribución de Python especialmente orientada para la ciencia de datos. Viene de serie con un gran número de librerías, incluyendo las principales que necesitaremos para cálculo, análisis de datos, crear modelos estadísticos y generar gráficos de nuestros datos y resultados.\n",
    "\n",
    "Además, la distribución de Anaconda viene con varias herramientas para obtener y configurar nuevos paquetes, programas y librerías de forma muy sencilla. ¡Incluso nos permite tener instaladas distintas versiones de Python a la vez sin que haya conflictos!\n",
    "\n",
    "Una vez que hayamos instalado nuestra distribución de Python, tendremos que configurar también un entorno de desarrollo para poder ir creando y probando nuestros programas. Te presentamos dos opciones especialmente pensadas para trabajar en análisis de datos (aunque hay muchos más entornos disponibles en Internet).\n",
    "\n",
    ">**Vídeo** En el campus podrás encontrar vídeos de apoyo con la explicación paso a paso del proceso de instalación y un paseo por las distintos entornos de desarrollo."
   ]
  },
  {
   "cell_type": "markdown",
   "metadata": {},
   "source": [
    "### Instalación de Anaconda\n",
    "\n",
    "La instalación de Anaconda es sencilla. Vamos a ver los pasos para S.O. Windows, pero está disponible para Linux y Mac OS.\n",
    "\n",
    "- En tu navegador, accede a la página de descargas de Anaconda: https://www.anaconda.com/download/\n",
    "- Selecciona tu sistema operativo y después elige la opción que incluye Python 3 (actualmente la versión 3.6). Si no lo detecta automáticamente, tendrás que seleccionar también si tu plataforma es de 32 o 64 bits. Procede a descargar el instalador (puede costarle unos minutos dependiendo de tu conexión a Internet).\n",
    "- Una vez descargado, ejecuta el instalador. Sigue las instrucciones, manteniendo las opciones por defecto que te ofrezca en cadad paso.\n",
    "\n",
    "<img src=\"./img/fig_anaconda_install.png\" />\n",
    "\n",
    "- Al terminar la instalación en Windows, podrás acceder a las distintas herramientas incluidas con Anaconda a través del menú de inicio. Entre otras cosas, tendrás los accesos directos a Jupyter y Spyder, dos entornos de desarrollo."
   ]
  },
  {
   "cell_type": "markdown",
   "metadata": {},
   "source": [
    "### Jupyter Notebook\n",
    "\n",
    "Jupyter Notebook es una aplicación web que nos permite editar y ejecutar documentos (_notebooks_) en los que podemos combinar texto formateado con trozos de código Python que podemos ejecutar interactivamente y ver los resultados integrados también en el propio documento.\n",
    "\n",
    "Al ser una aplicación web, el visor y editor de documentos se carga en nuestro navegador web como cualquier otra página. Pero para poder mostrar correctamente el contenido y ejecutar el código Python, debe conectarse a un proceso servidor, que es quien realmente ejecutará el código y devolverá el resultado.\n",
    "\n",
    "Una de las principales ventajas de este formato de documentos es que permite compartir y distribuir nuestros análisis integrando textos explicativos, figuras y el código utilizado, lo que facilita la reproducibilidad de nuestro trabajo.\n",
    "\n",
    "Jupyter se basa en IPython, un intérprete de Python con una consola interactiva que extiende y mejora las funcionalidades de la consola básica de Python, incluyendo autocompletado, depuración, resaltado de sintaxis, etc.\n",
    "\n",
    "#### Abrir Jupyter\n",
    "\n",
    "Tras instalar Anaconda, en Windows podemos lanzar Jupyter desde la lista de programas instalados en el menú de inicio. Si no, abrimos un terminal o consola de comandos y ejecutamos\n",
    "\n",
    "`> jupyter notebook`\n",
    "\n",
    "\n",
    "En cuanto el servidor complete su inicialización, se nos abrirá una nueva pestaña en el navegador con la interfaz del cliente Jupyter.\n",
    "\n",
    "<img src=\"./img/fig_jupyter_windows.png\" width=600/>\n",
    "\n",
    "Desde aquí tendremos que navegar por las carpetas hasta llegar a donde se encuentren nuestros _cuadernos_. Los cuadernos o _notebooks_ de Jupyter se distinguen por su extensión de fichero (_.ipynb_) y porque aparecen con un icono con forma de libro a la izquierda del nombre.\n",
    "\n",
    "Si hacemos doble click en el cuaderno, su contenido se cargará en una nueva pestaña del navegador, a la que el servidor asociará una nueva sesión Python.\n",
    "\n",
    "#### Navegando y ejecutando el contenido\n",
    "\n",
    "El contenido de un cuaderno de Jupyter se compone de _celdas_. Una celda puede contener o bien texto o bien código interpretable. \n",
    "\n",
    "Podemos ejecutar el contenido de una de estas celdas seleccionándola (quedará resaltada) y pulsando la combinación de teclas `Ctrl+Enter`. Los mensajes que se generen como resultado de la ejecución se imprimirán justo debajo de la celda.\n",
    "\n",
    "Puedes editar el contenido de una celda (sea texto o código) seleccionándola y pulsando `Enter`, o haciendo doble click sobre ella.\n",
    "\n",
    "<img src=\"./img/fig_jupyter_session_windows.png\" width=600/>\n",
    "\n",
    "#### Añadiendo nuevas celdas\n",
    "\n",
    "Mediante la barra superior podemos acceder al menú _Insert_, que nos permite añadir una nueva celda en nuestro cuaderno.\n",
    "\n",
    "Por defecto, la nueva celda será de tipo código (_code_). Estas celdas sirven para que introduzcamos las líneas con el fragmento de código que queremos probar y ejecutar en cada paso.\n",
    "\n",
    "Podemos cambiar el tipo de contenido a través del menú _Cell_, seleccionando la opción _Cell Type -> Markdown_. De esta forma configuraremos la celda para que acepte contenido de texto formateado con la sintaxis de Markdown.\n",
    "Cuando pulsemos `Ctrl+Enter` para _\"ejecutar\"_ el contenido de una celda tipo Markdown, se renderizará su contenido en formato HTML.\n",
    "\n",
    "#### Controlando los resultados del código\n",
    "\n",
    "Por defecto, al ejecutar una celda de código Python, el valor resultante que se mostrará será el de la última expresión evaluada. Si quieres que Jupyter muestre el resultado de todas las expresiones, nada más comenzar una sesión de trabajo tendrás que ejecutar este código."
   ]
  },
  {
   "cell_type": "code",
   "execution_count": 18,
   "metadata": {
    "collapsed": true
   },
   "outputs": [],
   "source": [
    "from IPython.core.interactiveshell import InteractiveShell\n",
    "InteractiveShell.ast_node_interactivity = \"all\""
   ]
  },
  {
   "cell_type": "markdown",
   "metadata": {},
   "source": [
    "Ten en cuenta que esto no es necesario cuando ejecutemos cualquier comando para imprimir mensajes (p.ej. con la instrucción `print()`). Jupyter se encargará de imprimir en el cuaderno todos los mensajes sin necesidad de configurar nada más.\n",
    "\n",
    "#### Cerrando una sesión en Jupyter\n",
    "\n",
    "Cuando vayas a dejar de trabajar con un cuaderno en Jupyter, es conveniente que no cierres la pestaña del navegador directamente. En su lugar, ves al menú _File_ y selecciona la opción _Close and Halt_. De esta forma, el proceso servidor se encarga de cerrar limpiamente el documento y la sesión Python asociada. Después recuerda cerrar también la ventana con el proceso Jupyter.\n",
    "\n",
    "#### Para saber más...\n",
    "https://jupyter-notebook-beginner-guide.readthedocs.io/en/latest/"
   ]
  },
  {
   "cell_type": "markdown",
   "metadata": {},
   "source": [
    "### Spyder\n",
    "\n",
    "Spyder (_Scientific PYthon Development EnviRonment_) es un entorno de desarrollo para Python, pensado especialmente para su uso en tareas de programación científica y análisis de datos. Presenta un diseño y funcionalidades similares a las que has visto en RStudio, así que no te costará mucho esfuerzo habituarte a su manejo.\n",
    "\n",
    "<img src=\"./img/fig_spyder_windows.png\" />\n",
    "\n",
    "El panel principal (a la izquierda en la imagen) lo ocupa el editor de código. Aquí puedes abrir los ficheros de Python, examinarlos y editar su contenido. El editor incluye ayudas para autocompletar código (con `Tab`), resaltar sintaxis, control de errores, etc. \n",
    "\n",
    "A la derecha tenemos dos paneles. En uno de ellos (el superior en la imagen) está el el explorador de variables, el explorador de archivos y el visor de la ayuda. \n",
    "\n",
    "En el panel inferior encontrarás la consola interactiva de Python, que utiliza IPython como motor (igual que Jupyter). En esta consola podrás introducir manualmente las instrucciones que quieras probar y ejecutar directamente. Pero también podrás ejecutar el código que tengas abierto en el editor. Para ello tan solo tienes que seleccionar las líneas que quieres evaluar y pulsar `Ctrl+Enter`.\n",
    "\n",
    "#### Para saber más...\n",
    "https://pythonhosted.org/spyder/\n"
   ]
  },
  {
   "cell_type": "markdown",
   "metadata": {},
   "source": [
    "### Intérprete de línea de comandos - IPython\n",
    "\n",
    "Podemos lanzar una consola con el intérprete interactivo de Python simplemente abriendo un terminal y ejecutando  el comando `python` (`python.exe` en Windows).\n",
    "\n",
    "No obstante, con la instalación de Anaconda disponemos de un intérprete más versátil y cómodo de usar: IPython, Como ya te hemos adelantado, IPython es un intérprete de Python con una consola interactiva que extiende y mejora las funcionalidades de la consola básica de Python, incluyendo autocompletado, depuración, resaltado de sintaxis, etc.\n",
    "\n",
    "Si trabajas en Windows, puedes acceder al intérprete de IPython abriendo el _Anaconda Prompt_ que te aparecerá dentro del grupo de programas de Anaconda, accediendo desde el menú de inicio.\n",
    "\n",
    "Para salir de cualquiera de estos intérpretes, puedes usar el comando `quit()`.\n",
    "\n",
    "\n",
    "### Ejecución de scripts\n",
    "\n",
    "Para programar y probar nuestro código es muy útil (casi imprescindible) utilizar alguno de estos entornos de desarrollo. Pero en algún momento tendremos que ejecutar algunos de nuestros desarrollos como programas de forma directa y autónoma.\n",
    "\n",
    "Asumiendo que tenemos el código de nuestro programa en un fichero con extensión `.py`, para ejecutarlo simplemente llamamos al intérprete de Python con nuestro script.\n",
    "\n",
    "`> python.exe U09_src\\hola_mundo.py`\n",
    "\n"
   ]
  },
  {
   "cell_type": "markdown",
   "metadata": {},
   "source": [
    "### Configuración del directorios\n",
    "\n",
    "A lo largo de esta unidad veremos algunos ejemplos que requieren utilizar ficheros de código que incluimos con el material disponible en el campus. El código se encuentra dentro del subdirectorio `U09_src`.\n",
    "\n",
    "Para que Python sepa acceder al directorio donde guardes los ficheros fuente, tendrás que ejecutar los siguientes comandos para añadirlo a las rutas donde busca el código fuente. A lo largo de esta unidad te explicaremos más sobre cómo busca y resuelve Python la ubicación de código, librerías y otros elementos."
   ]
  },
  {
   "cell_type": "code",
   "execution_count": 19,
   "metadata": {
    "collapsed": true
   },
   "outputs": [],
   "source": [
    "import sys\n",
    "import os.path\n",
    "\n",
    "# Tan solo modifica la cadena de texto entre comillas\n",
    "# de DIR_FICHEROS_CURSO\n",
    "# Sustituye por la ruta completa hasta el directorio base\n",
    "# donde descargues el material del campus\n",
    "DIR_FICHEROS_CURSO = \".\"\n",
    "DIR_U09 = os.path.join(DIR_FICHEROS_CURSO, \"09PythonParaAnalisisDatos\")\n",
    "DIR_U09_SRC = os.path.join(DIR_U09, \"U09_src\")\n",
    "\n",
    "sys.path.append(DIR_U09_SRC)"
   ]
  },
  {
   "cell_type": "markdown",
   "metadata": {
    "collapsed": true
   },
   "source": [
    "# Primeros pasos en Python\n",
    "\n",
    "Para comenzar, vamos a ver algunas características básicas del lenguaje mediante ejemplos. Empecemos por uno muy sencillo.\n"
   ]
  },
  {
   "cell_type": "code",
   "execution_count": 20,
   "metadata": {},
   "outputs": [
    {
     "name": "stdout",
     "output_type": "stream",
     "text": [
      "¡Hola mundo!\n"
     ]
    }
   ],
   "source": [
    "# Esto es un comentario.\n",
    "# En Python el inicio de un comentario se indica con el carácter almohadilla.\n",
    "# El comentario termina al saltar de linea.\n",
    "\n",
    "mensaje = \"¡Hola mundo!\"   # Definimos la variable 'mensaje'. Un comentario puede ir detrás de una expresión\n",
    "\n",
    "print(mensaje)\n"
   ]
  },
  {
   "cell_type": "markdown",
   "metadata": {},
   "source": [
    "Lo primero que vemos son comentarios. Como dice el propio ejemplo, en Python abrimos un comentario con el símbolo _almohadilla_ (#). Estos comentarios terminan con el fin de línea, así que si quieres ampliarlo tendrás que ir añadiendo una nueva almohadilla al saltar de línea.\n",
    "\n",
    "Después creamos una variable con el nombre `mensaje` y la inicializamos con un valor; en este caso una cadena de texto con un saludo cordial. Y como ves, también podemos añadir un comentario al final de una línea de código, detrás de una expresión.\n",
    "\n",
    "Y terminamos utilizando la función `print` para imprimir el contenido de la variable. Hasta aquí, todo muy simple.\n"
   ]
  },
  {
   "cell_type": "markdown",
   "metadata": {},
   "source": [
    "## Sobre variables y constantes\n",
    "\n",
    "Si has trabajado con otros lenguajes de programación como C++ o Java, tal vez te llame la atención que no hayamos necesitado declarar la variable de ninguna forma especial, ni definir previamente qué tipo de dato va a almacenar (¿un número, una cadena de texto?).\n",
    "\n",
    "Python es un lenguaje con _tipado dinámico_. Esto quiere decir que él se encarga de averiguar el tipo que debe tener una variable en cada momento, en función del valor que le hayamos asignado. Fíjate que esto significa que podemos asignar a una misma variable un valor de otro tipo distinto en cualquier momento y Python no protestará. Simplemente asumirá que el tipo de la variable ha cambiado.\n",
    "\n",
    "> **Atención** Que podamos hacer esto no significa que sea recomendable hacerlo en cualquier situación. Aunque en muchos casos podemos sacar provecho de esta característica para simplificar nuestros programas, en otras ocasiones será mejor no mezclar tipos en una misma variable para evitar errores y que el código sea más fácil de entender.\n",
    "\n",
    "La asignación de un valor a una variable se hace con el signo igual '`=`'. Python nos permite asignar el mismo valor a múltiples variables de una sóla vez.\n",
    "\n",
    "Aunque Python no impone ningún formato estricto, como recomendación de estilo los nombres de las variables se suelen escribir en minúsculas. Si se quiere usar un nombre compuesto, utilizaremos el guión bajo para separar las palabras. El nombre de una variable no puede empezar con un número.\n"
   ]
  },
  {
   "cell_type": "code",
   "execution_count": 21,
   "metadata": {
    "collapsed": true
   },
   "outputs": [],
   "source": [
    "nombre = \"Papu\"\n",
    "nombre_completo = \"Giorgi Papunashvili\"\n",
    "edad_jugador = 21\n",
    "goles_marcados = goles_fallados = 0        # Asignación multiple, mismo valor para las dos variables !!\n",
    "tarjetas_amarillas, tarjetas_rojas = 1, 0  # Asignación simultánea, valores distintos a cada variable !!"
   ]
  },
  {
   "cell_type": "markdown",
   "metadata": {},
   "source": [
    "Las dos últimas líneas son ejemplos de asignación múltiple. En el primer caso, asignamos el mismo valor (cero) a las dos variables (`goles_marcados` y `goles_fallados`). En el segundo caso asignamos un valor distinto a cada variable (`tarjetas_amarillas` valdrá `1` y `tarjetas_rojas` valdrá `0`).\n",
    "\n",
    "Fíjate que la asignación múltiple de valores de forma simultánea nos permite hacer cosas como intercambiar valores de variables de forma muy sencila"
   ]
  },
  {
   "cell_type": "code",
   "execution_count": 22,
   "metadata": {},
   "outputs": [
    {
     "name": "stdout",
     "output_type": "stream",
     "text": [
      "x = 10 y = 20\n"
     ]
    }
   ],
   "source": [
    "# Tenemos dos variables\n",
    "x = 10\n",
    "y = 20\n",
    "print(\"x =\", x, \"y =\", y)"
   ]
  },
  {
   "cell_type": "code",
   "execution_count": 23,
   "metadata": {},
   "outputs": [
    {
     "name": "stdout",
     "output_type": "stream",
     "text": [
      "x = 20 y = 10\n"
     ]
    }
   ],
   "source": [
    "# En otros lenguajes, utilizaríamos una variable auxiliar para intercambiar los valores\n",
    "aux = x    # variable auxiliar, guardamos el valor original de \"x\"\n",
    "x = y      # le damos a \"x\" el valor de \"y\"\n",
    "y = aux    # y ahora le damos a \"y\" el antiguo valor de \"x\"\n",
    "print(\"x =\", x, \"y =\", y)"
   ]
  },
  {
   "cell_type": "code",
   "execution_count": 24,
   "metadata": {},
   "outputs": [
    {
     "name": "stdout",
     "output_type": "stream",
     "text": [
      "x = 10 y = 20\n"
     ]
    }
   ],
   "source": [
    "# Volvamos a las dos variables originales\n",
    "x = 10\n",
    "y = 20\n",
    "print(\"x =\", x, \"y =\", y)"
   ]
  },
  {
   "cell_type": "code",
   "execution_count": 25,
   "metadata": {},
   "outputs": [
    {
     "name": "stdout",
     "output_type": "stream",
     "text": [
      "x = 20 y = 10\n"
     ]
    }
   ],
   "source": [
    "# ¡En Python podemos hacer esto de una sola vez!\n",
    "x, y = y, x   # intercambiamos los valores\n",
    "print(\"x =\", x, \"y =\", y)   # ¡Tachaaaaan!"
   ]
  },
  {
   "cell_type": "markdown",
   "metadata": {},
   "source": [
    "En Python no existen las constantes tal cual, no hay una forma de especificar que una variable no puede cambiar su contenido una vez que ha sido asignada.\n",
    "\n",
    "Como convención, lo que hacemos es utilizar nombres en mayúsculas para diferenciar los identificadores de las constantes que queramos definir. Así nos resultará más sencillo reconocerlos en el código (aunque para Python no habrá ninguna diferencia con cualquier otra variable).\n"
   ]
  },
  {
   "cell_type": "code",
   "execution_count": 26,
   "metadata": {
    "collapsed": true
   },
   "outputs": [],
   "source": [
    "VERSION = \"1.0\"\n",
    "PI = 3.14159265359"
   ]
  },
  {
   "cell_type": "markdown",
   "metadata": {
    "collapsed": true
   },
   "source": [
    "## Números\n",
    "\n",
    "Python nos permite trabajar con distintos tipos numéricos, como enteros (tipo _int_) o números reales o en punto flotante (tipo _float_). Disponemos de las operaciones matemáticas habituales con estos tipos. Vamos a verlo."
   ]
  },
  {
   "cell_type": "code",
   "execution_count": 27,
   "metadata": {},
   "outputs": [
    {
     "data": {
      "text/plain": [
       "8"
      ]
     },
     "execution_count": 27,
     "metadata": {},
     "output_type": "execute_result"
    }
   ],
   "source": [
    "# Suma de enteros, devuelve un entero\n",
    "3 + 5"
   ]
  },
  {
   "cell_type": "code",
   "execution_count": 28,
   "metadata": {},
   "outputs": [
    {
     "data": {
      "text/plain": [
       "3"
      ]
     },
     "execution_count": 28,
     "metadata": {},
     "output_type": "execute_result"
    }
   ],
   "source": [
    "# Resta de enteros, devuelve un entero\n",
    "10 - 7"
   ]
  },
  {
   "cell_type": "code",
   "execution_count": 29,
   "metadata": {},
   "outputs": [
    {
     "data": {
      "text/plain": [
       "12"
      ]
     },
     "execution_count": 29,
     "metadata": {},
     "output_type": "execute_result"
    }
   ],
   "source": [
    "# Multiplicación de enteros, devuelve un entero\n",
    "3 * 4"
   ]
  },
  {
   "cell_type": "code",
   "execution_count": 30,
   "metadata": {},
   "outputs": [
    {
     "data": {
      "text/plain": [
       "8.5"
      ]
     },
     "execution_count": 30,
     "metadata": {},
     "output_type": "execute_result"
    }
   ],
   "source": [
    "# Pero si uno de los números tiene decimales (punto flotante), \n",
    "# el resultado también será un float\n",
    "3 + 5.5"
   ]
  },
  {
   "cell_type": "code",
   "execution_count": 31,
   "metadata": {},
   "outputs": [
    {
     "data": {
      "text/plain": [
       "10.3"
      ]
     },
     "execution_count": 31,
     "metadata": {},
     "output_type": "execute_result"
    }
   ],
   "source": [
    "12.3 - 2"
   ]
  },
  {
   "cell_type": "code",
   "execution_count": 32,
   "metadata": {},
   "outputs": [
    {
     "data": {
      "text/plain": [
       "12.0"
      ]
     },
     "execution_count": 32,
     "metadata": {},
     "output_type": "execute_result"
    }
   ],
   "source": [
    "3.0 * 4"
   ]
  },
  {
   "cell_type": "code",
   "execution_count": 33,
   "metadata": {},
   "outputs": [
    {
     "data": {
      "text/plain": [
       "2.0"
      ]
     },
     "execution_count": 33,
     "metadata": {},
     "output_type": "execute_result"
    }
   ],
   "source": [
    "# La división siempre devuelve un valor en punto flotante\n",
    "6 / 3"
   ]
  },
  {
   "cell_type": "code",
   "execution_count": 34,
   "metadata": {},
   "outputs": [
    {
     "data": {
      "text/plain": [
       "6.5"
      ]
     },
     "execution_count": 34,
     "metadata": {},
     "output_type": "execute_result"
    }
   ],
   "source": [
    "13 / 2"
   ]
  },
  {
   "cell_type": "code",
   "execution_count": 35,
   "metadata": {},
   "outputs": [
    {
     "data": {
      "text/plain": [
       "6"
      ]
     },
     "execution_count": 35,
     "metadata": {},
     "output_type": "execute_result"
    }
   ],
   "source": [
    "# Si lo que queremos es la división entera, se hace así\n",
    "13 // 2"
   ]
  },
  {
   "cell_type": "code",
   "execution_count": 36,
   "metadata": {},
   "outputs": [
    {
     "data": {
      "text/plain": [
       "1"
      ]
     },
     "execution_count": 36,
     "metadata": {},
     "output_type": "execute_result"
    }
   ],
   "source": [
    "# Módulo (resto de la división entera)\n",
    "13 % 2"
   ]
  },
  {
   "cell_type": "code",
   "execution_count": 37,
   "metadata": {},
   "outputs": [
    {
     "data": {
      "text/plain": [
       "9"
      ]
     },
     "execution_count": 37,
     "metadata": {},
     "output_type": "execute_result"
    }
   ],
   "source": [
    "# Potencia\n",
    "3 ** 2"
   ]
  },
  {
   "cell_type": "code",
   "execution_count": 38,
   "metadata": {},
   "outputs": [
    {
     "data": {
      "text/plain": [
       "3.2"
      ]
     },
     "execution_count": 38,
     "metadata": {},
     "output_type": "execute_result"
    }
   ],
   "source": [
    "# Valor absoluto\n",
    "abs(-3.2)"
   ]
  },
  {
   "cell_type": "code",
   "execution_count": 39,
   "metadata": {},
   "outputs": [
    {
     "data": {
      "text/plain": [
       "0.7"
      ]
     },
     "execution_count": 39,
     "metadata": {},
     "output_type": "execute_result"
    }
   ],
   "source": [
    "# Redondear un número en punto flotante\n",
    "round(2/3, 1)   # una cifra decimal"
   ]
  },
  {
   "cell_type": "code",
   "execution_count": 40,
   "metadata": {},
   "outputs": [
    {
     "data": {
      "text/plain": [
       "0.67"
      ]
     },
     "execution_count": 40,
     "metadata": {},
     "output_type": "execute_result"
    }
   ],
   "source": [
    "round(2/3, 2)   # dos cifras decimales"
   ]
  },
  {
   "cell_type": "markdown",
   "metadata": {},
   "source": [
    "Si mezclamos en una operación valores enteros y en punto flotante, Python se encargará de _\"promocionar\"_ o convertir todos los valores al tipo más general (en este caso de entero a punto flotante)."
   ]
  },
  {
   "cell_type": "markdown",
   "metadata": {
    "collapsed": true
   },
   "source": [
    "## Cadenas de caracteres\n",
    "\n",
    "Python nos permite expresar cadenas de caracteres de distintas formas. Vamos a ver unos ejemplos de cómo definir una cadena de texto literal.\n"
   ]
  },
  {
   "cell_type": "code",
   "execution_count": 41,
   "metadata": {
    "collapsed": true
   },
   "outputs": [],
   "source": [
    "# Cadena de texto con comillas simples\n",
    "texto_1 = 'Esto es una cadena de texto sencilla'\n",
    "\n",
    "# Cadena de texto con comillas dobles\n",
    "texto_2 = \"Esto también es una cadena de texto válida\"\n",
    "\n",
    "# Podemos insertar unas comillas simples \n",
    "# dentro de una cadena delimitada con comillas dobles\n",
    "texto_3 = \"Usar las comillas simples 'aquí' es correcto\"\n",
    "\n",
    "# O al reves, insertar comillas dobles \n",
    "# en una cadena delimitada con comillas simples\n",
    "texto_4 = 'Intercalar comillas \"de esta otra forma\" también es válido'\n",
    "\n",
    "# También podemos crear cadenas de texto que ocupen varias líneas\n",
    "texto_multiple_1 = \"\"\"Podemos crear una cadena con múltiples líneas\n",
    "rodeando el texto con comillas triples\"\"\"\n",
    "\n",
    "texto_multiple_2 = '''Usar tres comillas simples\n",
    "es igual de correcto que\n",
    "usar tres comillas dobles'''\n"
   ]
  },
  {
   "cell_type": "markdown",
   "metadata": {},
   "source": [
    "Podemos combinar las cadenas de texto de forma sencilla\n"
   ]
  },
  {
   "cell_type": "code",
   "execution_count": 42,
   "metadata": {},
   "outputs": [
    {
     "data": {
      "text/plain": [
       "'Pythonesco'"
      ]
     },
     "execution_count": 42,
     "metadata": {},
     "output_type": "execute_result"
    }
   ],
   "source": [
    "# Podemos concatenar dos cadenas de texto \n",
    "# usando el operador '+'\n",
    "lenguaje = 'Py' + 'thon'\n",
    "\n",
    "lenguaje + \"esco\""
   ]
  },
  {
   "cell_type": "code",
   "execution_count": 43,
   "metadata": {},
   "outputs": [
    {
     "data": {
      "text/plain": [
       "'holaholahola'"
      ]
     },
     "execution_count": 43,
     "metadata": {},
     "output_type": "execute_result"
    }
   ],
   "source": [
    "# También podemos repetir una cadena varias veces \n",
    "# usando el operador '*'\n",
    "\"hola\" * 3"
   ]
  },
  {
   "cell_type": "markdown",
   "metadata": {},
   "source": [
    "Podemos contar los caracteres que forman una cadena, o seleccionar una parte de la cadena usando índices de posición entre corchetes (`[]`). A la hora de seleccionar un carácter o una parte de la cadena, tenemos que saber que en Python empezamos a contar posiciones en cero, así que el primer carácter está en el índice `0` (y no en el índice `1`)."
   ]
  },
  {
   "cell_type": "code",
   "execution_count": 44,
   "metadata": {},
   "outputs": [
    {
     "data": {
      "text/plain": [
       "6"
      ]
     },
     "execution_count": 44,
     "metadata": {},
     "output_type": "execute_result"
    }
   ],
   "source": [
    "# Longitud de la cadena de texto\n",
    "len(lenguaje)"
   ]
  },
  {
   "cell_type": "code",
   "execution_count": 45,
   "metadata": {},
   "outputs": [
    {
     "data": {
      "text/plain": [
       "'P'"
      ]
     },
     "execution_count": 45,
     "metadata": {},
     "output_type": "execute_result"
    }
   ],
   "source": [
    "# Para seleccionar un carácter indicamos la posición entre corchetes\n",
    "lenguaje[0]   # El primer carácter lo obtenemos con el índice cero"
   ]
  },
  {
   "cell_type": "code",
   "execution_count": 46,
   "metadata": {},
   "outputs": [
    {
     "data": {
      "text/plain": [
       "'n'"
      ]
     },
     "execution_count": 46,
     "metadata": {},
     "output_type": "execute_result"
    }
   ],
   "source": [
    "lenguaje[5]   # El carácter para el índice 5"
   ]
  },
  {
   "cell_type": "code",
   "execution_count": 47,
   "metadata": {},
   "outputs": [
    {
     "data": {
      "text/plain": [
       "'n'"
      ]
     },
     "execution_count": 47,
     "metadata": {},
     "output_type": "execute_result"
    }
   ],
   "source": [
    "lenguaje[len(lenguaje) - 1]   # Al empezar a contar en cero, el último carácter está en LEN - 1"
   ]
  },
  {
   "cell_type": "code",
   "execution_count": 48,
   "metadata": {},
   "outputs": [
    {
     "data": {
      "text/plain": [
       "'n'"
      ]
     },
     "execution_count": 48,
     "metadata": {},
     "output_type": "execute_result"
    }
   ],
   "source": [
    "lenguaje[-1]   # Si usamos índices negativos, empezamos a contar desde el final"
   ]
  },
  {
   "cell_type": "code",
   "execution_count": 49,
   "metadata": {},
   "outputs": [
    {
     "data": {
      "text/plain": [
       "'Py'"
      ]
     },
     "execution_count": 49,
     "metadata": {},
     "output_type": "execute_result"
    }
   ],
   "source": [
    "lenguaje[0:2]   # También podemos seleccionar una \"rebanada\""
   ]
  },
  {
   "cell_type": "code",
   "execution_count": 50,
   "metadata": {},
   "outputs": [
    {
     "data": {
      "text/plain": [
       "'thon'"
      ]
     },
     "execution_count": 50,
     "metadata": {},
     "output_type": "execute_result"
    }
   ],
   "source": [
    "lenguaje[2:6]   # Fíjate que el caracter del primer índice si se incluye, pero el segundo no"
   ]
  },
  {
   "cell_type": "code",
   "execution_count": 51,
   "metadata": {},
   "outputs": [
    {
     "data": {
      "text/plain": [
       "'thon'"
      ]
     },
     "execution_count": 51,
     "metadata": {},
     "output_type": "execute_result"
    }
   ],
   "source": [
    "lenguaje[2:]   # Seleccionamos desde la posición 2 (incluída) hasta el final"
   ]
  },
  {
   "cell_type": "code",
   "execution_count": 52,
   "metadata": {},
   "outputs": [
    {
     "data": {
      "text/plain": [
       "'on'"
      ]
     },
     "execution_count": 52,
     "metadata": {},
     "output_type": "execute_result"
    }
   ],
   "source": [
    "lenguaje[-2:]   # Seleccionamos desde la penúltima posición (incluída) hasta el final"
   ]
  },
  {
   "cell_type": "code",
   "execution_count": 53,
   "metadata": {},
   "outputs": [
    {
     "data": {
      "text/plain": [
       "'Pyth'"
      ]
     },
     "execution_count": 53,
     "metadata": {},
     "output_type": "execute_result"
    }
   ],
   "source": [
    "lenguaje[:-2]   # Seleccionamos desde el inicio hasta la penúltima posición (excluída)"
   ]
  },
  {
   "cell_type": "code",
   "execution_count": 54,
   "metadata": {},
   "outputs": [
    {
     "data": {
      "text/plain": [
       "'Python'"
      ]
     },
     "execution_count": 54,
     "metadata": {},
     "output_type": "execute_result"
    }
   ],
   "source": [
    "# Como el primer índice siempre se incluye y el segundo siempre se excluye, podemos reconstruir la cadena así\n",
    "lenguaje[:2] + lenguaje[2:]"
   ]
  },
  {
   "cell_type": "markdown",
   "metadata": {},
   "source": [
    "Aunque podemos acceder a elementos individuales de una cadena, no podemos modificarlos directamente. Las cadenas en Python son _inmutables_."
   ]
  },
  {
   "cell_type": "code",
   "execution_count": 55,
   "metadata": {},
   "outputs": [
    {
     "ename": "TypeError",
     "evalue": "'str' object does not support item assignment",
     "output_type": "error",
     "traceback": [
      "\u001b[0;31m---------------------------------------------------------------------------\u001b[0m",
      "\u001b[0;31mTypeError\u001b[0m                                 Traceback (most recent call last)",
      "\u001b[0;32m<ipython-input-55-98768c31a80e>\u001b[0m in \u001b[0;36m<module>\u001b[0;34m()\u001b[0m\n\u001b[1;32m      1\u001b[0m \u001b[0;31m# Esto produce un error\u001b[0m\u001b[0;34m\u001b[0m\u001b[0;34m\u001b[0m\u001b[0m\n\u001b[0;32m----> 2\u001b[0;31m \u001b[0mlenguaje\u001b[0m\u001b[0;34m[\u001b[0m\u001b[0;36m0\u001b[0m\u001b[0;34m]\u001b[0m \u001b[0;34m=\u001b[0m \u001b[0;34m'c'\u001b[0m\u001b[0;34m\u001b[0m\u001b[0m\n\u001b[0m",
      "\u001b[0;31mTypeError\u001b[0m: 'str' object does not support item assignment"
     ]
    }
   ],
   "source": [
    "# Esto produce un error\n",
    "lenguaje[0] = 'c'"
   ]
  },
  {
   "cell_type": "markdown",
   "metadata": {},
   "source": [
    "El tipo cadena en Python incluye de serie múltiples operaciones para poder manipular su contenido. Estas  operaciones de manipulación no modifican la propia cadena, si no que devuelven una nueva versión modificada. Si quieres cambiar el contenido de una variable, tendrás que reasignarle el resultado de la función."
   ]
  },
  {
   "cell_type": "code",
   "execution_count": 59,
   "metadata": {},
   "outputs": [
    {
     "data": {
      "text/plain": [
       "'PYTHON'"
      ]
     },
     "execution_count": 59,
     "metadata": {},
     "output_type": "execute_result"
    }
   ],
   "source": [
    "# Convertir a mayúsculas\n",
    "lenguaje.upper()"
   ]
  },
  {
   "cell_type": "code",
   "execution_count": 60,
   "metadata": {},
   "outputs": [
    {
     "name": "stdout",
     "output_type": "stream",
     "text": [
      "Python\n"
     ]
    }
   ],
   "source": [
    "# La operación anterior devolvió una nueva cadena modificada, pero no cambió el contenido de la variable\n",
    "print(lenguaje)"
   ]
  },
  {
   "cell_type": "code",
   "execution_count": 61,
   "metadata": {},
   "outputs": [
    {
     "data": {
      "text/plain": [
       "'python'"
      ]
     },
     "execution_count": 61,
     "metadata": {},
     "output_type": "execute_result"
    }
   ],
   "source": [
    "# Convertir a minúsculas\n",
    "lenguaje.lower()"
   ]
  },
  {
   "cell_type": "code",
   "execution_count": 62,
   "metadata": {},
   "outputs": [
    {
     "name": "stdout",
     "output_type": "stream",
     "text": [
      "python\n"
     ]
    }
   ],
   "source": [
    "# Si quieres que la variable se actualice con la versión modificada, tendrás que asignar de nuevo\n",
    "lenguaje = lenguaje.lower()\n",
    "print(lenguaje)"
   ]
  },
  {
   "cell_type": "code",
   "execution_count": 63,
   "metadata": {},
   "outputs": [
    {
     "data": {
      "text/plain": [
       "1"
      ]
     },
     "execution_count": 63,
     "metadata": {},
     "output_type": "execute_result"
    }
   ],
   "source": [
    "# Contar cuántas veces aparece un caracter en la cadena\n",
    "lenguaje.count('o')"
   ]
  },
  {
   "cell_type": "code",
   "execution_count": 64,
   "metadata": {},
   "outputs": [
    {
     "data": {
      "text/plain": [
       "'cython'"
      ]
     },
     "execution_count": 64,
     "metadata": {},
     "output_type": "execute_result"
    }
   ],
   "source": [
    "# Reemplazar un caracter con otro\n",
    "lenguaje.replace('p', 'c')"
   ]
  },
  {
   "cell_type": "code",
   "execution_count": 65,
   "metadata": {},
   "outputs": [
    {
     "data": {
      "text/plain": [
       "['Jacinto', 'Benavente']"
      ]
     },
     "execution_count": 65,
     "metadata": {},
     "output_type": "execute_result"
    }
   ],
   "source": [
    "autor = \"Jacinto Benavente\"\n",
    "\n",
    "# Trocear una cadena tomando un caracter como delimitador de los trozos\n",
    "autor.split(' ')"
   ]
  },
  {
   "cell_type": "code",
   "execution_count": 68,
   "metadata": {},
   "outputs": [
    {
     "name": "stdout",
     "output_type": "stream",
     "text": [
      "Jacinto\n",
      "Benavente\n"
     ]
    }
   ],
   "source": [
    "# Si no indicamos separador, por defecto trocea en los espacios en blanco\n",
    "# Podemos aprovechar la asignación múltiple para asignar cada trozo a una variable\n",
    "nombre, apellido = autor.split()\n",
    "print(nombre)\n",
    "print(apellido)"
   ]
  },
  {
   "cell_type": "code",
   "execution_count": 69,
   "metadata": {},
   "outputs": [
    {
     "data": {
      "text/plain": [
       "'Benavente;;;Jacinto'"
      ]
     },
     "execution_count": 69,
     "metadata": {},
     "output_type": "execute_result"
    }
   ],
   "source": [
    "# También podemos usar una cadena como separador para unir una lista de elementos\n",
    "\";;;\".join([apellido, nombre])"
   ]
  },
  {
   "cell_type": "code",
   "execution_count": 70,
   "metadata": {},
   "outputs": [
    {
     "data": {
      "text/plain": [
       "True"
      ]
     },
     "execution_count": 70,
     "metadata": {},
     "output_type": "execute_result"
    }
   ],
   "source": [
    "# ¿La cadena de texto está compuesta por letras?\n",
    "\"abc\".isalpha()"
   ]
  },
  {
   "cell_type": "code",
   "execution_count": 71,
   "metadata": {},
   "outputs": [
    {
     "data": {
      "text/plain": [
       "True"
      ]
     },
     "execution_count": 71,
     "metadata": {},
     "output_type": "execute_result"
    }
   ],
   "source": [
    "# ¿La cadena de texto está compuesta por dígitos?\n",
    "\"123\".isdigit()"
   ]
  },
  {
   "cell_type": "code",
   "execution_count": 72,
   "metadata": {},
   "outputs": [
    {
     "data": {
      "text/plain": [
       "'Jacinto Benavente ganó el premio Nobel en 1922'"
      ]
     },
     "execution_count": 72,
     "metadata": {},
     "output_type": "execute_result"
    }
   ],
   "source": [
    "# Formatear una cadena de texto, insertando valores en las posiciones marcadas con {}\n",
    "\"{} ganó el premio Nobel en {}\".format(autor, 1922)"
   ]
  },
  {
   "cell_type": "code",
   "execution_count": null,
   "metadata": {
    "collapsed": true
   },
   "outputs": [],
   "source": [
    "# Para ver más operaciones disponibles sobre el tipo cadena de texto\n",
    "help(str)"
   ]
  },
  {
   "cell_type": "markdown",
   "metadata": {},
   "source": [
    "## Valores booleanos\n",
    "\n",
    "En Python tenemos un tipo booleano para representar los valores _verdadero_ y _falso_. Veamos cómo se codifican estos valores y las operaciones lógicas habituales.\n"
   ]
  },
  {
   "cell_type": "code",
   "execution_count": 73,
   "metadata": {
    "collapsed": true
   },
   "outputs": [],
   "source": [
    "soy_rico = False\n",
    "soy_listo = True"
   ]
  },
  {
   "cell_type": "code",
   "execution_count": 74,
   "metadata": {},
   "outputs": [
    {
     "data": {
      "text/plain": [
       "False"
      ]
     },
     "execution_count": 74,
     "metadata": {},
     "output_type": "execute_result"
    }
   ],
   "source": [
    "# operación AND (Y) lógica\n",
    "soy_rico and soy_listo"
   ]
  },
  {
   "cell_type": "code",
   "execution_count": 75,
   "metadata": {},
   "outputs": [
    {
     "data": {
      "text/plain": [
       "True"
      ]
     },
     "execution_count": 75,
     "metadata": {},
     "output_type": "execute_result"
    }
   ],
   "source": [
    "# operación OR (O) lógica\n",
    "soy_rico or soy_listo"
   ]
  },
  {
   "cell_type": "code",
   "execution_count": 76,
   "metadata": {},
   "outputs": [
    {
     "data": {
      "text/plain": [
       "True"
      ]
     },
     "execution_count": 76,
     "metadata": {},
     "output_type": "execute_result"
    }
   ],
   "source": [
    "# negación\n",
    "not soy_rico"
   ]
  },
  {
   "cell_type": "markdown",
   "metadata": {},
   "source": [
    "También tenemos los operadores de comparación, que nos devuelven un valor de verdadero o falso\n"
   ]
  },
  {
   "cell_type": "code",
   "execution_count": 77,
   "metadata": {},
   "outputs": [
    {
     "data": {
      "text/plain": [
       "True"
      ]
     },
     "execution_count": 77,
     "metadata": {},
     "output_type": "execute_result"
    }
   ],
   "source": [
    "# Mayor que\n",
    "10 > 3.0   # True"
   ]
  },
  {
   "cell_type": "code",
   "execution_count": 78,
   "metadata": {},
   "outputs": [
    {
     "data": {
      "text/plain": [
       "False"
      ]
     },
     "execution_count": 78,
     "metadata": {},
     "output_type": "execute_result"
    }
   ],
   "source": [
    "# Menor que\n",
    "10 < 3.0   # False"
   ]
  },
  {
   "cell_type": "code",
   "execution_count": 79,
   "metadata": {},
   "outputs": [
    {
     "data": {
      "text/plain": [
       "True"
      ]
     },
     "execution_count": 79,
     "metadata": {},
     "output_type": "execute_result"
    }
   ],
   "source": [
    "# Mayor o igual que\n",
    "10 >= 3.0   # True"
   ]
  },
  {
   "cell_type": "code",
   "execution_count": 80,
   "metadata": {},
   "outputs": [
    {
     "data": {
      "text/plain": [
       "False"
      ]
     },
     "execution_count": 80,
     "metadata": {},
     "output_type": "execute_result"
    }
   ],
   "source": [
    "# Menor o igual que\n",
    "10 <= 3.0   # False"
   ]
  },
  {
   "cell_type": "code",
   "execution_count": 81,
   "metadata": {},
   "outputs": [
    {
     "data": {
      "text/plain": [
       "True"
      ]
     },
     "execution_count": 81,
     "metadata": {},
     "output_type": "execute_result"
    }
   ],
   "source": [
    "# Igualdad\n",
    "6/3 == 2   # True"
   ]
  },
  {
   "cell_type": "code",
   "execution_count": 82,
   "metadata": {},
   "outputs": [
    {
     "data": {
      "text/plain": [
       "True"
      ]
     },
     "execution_count": 82,
     "metadata": {},
     "output_type": "execute_result"
    }
   ],
   "source": [
    "# Distintos\n",
    "\"Rojo\" != \"Verde\"   # True"
   ]
  },
  {
   "cell_type": "markdown",
   "metadata": {},
   "source": [
    "## `None`\n",
    "\n",
    "En Python tenemos un valor especial para indicar que algo (una variable, un parámetro, un objeto) no tiene un valor definido, su valor está ausente o indeterminado. Este valor es `None`.\n",
    "\n"
   ]
  },
  {
   "cell_type": "code",
   "execution_count": 83,
   "metadata": {},
   "outputs": [
    {
     "data": {
      "text/plain": [
       "True"
      ]
     },
     "execution_count": 83,
     "metadata": {},
     "output_type": "execute_result"
    }
   ],
   "source": [
    "# podemos inicializar una variable con None para indicar que aún no tiene valor asignado\n",
    "voluntario = None\n",
    "\n",
    "# comprobamos si tiene un valor asignado usando `is None`\n",
    "voluntario is None\n"
   ]
  },
  {
   "cell_type": "markdown",
   "metadata": {},
   "source": [
    "# Control de flujo\n",
    "\n",
    "Para empezar a resolver tareas más complejas necesitaremos poder indicar no solo qué queremos calcular, también cuándo y cómo ejecutar los cálculos. En Python disponemos de instrucciones para controlar el flujo de ejecución, similares a las que encontramos en otros lenguajes de programación.\n",
    "\n",
    "## Ejecución condicional\n",
    "La primera estructura de control que vamos a ver es la ejecución condicional.\n",
    "Esta estructura nos permite decidir si ejecutamos o no una operación (o varias) dependiendo de si una condición se cumple o no.\n",
    "\n",
    "En Python esto se consigue con la sentencia `if`, que sigue esta estructura básica\n",
    "\n",
    "```\n",
    "if condicion:\n",
    "    instruccion_1\n",
    "    ...\n",
    "    instruccion_n\n",
    "```\n"
   ]
  },
  {
   "cell_type": "code",
   "execution_count": 84,
   "metadata": {},
   "outputs": [
    {
     "name": "stdout",
     "output_type": "stream",
     "text": [
      "Tengo 100 euros.\n",
      "Voy a seguir mirando\n",
      "La chaqueta cuesta menos de 100 euros\n",
      "Puedo comprar la chaqueta\n",
      "Ya no miro más\n"
     ]
    }
   ],
   "source": [
    "precio_chaqueta = 59.95\n",
    "precio_abrigo = 140\n",
    "dinero_disponible = 100\n",
    "\n",
    "print(\"Tengo {} euros.\".format(dinero_disponible))\n",
    "\n",
    "# Comprobamos la condición\n",
    "if (precio_abrigo <= dinero_disponible):\n",
    "    # Si es cierta, ejecutamos este bloque (1) de instrucciones\n",
    "    print(\"El abrigo cuesta menos de {} euros\".format(dinero_disponible))\n",
    "    print(\"Puedo comprar el abrigo\")\n",
    "    # Este bloque (1) termina aquí\n",
    "print(\"Voy a seguir mirando\")\n",
    "\n",
    "# Comprobamos otra condición\n",
    "if (precio_chaqueta <= dinero_disponible):\n",
    "    # Si es cierta, ejecutamos este bloque (2) de instrucciones\n",
    "    print(\"La chaqueta cuesta menos de {} euros\".format(dinero_disponible))\n",
    "    print(\"Puedo comprar la chaqueta\")\n",
    "    # Este bloque (2) termina aquí\n",
    "print(\"Ya no miro más\")\n"
   ]
  },
  {
   "cell_type": "markdown",
   "metadata": {},
   "source": [
    "Sencillo, ¿verdad? Este ejemplo nos sirve además para explicar alguna característica adicional de Python. Prueba a ejecutarlo y repasemos lo que ocurre.\n",
    "\n",
    "Después de declarar las variables que vamos a usar, nos encontramos con el primer `if` y la condición que tiene que comprobar. La condición puede ser cualquier expresión que al evaluarla devuelva un valor booleano (verdadero o falso). La sentencia termina seguida de dos puntos (`:`). Este símbolo marca el fin de la expresión a evaluar, y a continuación el inicio de un bloque de una o más instrucciones que se ejecutarán si la condición se cumple.\n",
    "\n",
    "Como ves, el bloque de instrucciones dentro del `if` está indentado. En otros lenguajes de programación esto es solo cuestión de estilo y legibilidad. Sin embargo, en Python es obligatorio.\n",
    "\n",
    "> **Importante** La sangría o indentación es la forma que tiene Python de delimitar y agrupar bloques de código. Python considera que todas las líneas con un mismo nivel de indentación pertenecen a un mismo bloque o cuerpo de código. En cuanto detecta una línea con menos indentación, asume que el bloque ha terminado.\n",
    "\n",
    "Así pues, es muy importante que todas las líneas dentro de un mismo bloque estén indentadas de la misma forma. Se puede usar el tabulador o espacios, pero debe ser igual en todas las líneas. \n",
    "\n",
    "¡Pero no te asustes pensando que vas a tener que andar contando espacios en blanco todo el tiempo! Hoy en día la mayoría de los entornos y editores de código para Python se encargan de insertar y controlar la indentación adecuada de forma automática. Si detecta que alguna línea no encaja bien, te lo indicará.\n",
    "\n",
    "Volvamos a las sentencias `if`. En el ejemplo anterior comprobábamos una condición (`precio_abrigo <= dinero_disponible`) y después otra (`precio_chaqueta <= dinero_disponible`) de forma independiente. No hay ningún problema en hacerlo así. Pero en muchas ocasiones, las condiciones que tenemos que validar dependerán unas de otras o serán excluyentes entre sí. En Python podemos hacerlo así\n"
   ]
  },
  {
   "cell_type": "code",
   "execution_count": 85,
   "metadata": {},
   "outputs": [
    {
     "name": "stdout",
     "output_type": "stream",
     "text": [
      "Me voy a comprar la chaqueta\n"
     ]
    }
   ],
   "source": [
    "if precio_abrigo <= dinero_disponible:\n",
    "    # si se cumple la condición (1), ejecuta este bloque\n",
    "    print(\"Me voy a comprar el abrigo\")\n",
    "elif precio_chaqueta <= dinero_disponible:\n",
    "    # si no, si se cumple la condicion (2) ejecuta este bloque\n",
    "    print(\"Me voy a comprar la chaqueta\")\n",
    "else:\n",
    "    # si no se cumplió ninguna, ejecuta este bloque\n",
    "    print(\"Me voy con las manos vacías :-(\")\n",
    "\n"
   ]
  },
  {
   "cell_type": "markdown",
   "metadata": {},
   "source": [
    "Generalizando, esta estructura de código seguiría este esquema\n",
    "\n",
    "```\n",
    "if condicion_1:\n",
    "   bloque_1\n",
    "elif condicion_2:\n",
    "   bloque_2\n",
    "...\n",
    "elif condicion_n:\n",
    "   bloque_n\n",
    "else:\n",
    "   bloque_por_defecto\n",
    "```\n",
    "\n",
    "En este esquema, las sentencias se van evaluando de forma secuencial hasta que se encuentre una condición que se cumpla. Cada sentencia `elif condicion_i:` indica una condición alternativa a comprobar y sólo se evalua si no se han cumplido ninguna de las (i - 1) condiciones previas.\n",
    "\n",
    "La primera condición que resulte ser verdadera provocará que se ejecute su bloque correspondiente. Después se saltará hasta el final del grupo `if .. elif .. else`, sin comprobar ninguna otra condición.\n",
    "\n",
    "La sentencia `else:` nos sirve para indicar qué hacer cuando ninguna de las condiciones previas se ha cumplido.\n",
    "\n",
    "Podemos encadenar todas las sentencias `elif` que necesitemos. La sentencia `else` solamente puede aparecer una vez al final del grupo `if`."
   ]
  },
  {
   "cell_type": "markdown",
   "metadata": {},
   "source": [
    "\n",
    "## Bucles\n",
    "\n",
    "Los bucles nos permiten repetir o iterar la ejecución de un bloque de código mientras se cumpla una condición o dispongamos de valores que procesar.\n",
    "\n",
    "En Python disponemos de bucles `while` y bucles `for`.\n",
    "\n",
    "### Bucles `while`\n",
    "\n",
    "Estos bucles sirven para repetir la ejecución de un conjunto de instrucciones _mientras que_ una condición se siga cumpliendo.\n",
    "\n"
   ]
  },
  {
   "cell_type": "code",
   "execution_count": 86,
   "metadata": {},
   "outputs": [
    {
     "name": "stdout",
     "output_type": "stream",
     "text": [
      "La suma de los 10 primeros números naturales vale  55\n"
     ]
    }
   ],
   "source": [
    "i = 1\n",
    "suma = 0\n",
    "\n",
    "while i <= 10:\n",
    "    suma = suma + i\n",
    "    i = i + 1\n",
    "\n",
    "print(\"La suma de los 10 primeros números naturales vale \", suma)\n"
   ]
  },
  {
   "cell_type": "markdown",
   "metadata": {},
   "source": [
    "### Bucles `for`\n",
    "\n",
    "Los bucles `for` nos permiten iterar por una secuencia o lista de elementos, repitiendo la ejecución de un bloque de código para cada uno de ellos.\n"
   ]
  },
  {
   "cell_type": "code",
   "execution_count": 87,
   "metadata": {},
   "outputs": [
    {
     "name": "stdout",
     "output_type": "stream",
     "text": [
      "pera\n",
      "manzana\n",
      "ciruela\n",
      "cereza\n"
     ]
    }
   ],
   "source": [
    "lista_frutas = [\"pera\", \"manzana\", \"ciruela\", \"cereza\"]   # Así definimos una lista, en un rato te contamos más\n",
    "\n",
    "for fruta in lista_frutas:\n",
    "    print(fruta)\n"
   ]
  },
  {
   "cell_type": "markdown",
   "metadata": {},
   "source": [
    "En este ejemplo básico comenzamos por crear una lista de nombres de frutas. Podemos crear una lista incluyendo todos sus elementos separados por comas entre dos corchetes. Un poco más adelante en este tema te explicaremos más cosas sobre listas y otras estructuras de datos en Python.\n",
    "\n",
    "Como acabamos de explicar, el bucle `for` va a recorrer los elementos de `lista_frutas` uno tras otro, haciendo que la primera variable (`fruta`) vaya tomando cada uno de los valores y ejecutando el bloque de código con cada valor. Una vez que se han iterado todos los valores, se sale del bucle.\n",
    "\n",
    "Es común que nos encontremos con la necesidad de iterar sobre una secuencia de números. En estos casos contamos con una función muy útil que nos va a simplificar el trabajo: la función `range()`.\n"
   ]
  },
  {
   "cell_type": "code",
   "execution_count": 88,
   "metadata": {},
   "outputs": [
    {
     "name": "stdout",
     "output_type": "stream",
     "text": [
      "1\n",
      "2\n",
      "3\n",
      "4\n",
      "5\n",
      "6\n",
      "7\n",
      "8\n",
      "9\n",
      "45\n"
     ]
    }
   ],
   "source": [
    "suma = 0\n",
    "\n",
    "for i in range(1, 10):\n",
    "    print(i)\n",
    "    suma = suma + i\n",
    "\n",
    "print(suma)\n",
    "    "
   ]
  },
  {
   "cell_type": "markdown",
   "metadata": {},
   "source": [
    "La función `range()` permite generar una secuencia de numeros entre dos valores de arranque y parada. Si has probado el ejemplo, habrás visto que el valor de arranque sí se incluye en la secuencia, mientras que el valor de parada queda excluido.\n",
    "\n",
    "> **+Info** Este comportamiento no es una decisión arbitraria. Tiene que ver con la forma en que funcionan los índices para acceder a los elementos de una secuencia (o a los caracteres de una cadena, como ya hemos visto). Profundizaremos un poco más enseguida, cuando estudiemos los tipos de datos compuestos. \n",
    "\n",
    "Podemos usar la función `range()` con un único valor. En ese caso, lo tomará como si fuera el valor de parada y usará el cero como valor de arranque por defecto. También es posible añadir un argumento más para indicar el tamaño del paso o incremento para generar la secuencia de números."
   ]
  },
  {
   "cell_type": "code",
   "execution_count": 90,
   "metadata": {},
   "outputs": [
    {
     "name": "stdout",
     "output_type": "stream",
     "text": [
      "\n",
      "1\n",
      "22\n",
      "333\n",
      "4444\n"
     ]
    }
   ],
   "source": [
    "# generamos una secuencia indicando solo el valor de parada\n",
    "for i in range(5):\n",
    "    print(str(i) * i)   # str(x) crea una cadena a partir de x"
   ]
  },
  {
   "cell_type": "code",
   "execution_count": 91,
   "metadata": {},
   "outputs": [
    {
     "name": "stdout",
     "output_type": "stream",
     "text": [
      "1\n",
      "3\n",
      "5\n",
      "7\n",
      "9\n"
     ]
    }
   ],
   "source": [
    "# generamos una secuencia indicando que el paso debe ir\n",
    "# de 2 en 2, en lugar de 1 en 1\n",
    "for j in range(1, 10, 2):\n",
    "    print(j)"
   ]
  },
  {
   "cell_type": "markdown",
   "metadata": {},
   "source": [
    "## `break`, `continue` y bucles anidados\n",
    "\n",
    "Naturalmente podemos anidar bucles dentro de otros cuando lo necesitemos en nuestros programas.\n"
   ]
  },
  {
   "cell_type": "code",
   "execution_count": 92,
   "metadata": {},
   "outputs": [
    {
     "name": "stdout",
     "output_type": "stream",
     "text": [
      "1\n",
      "12\n",
      "123\n",
      "1234\n"
     ]
    }
   ],
   "source": [
    "for i in range(1, 5):        # bucle exterior\n",
    "    for j in range(1, i+1):  # bucle interior\n",
    "        print(j, end = '')   # `end` indica el caracter a usar al final de la cadena\n",
    "    print()                  # sin argumentos solo imprime un salto de linea\n"
   ]
  },
  {
   "cell_type": "markdown",
   "metadata": {},
   "source": [
    "Sin embargo, en algunas ocasiones querremos alterar el flujo normal de ejecución de un bucle. Para ello disponemos de las sentencias `break` y `continue`.\n",
    "\n",
    "La sentencia `break` sirve para interrumpir la ejecución del bucle más interno en el que se encuentre y devolver el flujo fuera del bucle inmediatamente a la siguente instrucción. Lo entenderás más fácil con un ejemplo:"
   ]
  },
  {
   "cell_type": "code",
   "execution_count": null,
   "metadata": {
    "collapsed": true
   },
   "outputs": [],
   "source": [
    "# calcular qué números son primos entre 10 y 19\n",
    "for n in range(10, 20):            # Bucle Externo: iteramos de 10 a 19\n",
    "    print(\"n =\", n)\n",
    "    tiene_divisor = False          #   al inicio, aun no hemos encontrado un divisor de n\n",
    "    for d in range(2, n):          # Bucle Interno: nums entre 2 y (n-1) ¿son divisores de n?\n",
    "        print(\"* d =\", d)\n",
    "        if n % d == 0:             #   si d es divisor de n, el resto es cero\n",
    "            tiene_divisor = True   #   en este caso n no es primo, tiene un divisor\n",
    "            break                  #   podemos pasar al siguiente numero n (saltar a bucle externo)\n",
    "    if not tiene_divisor:          # si no hemos encontrado divisor en el bucle interno\n",
    "        print(\"\\t>\",n, 'es primo') # entonces n es primo!\n"
   ]
  },
  {
   "cell_type": "markdown",
   "metadata": {},
   "source": [
    "La orden `break` interrumpe la ejecución y sale del bucle interno (donde buscamos divisores para n) en cuanto encontramos el primer divisor. Si probamos todos los posibles candidatos a divisor en el bucle interno y ninguno es un divisor válido, entonces el bucle interno terminará normalmente y podremos decir que n es primo.\n",
    "\n",
    "Para casos así en los que queremos hacer algo cuando el bucle termina normalmente (al agotar todos los valores), Python nos permite usar la sentencia `else`. Sí, como lo oyes (bueno, como lo lees), los bucles en Python también pueden tener `else`. Vamos a usarlo para ajustar el ejemplo anterior"
   ]
  },
  {
   "cell_type": "code",
   "execution_count": null,
   "metadata": {
    "collapsed": true
   },
   "outputs": [],
   "source": [
    "# calcular qué números son primos entre 10 y 19\n",
    "for n in range(10, 20):            # Bucle Externo: iteramos de 10 a 19\n",
    "    print(\"n =\", n)\n",
    "    for d in range(2, n):          # Bucle Interno: nums entre 2 y (n-1) ¿son divisores de n?\n",
    "        print(\"* d =\", d)\n",
    "        if n % d == 0:             #   si d es divisor de n, el resto es cero\n",
    "            break                  #   luego n no es primo, pasar al siguiente numero n\n",
    "    else:                          # Else: solo llegamos al agotar la secuencia del Bucle Interno\n",
    "        print(\"\\t>\",n, 'es primo') # entonces no hemos encontrado divisor, y n es primo!\n"
   ]
  },
  {
   "cell_type": "markdown",
   "metadata": {},
   "source": [
    "¿Ves las diferencias en el código? Ya no necesitamos usar la variable `tiene_divisor` para controlar si hemos encontrado uno o no. Tampoco nos hace falta el `if` al terminar el bucle interno. La sentencia `else` ya se encarga de ejecutar su bloque solamente si hemos agotado la iteración del bucle hasta el final. El código es más sencillo, y el resultado es el mismo.\n",
    "\n",
    "Para terminar con los bucles, la sentencia `continue` nos permite saltar a la siguiente iteración sin salir del bucle, pero descartando el resto de cálculos pendientes en el ciclo actual."
   ]
  },
  {
   "cell_type": "code",
   "execution_count": null,
   "metadata": {
    "collapsed": true
   },
   "outputs": [],
   "source": [
    "# queremos calcular la nota media de un alumno\n",
    "calificaciones = [\"10\", \"notable\", None, \"8\", \"6\"]   # Tenemos una lista de notas de asignaturas\n",
    "                                                     # algunas son numéricas, otras texto\n",
    "                                                     # Hay un 'None', esto representa un valor ausente\n",
    "\n",
    "suma = n = 0                                         # Inicializamos variables auxiliares\n",
    "\n",
    "for nota in calificaciones:                          # Recorremos las calificaciones\n",
    "    if nota is None:                                 #   si la nota está ausente,\n",
    "        continue                                     #      pasamos a la siguiente\n",
    "    elif not nota.isnumeric():                       #   si la nota no es un número\n",
    "        continue                                     #      pasamos a la siguiente también\n",
    "    else:                                            #   en caso contrario\n",
    "        suma = suma + float(nota)                    #      podemos computar la nota\n",
    "        n = n + 1                                    #      para la media\n",
    "\n",
    "print(\"La nota media es\", (suma/n))\n"
   ]
  },
  {
   "cell_type": "markdown",
   "metadata": {},
   "source": [
    "\n",
    "> **El experto opina** Para algunos programadores, el uso de las sentencias `break` y `continue` es desaconsejable porque interrumpe el flujo normal del código, puede hacerlo más difícil de entender y en general siempre es posible hacer lo mismo añadiendo condicionales. En mi opinión, hay casos en los que resultan muy útiles y no solo no enturbian el código, si no que lo hacen más sucinto y claro de entender. Entonces, ¿cuándo usarlas? Bueno, es una cuestión de gustos y experiencia. Mi recomendación es que si simplifica el código y no lo vuelve más confuso para alguien que lo lea, no hay problema en utilizar `break` o `continue`.\n",
    "\n",
    "> Y si, un código legible y fácil de entender por otra persona es algo muy recomendable. Tus programas no solo los va a ejecutar una máquina. Normalmente tú mismo tendrás que volver a modificarlo tarde o temprano. Por no hablar de otras personas con las que colabores. Programar un código elegante y comprensible es una gran virtud. ¡Y Python es un lenguaje fantástico para conseguirlo! \n",
    "\n"
   ]
  },
  {
   "cell_type": "markdown",
   "metadata": {},
   "source": [
    "# Estructuras de datos\n",
    "\n",
    "Python incorpora varios tipos compuestos de datos de forma nativa. Podemos ver un tipo compuesto como una estructura de datos que nos permite almacenar una colección de elementos o valores. Si has trabajado con otros lenguajes, un ejemplo sencillo sería un vector o _array_ de elementos. Python nos ofrece más alternativas, con características diferentes dependiendo de cómo se almacenan los valores dentro de la estructura y de qué operaciones podemos hacer.\n",
    "\n",
    "## Secuencias\n",
    "\n",
    "Empezaremos por las estructuras de tipo _secuencial_. Son tipos de datos compuestos por una serie de elementos, preservando el orden o posición en el que se añaden a la estructura. Por este motivo, se dice que son tipos _ordenados_.\n",
    "\n",
    "> **Importante** Como a veces se presta a confusión, vamos a recalcarlo. Aquí _ordenado_ no significa que conforme añades elementos, estos se reordenen (p.ej. numéricamente o alfabéticamente). Solo hace referencia a que conservan el orden en el que son añadidos, es decir, su _orden posicional_. \n",
    "\n",
    "Todos los subtipos de secuencias en Python tienen en común varias operaciones, como el acceso indexado o por posición, el _rebanado_, la concatenación o la pertenencia.\n",
    "\n",
    "### Listas\n",
    "\n",
    "En Python, las listas son probablemente el tipo compuesto de uso más extendido por su versatilidad y sencillez.\n",
    "Una lista es una secuencia ordenada de elementos. A diferencia de los vectores o _arrays_ de otros lenguajes, en una lista se pueden mezclar elementos de tipos distintos sin problema. Aunque lo habitual es que todos los elementos tengan el mismo tipo.\n",
    "\n",
    "La forma común de definir una lista es incluyendo los elementos separados por comas entre un par de corchetes.\n"
   ]
  },
  {
   "cell_type": "code",
   "execution_count": 94,
   "metadata": {
    "collapsed": true
   },
   "outputs": [],
   "source": [
    "# creamos una lista vacía usando un par de corchetes sin ningún elemento dentro\n",
    "lista_vacia = []"
   ]
  },
  {
   "cell_type": "code",
   "execution_count": 98,
   "metadata": {
    "collapsed": true
   },
   "outputs": [],
   "source": [
    "# podemos crear una lista de números\n",
    "lista_nums = [1, 6, 2, 5, 3, 4]"
   ]
  },
  {
   "cell_type": "code",
   "execution_count": 99,
   "metadata": {
    "collapsed": true
   },
   "outputs": [],
   "source": [
    "# o una lista de cadenas de texto\n",
    "lista_frutas = [\"pera\", \"manzana\", \"ciruela\", \"cereza\"]"
   ]
  },
  {
   "cell_type": "code",
   "execution_count": 100,
   "metadata": {
    "collapsed": true
   },
   "outputs": [],
   "source": [
    "# o una lista mezclando valores de cualquier tipo\n",
    "lista_mezcla = [10, \"veinte\", 30.0, \"cuarenta\"]"
   ]
  },
  {
   "cell_type": "code",
   "execution_count": 101,
   "metadata": {
    "collapsed": true
   },
   "outputs": [],
   "source": [
    "# incluso podemos meter una lista como elemento dentro de otra lista\n",
    "listas_anidadas = [\"Aqui hay\", [\"listas\", \"anidadas\"], [1, 2]]"
   ]
  },
  {
   "cell_type": "markdown",
   "metadata": {},
   "source": [
    "Si te has fijado, la última lista de ejemplo tiene listas anidadas como elementos. ¿Cuańtos elementos dirías que tiene la lista de nivel superior? ¿Serías capaz de identificarlos? Podemos usar lo que hemos aprendido de bucles para comprobarlo"
   ]
  },
  {
   "cell_type": "code",
   "execution_count": 102,
   "metadata": {},
   "outputs": [
    {
     "name": "stdout",
     "output_type": "stream",
     "text": [
      "Aqui hay\n",
      "['listas', 'anidadas']\n",
      "[1, 2]\n"
     ]
    }
   ],
   "source": [
    "for elemento in listas_anidadas:\n",
    "    print(elemento)"
   ]
  },
  {
   "cell_type": "markdown",
   "metadata": {},
   "source": [
    "Para acceder a los \n",
    "elementos de una lista por su índice o posición, ponemos el índice entre corchetes también.\n",
    "\n",
    "El primer elemento de una lista (y de cualquier secuencia) tiene el índice cero. Así que si una lista tiene _n_ elementos, para acceder al último tendremos que usar el índice _(n - 1)_."
   ]
  },
  {
   "cell_type": "code",
   "execution_count": 103,
   "metadata": {},
   "outputs": [
    {
     "data": {
      "text/plain": [
       "6"
      ]
     },
     "execution_count": 103,
     "metadata": {},
     "output_type": "execute_result"
    }
   ],
   "source": [
    "# Longitud de la lista\n",
    "len(lista_nums)"
   ]
  },
  {
   "cell_type": "code",
   "execution_count": 104,
   "metadata": {},
   "outputs": [
    {
     "data": {
      "text/plain": [
       "3"
      ]
     },
     "execution_count": 104,
     "metadata": {},
     "output_type": "execute_result"
    }
   ],
   "source": [
    "# Longitud de la lista anidada: cada \"sub-lista\" interna es vista como un único elemento\n",
    "len(listas_anidadas)"
   ]
  },
  {
   "cell_type": "code",
   "execution_count": 105,
   "metadata": {},
   "outputs": [
    {
     "data": {
      "text/plain": [
       "1"
      ]
     },
     "execution_count": 105,
     "metadata": {},
     "output_type": "execute_result"
    }
   ],
   "source": [
    "# Seleccionar un elemento\n",
    "lista_nums[0]                     # El primer valor lo obtenemos con el índice cero"
   ]
  },
  {
   "cell_type": "code",
   "execution_count": 106,
   "metadata": {},
   "outputs": [
    {
     "data": {
      "text/plain": [
       "4"
      ]
     },
     "execution_count": 106,
     "metadata": {},
     "output_type": "execute_result"
    }
   ],
   "source": [
    "lista_nums[5]                     # El elemento para el índice 5"
   ]
  },
  {
   "cell_type": "code",
   "execution_count": 107,
   "metadata": {},
   "outputs": [
    {
     "data": {
      "text/plain": [
       "4"
      ]
     },
     "execution_count": 107,
     "metadata": {},
     "output_type": "execute_result"
    }
   ],
   "source": [
    "lista_nums[len(lista_nums) - 1]   # El último elemento está en LEN - 1"
   ]
  },
  {
   "cell_type": "code",
   "execution_count": 108,
   "metadata": {},
   "outputs": [
    {
     "data": {
      "text/plain": [
       "['listas', 'anidadas']"
      ]
     },
     "execution_count": 108,
     "metadata": {},
     "output_type": "execute_result"
    }
   ],
   "source": [
    "# Al seleccionar en una lista anidada\n",
    "listas_anidadas[1]                # El elemento devuelto puede ser otra lista"
   ]
  },
  {
   "cell_type": "code",
   "execution_count": 109,
   "metadata": {},
   "outputs": [
    {
     "data": {
      "text/plain": [
       "4"
      ]
     },
     "execution_count": 109,
     "metadata": {},
     "output_type": "execute_result"
    }
   ],
   "source": [
    "# Si usamos índices negativos, empezamos a contar desde el final\n",
    "lista_nums[-1]                    # Devuelve el último elemento de la lista"
   ]
  },
  {
   "cell_type": "code",
   "execution_count": 110,
   "metadata": {},
   "outputs": [
    {
     "data": {
      "text/plain": [
       "1"
      ]
     },
     "execution_count": 110,
     "metadata": {},
     "output_type": "execute_result"
    }
   ],
   "source": [
    "lista_nums[-len(lista_nums)]      # Devuelve el primer elemento de la lista"
   ]
  },
  {
   "cell_type": "markdown",
   "metadata": {},
   "source": [
    "Para aclarar mejor cómo funcionan los índices para acceder a un elemento, imagina que tenemos la lista `[ 'A', 'B', 'C', 'D', 'E', 'F' ]`. La siguente figura muestra a qué posición referencia un índice positivo o un índice negativo.\n",
    "\n",
    "<img src=\"./img/fig_lista_indices.png\" width=250px />\n",
    "\n",
    "En lugar de ver los índices _\"apuntando\"_ a cada elemento, pensemos que los índices marcan las posiciones _entre elementos_ de la secuencia. En este caso, el índice 6 referencia una posición fuera de los límites de la lista y produciría un error.\n",
    "\n",
    "Ahora es más fácil ver cómo podemos seleccionar una _\"rebanada\"_ de elementos contiguos de una lista. Indicamos el índice o posición inicial desde donde empezamos la selección y la posición final hasta donde queremos llegar, escribiéndolos dentro de los corchetes separados por dos puntos (`:`). En las rebanadas, el elemento correspondiente al límite inicial siempre se incluye, pero el elemento en el límite final queda excluído."
   ]
  },
  {
   "cell_type": "code",
   "execution_count": 111,
   "metadata": {
    "collapsed": true
   },
   "outputs": [],
   "source": [
    "letras = ['A','B','C','D','E','F']"
   ]
  },
  {
   "cell_type": "code",
   "execution_count": 112,
   "metadata": {},
   "outputs": [
    {
     "data": {
      "text/plain": [
       "['A', 'B']"
      ]
     },
     "execution_count": 112,
     "metadata": {},
     "output_type": "execute_result"
    }
   ],
   "source": [
    "# Seleccionamos una \"rebanada\" con los dos primeros elementos\n",
    "letras[0:2]"
   ]
  },
  {
   "cell_type": "code",
   "execution_count": 113,
   "metadata": {},
   "outputs": [
    {
     "data": {
      "text/plain": [
       "['C', 'D', 'E']"
      ]
     },
     "execution_count": 113,
     "metadata": {},
     "output_type": "execute_result"
    }
   ],
   "source": [
    "letras[2:5]   "
   ]
  },
  {
   "cell_type": "code",
   "execution_count": 114,
   "metadata": {},
   "outputs": [
    {
     "data": {
      "text/plain": [
       "['C', 'D', 'E', 'F']"
      ]
     },
     "execution_count": 114,
     "metadata": {},
     "output_type": "execute_result"
    }
   ],
   "source": [
    "# Si no especificamos el segundo índice, seleccionamos hasta el final\n",
    "letras[2:]"
   ]
  },
  {
   "cell_type": "code",
   "execution_count": 115,
   "metadata": {},
   "outputs": [
    {
     "data": {
      "text/plain": [
       "['A', 'B', 'C', 'D']"
      ]
     },
     "execution_count": 115,
     "metadata": {},
     "output_type": "execute_result"
    }
   ],
   "source": [
    "# y si no especificamos el primer índice, seleccionamos desde el principio\n",
    "letras[:4]    "
   ]
  },
  {
   "cell_type": "code",
   "execution_count": 116,
   "metadata": {},
   "outputs": [
    {
     "data": {
      "text/plain": [
       "['E', 'F']"
      ]
     },
     "execution_count": 116,
     "metadata": {},
     "output_type": "execute_result"
    }
   ],
   "source": [
    "# También podemos usar la notación de índices negativos.\n",
    "# Seleccionamos desde la penúltima posición (incluída) hasta el final\n",
    "letras[-2:]   "
   ]
  },
  {
   "cell_type": "code",
   "execution_count": 117,
   "metadata": {},
   "outputs": [
    {
     "data": {
      "text/plain": [
       "['A', 'B', 'C', 'D']"
      ]
     },
     "execution_count": 117,
     "metadata": {},
     "output_type": "execute_result"
    }
   ],
   "source": [
    "# Seleccionamos desde el inicio hasta la penúltima posición (excluída)\n",
    "letras[:-2]   "
   ]
  },
  {
   "cell_type": "code",
   "execution_count": 118,
   "metadata": {},
   "outputs": [
    {
     "data": {
      "text/plain": [
       "['A', 'B', 'C', 'D', 'E', 'F']"
      ]
     },
     "execution_count": 118,
     "metadata": {},
     "output_type": "execute_result"
    }
   ],
   "source": [
    "# Como el primer índice siempre se incluye \n",
    "# y el segundo siempre se excluye, \n",
    "# podemos reconstruir la lista así\n",
    "letras[:2] + letras[2:]"
   ]
  },
  {
   "cell_type": "markdown",
   "metadata": {},
   "source": [
    "Las listas sí son _mutables_, es decir, sí podemos modificar el contenido de los elementos de una lista"
   ]
  },
  {
   "cell_type": "code",
   "execution_count": 119,
   "metadata": {},
   "outputs": [
    {
     "name": "stdout",
     "output_type": "stream",
     "text": [
      "['pera', 'manzana', 'ciruela', 'cereza']\n"
     ]
    }
   ],
   "source": [
    "print(lista_frutas)"
   ]
  },
  {
   "cell_type": "code",
   "execution_count": 120,
   "metadata": {},
   "outputs": [
    {
     "name": "stdout",
     "output_type": "stream",
     "text": [
      "['pera', 'uva', 'ciruela', 'cereza']\n"
     ]
    }
   ],
   "source": [
    "# modificamos un elemento individual\n",
    "lista_frutas[1] = \"uva\"\n",
    "\n",
    "print(lista_frutas)"
   ]
  },
  {
   "cell_type": "code",
   "execution_count": null,
   "metadata": {
    "collapsed": true
   },
   "outputs": [],
   "source": [
    "# también podemos reemplazar los valores de una \"rebanada\"\n",
    "lista_frutas[2:] = [\"naranja\", \"aguacate\"]\n",
    "\n",
    "print(lista_frutas)"
   ]
  },
  {
   "cell_type": "code",
   "execution_count": 121,
   "metadata": {},
   "outputs": [
    {
     "name": "stdout",
     "output_type": "stream",
     "text": [
      "['pera', 'cereza']\n"
     ]
    }
   ],
   "source": [
    "# o eliminar algunos valores, reemplazando con la lista vacía\n",
    "lista_frutas[1:3] = []\n",
    "\n",
    "print(lista_frutas)"
   ]
  },
  {
   "cell_type": "code",
   "execution_count": 123,
   "metadata": {},
   "outputs": [
    {
     "name": "stdout",
     "output_type": "stream",
     "text": [
      "[]\n"
     ]
    }
   ],
   "source": [
    "# o vaciarla entera\n",
    "lista_frutas[:] = []\n",
    "print(lista_frutas)"
   ]
  },
  {
   "cell_type": "markdown",
   "metadata": {},
   "source": [
    "También podemos concatenar listas o replicarlas"
   ]
  },
  {
   "cell_type": "code",
   "execution_count": 124,
   "metadata": {},
   "outputs": [
    {
     "data": {
      "text/plain": [
       "['a', 'b', 'c', 100, 200, 300]"
      ]
     },
     "execution_count": 124,
     "metadata": {},
     "output_type": "execute_result"
    }
   ],
   "source": [
    "lista_1 = ['a', 'b', 'c']\n",
    "lista_2 = [100, 200, 300]\n",
    "\n",
    "# concatenación\n",
    "lista_1 + lista_2"
   ]
  },
  {
   "cell_type": "code",
   "execution_count": 125,
   "metadata": {},
   "outputs": [
    {
     "data": {
      "text/plain": [
       "['a', 'b', 'c', 'a', 'b', 'c', 'a', 'b', 'c']"
      ]
     },
     "execution_count": 125,
     "metadata": {},
     "output_type": "execute_result"
    }
   ],
   "source": [
    "# replicar la lista tres veces\n",
    "3 * lista_1"
   ]
  },
  {
   "cell_type": "markdown",
   "metadata": {},
   "source": [
    "Y podemos extraer los elementos de una lista y asignaros a distintas variables de forma sencilla con una sola instrucción"
   ]
  },
  {
   "cell_type": "code",
   "execution_count": 126,
   "metadata": {},
   "outputs": [
    {
     "name": "stdout",
     "output_type": "stream",
     "text": [
      "100\n",
      "200\n",
      "300\n"
     ]
    }
   ],
   "source": [
    "x, y, z = lista_2\n",
    "print(x)\n",
    "print(y)\n",
    "print(z)"
   ]
  },
  {
   "cell_type": "markdown",
   "metadata": {},
   "source": [
    "Las listas en Python incluyen varios métodos para consultarlas y modificarlas"
   ]
  },
  {
   "cell_type": "code",
   "execution_count": 127,
   "metadata": {},
   "outputs": [
    {
     "name": "stdout",
     "output_type": "stream",
     "text": [
      "['a', 'b', 'c', 'd']\n"
     ]
    }
   ],
   "source": [
    "# añadir un elemento al final de la lista\n",
    "lista_1.append('d')\n",
    "print(lista_1)"
   ]
  },
  {
   "cell_type": "code",
   "execution_count": 128,
   "metadata": {},
   "outputs": [
    {
     "name": "stdout",
     "output_type": "stream",
     "text": [
      "d\n",
      "['a', 'b', 'c']\n"
     ]
    }
   ],
   "source": [
    "# extraer el último elemento de la lista\n",
    "ultimo_valor = lista_1.pop()\n",
    "print(ultimo_valor)\n",
    "print(lista_1)"
   ]
  },
  {
   "cell_type": "code",
   "execution_count": 129,
   "metadata": {},
   "outputs": [
    {
     "name": "stdout",
     "output_type": "stream",
     "text": [
      "['e', 'a', 'c', 'b', 'c']\n"
     ]
    }
   ],
   "source": [
    "# insertar un elemento delante de una posición concreta\n",
    "\n",
    "# inserta 'e' en la posición cero (al principio)\n",
    "lista_1.insert(0, 'e')\n",
    "# inserta 'f' en la posición 2\n",
    "lista_1.insert(2, 'c')\n",
    "print(lista_1)"
   ]
  },
  {
   "cell_type": "code",
   "execution_count": 130,
   "metadata": {},
   "outputs": [
    {
     "data": {
      "text/plain": [
       "3"
      ]
     },
     "execution_count": 130,
     "metadata": {},
     "output_type": "execute_result"
    }
   ],
   "source": [
    "# buscar en qué posición está un elemento \n",
    "# (si no existe dará un error)\n",
    "lista_1.index('b')"
   ]
  },
  {
   "cell_type": "code",
   "execution_count": 131,
   "metadata": {},
   "outputs": [
    {
     "data": {
      "text/plain": [
       "2"
      ]
     },
     "execution_count": 131,
     "metadata": {},
     "output_type": "execute_result"
    }
   ],
   "source": [
    "# contar el número de veces que aparece un elemento\n",
    "lista_1.count('c')"
   ]
  },
  {
   "cell_type": "code",
   "execution_count": 132,
   "metadata": {},
   "outputs": [
    {
     "name": "stdout",
     "output_type": "stream",
     "text": [
      "['e', 'a', 'b', 'c']\n"
     ]
    }
   ],
   "source": [
    "# borrar el primer elemento de la lista \n",
    "# que coincida con el valor dado\n",
    "lista_1.remove('c')\n",
    "print(lista_1)"
   ]
  },
  {
   "cell_type": "code",
   "execution_count": 133,
   "metadata": {},
   "outputs": [
    {
     "name": "stdout",
     "output_type": "stream",
     "text": [
      "['a', 'b', 'c', 'e']\n"
     ]
    }
   ],
   "source": [
    "# ordenar los valores de la lista \n",
    "# (dependiendo del tipo: alfabéticamente, numéricamente...)\n",
    "lista_1.sort()\n",
    "print(lista_1)"
   ]
  },
  {
   "cell_type": "code",
   "execution_count": 134,
   "metadata": {},
   "outputs": [
    {
     "name": "stdout",
     "output_type": "stream",
     "text": [
      "['e', 'c', 'b', 'a']\n"
     ]
    }
   ],
   "source": [
    "# invertir el orden de la lista\n",
    "lista_1.reverse()\n",
    "print(lista_1)"
   ]
  },
  {
   "cell_type": "code",
   "execution_count": 135,
   "metadata": {},
   "outputs": [
    {
     "name": "stdout",
     "output_type": "stream",
     "text": [
      "['e', 'c', 'a']\n"
     ]
    }
   ],
   "source": [
    "# borrar un elemento indicando la posición\n",
    "del lista_1[2]\n",
    "print(lista_1)"
   ]
  },
  {
   "cell_type": "code",
   "execution_count": 136,
   "metadata": {},
   "outputs": [
    {
     "name": "stdout",
     "output_type": "stream",
     "text": [
      "[]\n"
     ]
    }
   ],
   "source": [
    "# limpiar todos los elementos de la lista\n",
    "lista_1.clear()\n",
    "print(lista_1)"
   ]
  },
  {
   "cell_type": "markdown",
   "metadata": {},
   "source": [
    "Como ves, no te engañábamos cuando decíamos que las listas son muy versátiles y fáciles de usar."
   ]
  },
  {
   "cell_type": "markdown",
   "metadata": {},
   "source": [
    "#### Más sobre variables, listas y mutabilidad\n",
    "\n",
    "Acabas de ver cómo crear y manipular el contenido de listas en Python. Antes de continuar, vamos a aprovechar para explicar un detalle más sobre las variables, su contenido y lo que ocurre al hacer asignaciones en Python.\n",
    "\n",
    "Imagina el siguiente caso habitual. Tienes una variable (pongamos `lista1`) y la inicializas con unos valores cualesquiera. Más adelante, tal vez tras hacer varios cálculos y operaciones con la primera variable, necesitas crear otra nueva variable (digamos `lista2`) e inicializarla con la misma lista que tenga la primera en ese momento. Así que le asignas la primera variable a la última."
   ]
  },
  {
   "cell_type": "code",
   "execution_count": 137,
   "metadata": {},
   "outputs": [
    {
     "name": "stdout",
     "output_type": "stream",
     "text": [
      "[1, 2, 3]\n"
     ]
    },
    {
     "data": {
      "text/plain": [
       "True"
      ]
     },
     "execution_count": 137,
     "metadata": {},
     "output_type": "execute_result"
    }
   ],
   "source": [
    "# Creamos e inicializamos la primera variable\n",
    "lista1 = [1, 2, 3]\n",
    "\n",
    "# Hacemos nuestras operaciones ...\n",
    "\n",
    "# Y ahora necesitamos crear una nueva variable\n",
    "# e inicializarla con la misma lista que tenga lista1\n",
    "lista2 = lista1\n",
    "print(lista2)                          # [1, 2, 3]\n",
    "\n",
    "# Obviamente, ahora deben tener el mismo valor\n",
    "lista1 == lista2                       # True"
   ]
  },
  {
   "cell_type": "markdown",
   "metadata": {},
   "source": [
    "Obviamente, tras la asignación, ambas variables tienen el mismo valor. Pero es que, en realidad, no solo tienen el mismo valor, si no que _apuntan_ al mismo contenido. Ambas son dos nombres o _referencias_ al mismo dato, a la misma lista, y no dos copias distintas con los mismos valores.\n",
    "\n",
    "Una variable en Python no deja de ser eso, un nombre o _referencia_ a un valor o estructura de datos que está almacenada de algún modo en memoria. En Python, la operación de asignación de una variable a otra _no copia_ el contenido, si no que define un nuevo nombre o _referencia_ al mismo contenido que la variable original.\n",
    "\n",
    "Podemos ver que dos variables representan el mismo objeto con el operador `is`.\n",
    "\n",
    "¿Y esto qué implica? Piénsalo... Si modificamos un elemento en la segunda variable, ¿qué ocurre con la primera?\n",
    "\n",
    "Como ambas variables no son más que nombres o referencias para la misma lista en memoria, la primera variable mostrará también el nuevo valor."
   ]
  },
  {
   "cell_type": "code",
   "execution_count": 138,
   "metadata": {},
   "outputs": [
    {
     "data": {
      "text/plain": [
       "True"
      ]
     },
     "execution_count": 138,
     "metadata": {},
     "output_type": "execute_result"
    }
   ],
   "source": [
    "# Comprobamos que las dos variables \n",
    "# representan el mismo objeto\n",
    "lista2 is lista1                       # True"
   ]
  },
  {
   "cell_type": "code",
   "execution_count": 139,
   "metadata": {},
   "outputs": [
    {
     "name": "stdout",
     "output_type": "stream",
     "text": [
      "[1, 99, 3]\n"
     ]
    }
   ],
   "source": [
    "# Modificamos lista2\n",
    "lista2[1] = 99\n",
    "\n",
    "# Y vemos que lista1 nos devuelve \n",
    "# el mismo contenido modificado\n",
    "print(lista1)                          # [1, 99, 3]"
   ]
  },
  {
   "cell_type": "markdown",
   "metadata": {},
   "source": [
    "No obstante, si en lugar de modificar el valor de los elementos de la lista, asignamos una lista distinta, estaremos definiendo un nuevo objeto o estructura de datos. La variable usada pasará a nombrar ese nuevo objeto independiente; las dos variables ya no serán _referencias_ al mismo contenido.\n"
   ]
  },
  {
   "cell_type": "code",
   "execution_count": 140,
   "metadata": {},
   "outputs": [
    {
     "data": {
      "text/plain": [
       "False"
      ]
     },
     "execution_count": 140,
     "metadata": {},
     "output_type": "execute_result"
    }
   ],
   "source": [
    "# Si asignamos una nueva lista a la segunda variable\n",
    "lista2 = [7, 8, 9]\n",
    "\n",
    "# Dejan de referenciar al mismo contenido\n",
    "lista2 is lista1                     # False"
   ]
  },
  {
   "cell_type": "code",
   "execution_count": 141,
   "metadata": {},
   "outputs": [
    {
     "data": {
      "text/plain": [
       "False"
      ]
     },
     "execution_count": 141,
     "metadata": {},
     "output_type": "execute_result"
    }
   ],
   "source": [
    "# Incluso aunque usemos la primera variable \n",
    "# en la expresión para definir de la segunda\n",
    "lista2 = 2 * lista1         # Replicación de la primera lista\n",
    "\n",
    "# Las estructuras de datos que referencian son distintas\n",
    "lista2 is lista1            # False"
   ]
  },
  {
   "cell_type": "markdown",
   "metadata": {},
   "source": [
    "A la hora de trabajar con estructuras de datos mutables (como las listas), deberás tener todo esto en cuenta para evitar modificar accidentalmente el contenido de una variable al manipular una segunda.\n",
    "\n",
    "Si necesitas una copia idéntica pero independiente de una lista, puedes usar el método `copy()`."
   ]
  },
  {
   "cell_type": "code",
   "execution_count": 142,
   "metadata": {},
   "outputs": [
    {
     "data": {
      "text/plain": [
       "True"
      ]
     },
     "execution_count": 142,
     "metadata": {},
     "output_type": "execute_result"
    }
   ],
   "source": [
    "lista1 = [1, 2, 3]\n",
    "\n",
    "# Con copy() creas una nueva lista, copia exacta de la original,\n",
    "# pero independiente\n",
    "lista2 = lista1.copy()\n",
    "\n",
    "# Los valores en las listas son iguales\n",
    "lista2 == lista1                     # True"
   ]
  },
  {
   "cell_type": "code",
   "execution_count": 143,
   "metadata": {},
   "outputs": [
    {
     "data": {
      "text/plain": [
       "False"
      ]
     },
     "execution_count": 143,
     "metadata": {},
     "output_type": "execute_result"
    }
   ],
   "source": [
    "# ¡¡Pero no son el mismo objeto!!\n",
    "lista2 is lista1                     # False"
   ]
  },
  {
   "cell_type": "markdown",
   "metadata": {},
   "source": [
    "\n",
    "### Tuplas\n",
    "\n",
    "Las tuplas son un tipo de datos similar a las listas. Como ellas, las tuplas están formadas por una secuencia de elementos ordenados. Las diferencias principales son dos:\n",
    "- Desde el punto de vista _sintáctico_, se definen usando paréntesis en lugar de corchetes (esta es fácil)\n",
    "- Desde el punto de vista _semántico_, **las tuplas son inmutables**\n",
    "\n",
    "¿Qué queremos decir con _inmutables_? Pues que una vez que has creado una tupla definiendo sus elementos, ya no puedes modificar los valores que contiene.\n",
    "\n"
   ]
  },
  {
   "cell_type": "code",
   "execution_count": 144,
   "metadata": {
    "collapsed": true
   },
   "outputs": [],
   "source": [
    "# construimos las tuplas poniendo sus elementos \n",
    "# separados por comas entre dos paréntesis\n",
    "palos_baraja = (\"corazones\",\"diamantes\",\"tréboles\",\"picas\")\n",
    "valores_baraja = ('A', 2, 3, 4, 5, 6, 7, 8, 9, 10, 'J', 'Q', 'K')\n",
    "\n",
    "as_de_picas = (valores_baraja[0], palos_baraja[3])\n",
    "reina_de_corazones = (valores_baraja[11], palos_baraja[0])"
   ]
  },
  {
   "cell_type": "code",
   "execution_count": 145,
   "metadata": {},
   "outputs": [
    {
     "name": "stdout",
     "output_type": "stream",
     "text": [
      "(('A', 'picas'), ('Q', 'corazones'))\n"
     ]
    }
   ],
   "source": [
    "# podemos usar tuplas como elementos anidados dentro otra tupla\n",
    "mano = (as_de_picas, reina_de_corazones)\n",
    "\n",
    "print(mano)"
   ]
  },
  {
   "cell_type": "code",
   "execution_count": 146,
   "metadata": {},
   "outputs": [
    {
     "data": {
      "text/plain": [
       "('A', 'picas')"
      ]
     },
     "execution_count": 146,
     "metadata": {},
     "output_type": "execute_result"
    }
   ],
   "source": [
    "mano[0]"
   ]
  },
  {
   "cell_type": "code",
   "execution_count": 147,
   "metadata": {},
   "outputs": [
    {
     "data": {
      "text/plain": [
       "('Q', 'corazones')"
      ]
     },
     "execution_count": 147,
     "metadata": {},
     "output_type": "execute_result"
    }
   ],
   "source": [
    "mano[1]"
   ]
  },
  {
   "cell_type": "code",
   "execution_count": 148,
   "metadata": {
    "collapsed": true
   },
   "outputs": [],
   "source": [
    "# también podemos usar listas como elementos, \n",
    "# ¡cualquier objeto en realidad!\n",
    "jugador = (\"jugador_1\", [as_de_picas, reina_de_corazones])"
   ]
  },
  {
   "cell_type": "markdown",
   "metadata": {},
   "source": [
    "Si tratas de modificar la tupla, obtendrás un error"
   ]
  },
  {
   "cell_type": "code",
   "execution_count": 149,
   "metadata": {},
   "outputs": [
    {
     "ename": "TypeError",
     "evalue": "'tuple' object does not support item assignment",
     "output_type": "error",
     "traceback": [
      "\u001b[0;31m---------------------------------------------------------------------------\u001b[0m",
      "\u001b[0;31mTypeError\u001b[0m                                 Traceback (most recent call last)",
      "\u001b[0;32m<ipython-input-149-993d0c940dfb>\u001b[0m in \u001b[0;36m<module>\u001b[0;34m()\u001b[0m\n\u001b[0;32m----> 1\u001b[0;31m \u001b[0mmano\u001b[0m\u001b[0;34m[\u001b[0m\u001b[0;36m0\u001b[0m\u001b[0;34m]\u001b[0m \u001b[0;34m=\u001b[0m \u001b[0;34m(\u001b[0m\u001b[0;34m'J'\u001b[0m\u001b[0;34m,\u001b[0m \u001b[0;34m\"corazones\"\u001b[0m\u001b[0;34m)\u001b[0m\u001b[0;34m\u001b[0m\u001b[0m\n\u001b[0m",
      "\u001b[0;31mTypeError\u001b[0m: 'tuple' object does not support item assignment"
     ]
    }
   ],
   "source": [
    "mano[0] = ('J', \"corazones\")"
   ]
  },
  {
   "cell_type": "markdown",
   "metadata": {},
   "source": [
    "En realidad, Python nos permite definir una tupla sin usar los paréntesis al crearla. Es decir, poniendo simplemente los elementos separados por comas"
   ]
  },
  {
   "cell_type": "code",
   "execution_count": 150,
   "metadata": {},
   "outputs": [
    {
     "name": "stdout",
     "output_type": "stream",
     "text": [
      "('uno', 'dos', 3)\n"
     ]
    }
   ],
   "source": [
    "# tupla definida por enumeración, sin usar paréntesis\n",
    "otra_tupla = 'uno','dos',3\n",
    "print(otra_tupla)"
   ]
  },
  {
   "cell_type": "markdown",
   "metadata": {},
   "source": [
    "De todas formas, te recomendamos utilizar siempre los paréntesis. Para empezar, porque así resaltas que es una tupla y entiendes más fácilmente tu código. Y después porque cuando uses tuplas anidadas o expresiones más complejas para definir los elementos, vas a necesitar incluir los paréntesis obligatoriamente. Así que, ¿para qué hacer distinciones? ¡Simplifiquemos!\n",
    "\n",
    "Además, hay dos casos especiales de creación de tuplas: la tupla vacía y la tupla de un solo elemento.\n",
    "\n",
    "Las tuplas vacías se crean con una pareja de paréntesis vacía, sin ningún elemento dentro.\n",
    "\n",
    "Para crear una tupla con un único elemento, lo rodeamos entre paréntesis, pero es necesario añadir una coma justo detrás del elemento y antes del cierre de paréntesis. Parece raro, pero como los paréntesis también sirven para _\"encapsular\"_ una expresión (p.ej. `(3 * 4)`), Python necesita una pista para distinguir si queremos construir una tupla con un solo valor o no."
   ]
  },
  {
   "cell_type": "code",
   "execution_count": 151,
   "metadata": {},
   "outputs": [
    {
     "name": "stdout",
     "output_type": "stream",
     "text": [
      "()\n"
     ]
    }
   ],
   "source": [
    "# Creamos la tupla vacía con una pareja de paréntesis vacía, sin ningún elemento\n",
    "tupla_vacia = ()\n",
    "print(tupla_vacia)"
   ]
  },
  {
   "cell_type": "code",
   "execution_count": 152,
   "metadata": {},
   "outputs": [
    {
     "name": "stdout",
     "output_type": "stream",
     "text": [
      "(1,)\n"
     ]
    }
   ],
   "source": [
    "# Creamos una tupla con un solo elemento\n",
    "tupla_un_elemento = (1,)\n",
    "print(tupla_un_elemento)"
   ]
  },
  {
   "cell_type": "markdown",
   "metadata": {},
   "source": [
    "### Volviendo a las cadenas...\n",
    "\n",
    "Si recuerdas, cuando presentamos las cadenas de carácteres vimos que podíamos extraer un elemento usando un índice entre corchetes, y que podíamos seleccionar también una _\"rebanada\"_, o concatenar cadenas, o replicar una cadena _n_ veces... \n",
    "\n",
    "¿Adivinas a dónde quiero ir a parar? Efectivamente, las cadenas de caracteres son otro tipo de secuencia en Python. Unas secuencias con la particularidad de que sólo se componen de caracteres de texto, y que a la hora de representarlas, se utiliza una notación más compacta y sencilla para los humanos, escribiendo simplemente el texto entre comillas. Además, son _inmutables_ (como las tuplas) y llevan añadidas una serie de funciones o métodos especiales solo para cadenas."
   ]
  },
  {
   "cell_type": "markdown",
   "metadata": {},
   "source": [
    "## Conjuntos\n",
    "\n",
    "Ya has aprendido que en Python tenemos los tipos _lista_, _tupla_ y _cadena de texto_, y que son tipos secuenciales, es decir, son colecciones _ordenadas_ de elementos. \n",
    "\n",
    "Bueno, dejemos ahora las secuencias. En Python tenemos también tipos compuestos de datos que _no son ordenados_.\n",
    "Es decir, que sus elementos no conservan el orden en el que son colocados.\n",
    "\n",
    "El tipo compuesto _no ordenado_ más básico es el conjunto (o `set` en Python). Un conjunto es una colección _no ordenada_ de elementos, y donde además no puede haber elementos repetidos.\n",
    "\n",
    "Un conjunto _sí_ es modificable. Podemos eliminar o añadir nuevos elementos, siempre que no estén ya incluidos en el conjunto.\n",
    "\n",
    "La utilidad de este tipo viene justamente cuando necesitamos controlar elementos duplicados o saber si un elemento ha sido incluido ya (_pertenece_) a un conjunto, sin importarnos la posición.\n",
    "\n",
    "Para crear un conjunto escribimos los elementos entre un par de llaves y separados por comas.\n",
    "Si queremos crear un conjunto vacío utilizaremos la función `set()`, y no un par de llaves vacías (`{}`) como podrías pensar. Un poco más adelante te mostraremos que un par de llaves vacías crean un _diccionario_ vacío. Luego te lo contamos.\n",
    "\n"
   ]
  },
  {
   "cell_type": "code",
   "execution_count": 159,
   "metadata": {},
   "outputs": [
    {
     "name": "stdout",
     "output_type": "stream",
     "text": [
      "{'cuerda', 'linterna', 'bocadillo', 'agua'}\n"
     ]
    }
   ],
   "source": [
    "# Vamos a controlar qué objetos \n",
    "# añadimos en nuestra mochila para una excursión\n",
    "\n",
    "# creamos un conjunto vacío \n",
    "# (solo por probar, para este ejemplo no nos haría falta)\n",
    "en_mochila = set()\n",
    "\n",
    "# 'inicializamos' : incluimos varios objetos\n",
    "en_mochila = {\"bocadillo\", \"agua\", \"linterna\", \"agua\", \"cuerda\"}\n",
    "\n",
    "# si imprimimos, veremos que el \"agua\" \n",
    "# no aparece duplicada - ya sabemos que llevamos agua\n",
    "print(en_mochila)"
   ]
  },
  {
   "cell_type": "code",
   "execution_count": 160,
   "metadata": {},
   "outputs": [
    {
     "name": "stdout",
     "output_type": "stream",
     "text": [
      "{'agua', 'cuchillo', 'bocadillo', 'cuerda', 'linterna'}\n"
     ]
    }
   ],
   "source": [
    "# anotamos que metemos un cuchillo\n",
    "en_mochila.add(\"cuchillo\")\n",
    "print(en_mochila)"
   ]
  },
  {
   "cell_type": "code",
   "execution_count": 161,
   "metadata": {},
   "outputs": [
    {
     "data": {
      "text/plain": [
       "True"
      ]
     },
     "execution_count": 161,
     "metadata": {},
     "output_type": "execute_result"
    }
   ],
   "source": [
    "# para comprobar si un elemento está en el conjunto\n",
    "# usamos `in`\n",
    "\"bocadillo\" in en_mochila"
   ]
  },
  {
   "cell_type": "code",
   "execution_count": 162,
   "metadata": {},
   "outputs": [
    {
     "data": {
      "text/plain": [
       "True"
      ]
     },
     "execution_count": 162,
     "metadata": {},
     "output_type": "execute_result"
    }
   ],
   "source": [
    "\"cerillas\" not in en_mochila"
   ]
  },
  {
   "cell_type": "code",
   "execution_count": 163,
   "metadata": {},
   "outputs": [
    {
     "name": "stdout",
     "output_type": "stream",
     "text": [
      "{'agua', 'cuchillo', 'bocadillo', 'linterna'}\n"
     ]
    }
   ],
   "source": [
    "# también podemos quitar un elemento del conjunto\n",
    "en_mochila.discard(\"cuerda\")\n",
    "print(en_mochila)"
   ]
  },
  {
   "cell_type": "markdown",
   "metadata": {},
   "source": [
    "También disponemos de las operaciones habituales entre conjuntos: unión, diferencia, intersección..."
   ]
  },
  {
   "cell_type": "code",
   "execution_count": 164,
   "metadata": {
    "collapsed": true
   },
   "outputs": [],
   "source": [
    "a = {1, 2, 3, 5, 8}\n",
    "b = {1, 2, 4, 8, 16}"
   ]
  },
  {
   "cell_type": "code",
   "execution_count": 165,
   "metadata": {},
   "outputs": [
    {
     "data": {
      "text/plain": [
       "{1, 2, 3, 4, 5, 8, 16}"
      ]
     },
     "execution_count": 165,
     "metadata": {},
     "output_type": "execute_result"
    }
   ],
   "source": [
    "# unión de a y b\n",
    "a.union(b)"
   ]
  },
  {
   "cell_type": "code",
   "execution_count": 166,
   "metadata": {},
   "outputs": [
    {
     "data": {
      "text/plain": [
       "{1, 2, 3, 4, 5, 8, 16}"
      ]
     },
     "execution_count": 166,
     "metadata": {},
     "output_type": "execute_result"
    }
   ],
   "source": [
    "# también podemos hacerlo así: elementos que están en a ó en b\n",
    "a | b"
   ]
  },
  {
   "cell_type": "code",
   "execution_count": 167,
   "metadata": {},
   "outputs": [
    {
     "data": {
      "text/plain": [
       "{1, 2, 8}"
      ]
     },
     "execution_count": 167,
     "metadata": {},
     "output_type": "execute_result"
    }
   ],
   "source": [
    "# intersección de a y b\n",
    "a.intersection(b)"
   ]
  },
  {
   "cell_type": "code",
   "execution_count": 168,
   "metadata": {},
   "outputs": [
    {
     "data": {
      "text/plain": [
       "{1, 2, 8}"
      ]
     },
     "execution_count": 168,
     "metadata": {},
     "output_type": "execute_result"
    }
   ],
   "source": [
    "# también podemos hacerlo así: elementos que están en a y en b\n",
    "a & b"
   ]
  },
  {
   "cell_type": "code",
   "execution_count": 169,
   "metadata": {},
   "outputs": [
    {
     "data": {
      "text/plain": [
       "{3, 5}"
      ]
     },
     "execution_count": 169,
     "metadata": {},
     "output_type": "execute_result"
    }
   ],
   "source": [
    "# diferencia entre a y b\n",
    "a.difference(b)"
   ]
  },
  {
   "cell_type": "code",
   "execution_count": 170,
   "metadata": {},
   "outputs": [
    {
     "data": {
      "text/plain": [
       "{3, 5}"
      ]
     },
     "execution_count": 170,
     "metadata": {},
     "output_type": "execute_result"
    }
   ],
   "source": [
    "# también podemos hacerlo así: elementos que están en a pero no están en b\n",
    "a - b"
   ]
  },
  {
   "cell_type": "code",
   "execution_count": 171,
   "metadata": {},
   "outputs": [
    {
     "data": {
      "text/plain": [
       "{3, 4, 5, 16}"
      ]
     },
     "execution_count": 171,
     "metadata": {},
     "output_type": "execute_result"
    }
   ],
   "source": [
    "# diferencia simétrica o excluyente entre a y b\n",
    "a.symmetric_difference(b)"
   ]
  },
  {
   "cell_type": "code",
   "execution_count": 172,
   "metadata": {},
   "outputs": [
    {
     "data": {
      "text/plain": [
       "{3, 4, 5, 16}"
      ]
     },
     "execution_count": 172,
     "metadata": {},
     "output_type": "execute_result"
    }
   ],
   "source": [
    "# también podemos hacerlo así: elementos que estan exclusivamente bien en a o bien en b (pero no en ambos)\n",
    "a ^ b"
   ]
  },
  {
   "cell_type": "code",
   "execution_count": 173,
   "metadata": {},
   "outputs": [
    {
     "data": {
      "text/plain": [
       "True"
      ]
     },
     "execution_count": 173,
     "metadata": {},
     "output_type": "execute_result"
    }
   ],
   "source": [
    "s = {1, 2}\n",
    "\n",
    "# ¿s es un subconjunto de a?\n",
    "s.issubset(a)"
   ]
  },
  {
   "cell_type": "code",
   "execution_count": 174,
   "metadata": {},
   "outputs": [
    {
     "data": {
      "text/plain": [
       "True"
      ]
     },
     "execution_count": 174,
     "metadata": {},
     "output_type": "execute_result"
    }
   ],
   "source": [
    "# o dicho de otro modo: todos los elementos de s están en a\n",
    "s <= a"
   ]
  },
  {
   "cell_type": "code",
   "execution_count": 175,
   "metadata": {},
   "outputs": [
    {
     "data": {
      "text/plain": [
       "True"
      ]
     },
     "execution_count": 175,
     "metadata": {},
     "output_type": "execute_result"
    }
   ],
   "source": [
    "# ¿a es un superconjunto de s?\n",
    "a.issuperset(s)"
   ]
  },
  {
   "cell_type": "code",
   "execution_count": 176,
   "metadata": {},
   "outputs": [
    {
     "data": {
      "text/plain": [
       "True"
      ]
     },
     "execution_count": 176,
     "metadata": {},
     "output_type": "execute_result"
    }
   ],
   "source": [
    "# o dicho de otro modo: a incluye todos los elementos que están en s\n",
    "a >= s"
   ]
  },
  {
   "cell_type": "markdown",
   "metadata": {},
   "source": [
    "## Diccionarios\n",
    "\n",
    "Los diccionarios son otro de los tipos de datos compuestos más útiles, y que Python proporciona de forma nativa.\n",
    "\n",
    "La principal característica de los diccionarios es que almacenan parejas de elementos formadas por una _clave_ o elemento identificador y el _valor_ que queremos asociarle. Si piensas en un diccionario de los que usas normalmente para consultar la definición de una palabra, tendríamos que las _claves_ son los términos o palabras, y los _valores_ asociados serían las definiciones de esas palabras.\n",
    "\n",
    "> **Importante** Al contrario de lo que pueda parecer, los diccionarios no son un tipo _ordenado_ (o no tienen por qué serlo). Lo importante en un tipo diccionario es poder añadir una _clave_ y su _valor_ asociado, y que luego buscar por la _clave_ para obtener su _valor_ sea una operación rápida y eficiente. Para conseguirlo, el lenguaje gestiona y organiza internamente las _claves_ para optimizar el funcionamiento. Cómo lo hace es algo más complejo de explicar. Por ahora, simplemente necesitas saber que las claves no tienen por qué estar en el orden que tú pensarías después de añadir datos nuevos. ¡Ten esto en cuenta cuando uses los diccionarios! \n",
    "\n",
    "Las claves en un diccionario deben ser únicas, no puede haber claves repetidas. Además, una clave tiene que estar formada por un elemento _inmutable_, no puede cambiar una vez que se ha añadido junto con su valor al diccionario. Por ejemplo, una cadena de texto, un número o una tupla pueden usarse como claves. Pero una lista no, porque es posible modificar los elementos de la lista _a posteriori_.\n",
    "\n",
    "Para crear un diccionario inicialmente vacío utilizamos una pareja de llaves '`{}`'. \n",
    "Si quieres añadir elementos en la propia inicialización, sólo tienes que poner parejas `clave : valor` separadas por comas dentro de las llaves. Fíjate que separamos la clave de su valor utilizando dos puntos ('`:`').\n",
    "Para acceder a un valor, utilizamos los corchetes como haríamos en una lista o una tupla, solo que en este caso indicamos la _clave_ y no un índice de posición.\n",
    "\n",
    "Lo vemos más fácil con ejemplos."
   ]
  },
  {
   "cell_type": "code",
   "execution_count": 177,
   "metadata": {
    "collapsed": true
   },
   "outputs": [],
   "source": [
    "# Si queremos crear un diccionario vacío, usamos una pareja de llaves\n",
    "libreta_telefonos = {}"
   ]
  },
  {
   "cell_type": "code",
   "execution_count": 178,
   "metadata": {
    "collapsed": true
   },
   "outputs": [],
   "source": [
    "# También podemos incluir elementos en la inicialización, poniendo pares  clave : valor\n",
    "libreta_telefonos = { \"Carlos\" : 5556045, \"Luis\" : 5556048 , \"Javier\" : 5556051 }"
   ]
  },
  {
   "cell_type": "code",
   "execution_count": 179,
   "metadata": {},
   "outputs": [
    {
     "data": {
      "text/plain": [
       "5556048"
      ]
     },
     "execution_count": 179,
     "metadata": {},
     "output_type": "execute_result"
    }
   ],
   "source": [
    "# Para acceder a un valor, utilizamos la clave entre corchetes\n",
    "libreta_telefonos[\"Luis\"]"
   ]
  },
  {
   "cell_type": "code",
   "execution_count": 180,
   "metadata": {
    "collapsed": true
   },
   "outputs": [],
   "source": [
    "# Podemos añadir una nueva clave y asignarle un valor\n",
    "libreta_telefonos[\"Daniel\"] = 5556056"
   ]
  },
  {
   "cell_type": "code",
   "execution_count": 181,
   "metadata": {
    "collapsed": true
   },
   "outputs": [],
   "source": [
    "# Si asignamos un valor a una clave existente, reemplazaremos el valor antiguo\n",
    "libreta_telefonos[\"Carlos\"] = 5556033"
   ]
  },
  {
   "cell_type": "code",
   "execution_count": 182,
   "metadata": {},
   "outputs": [
    {
     "name": "stdout",
     "output_type": "stream",
     "text": [
      "{'Carlos': 5556033, 'Luis': 5556048, 'Javier': 5556051, 'Daniel': 5556056}\n"
     ]
    }
   ],
   "source": [
    "print(libreta_telefonos)"
   ]
  },
  {
   "cell_type": "code",
   "execution_count": 183,
   "metadata": {},
   "outputs": [
    {
     "data": {
      "text/plain": [
       "True"
      ]
     },
     "execution_count": 183,
     "metadata": {},
     "output_type": "execute_result"
    }
   ],
   "source": [
    "# Podemos comprobar si una clave está en el diccionario\n",
    "\"Luis\" in libreta_telefonos"
   ]
  },
  {
   "cell_type": "code",
   "execution_count": 184,
   "metadata": {
    "collapsed": true
   },
   "outputs": [],
   "source": [
    "# Y podemos eliminar una pareja clave valor indicando la clave\n",
    "del libreta_telefonos[\"Luis\"]"
   ]
  },
  {
   "cell_type": "code",
   "execution_count": 185,
   "metadata": {},
   "outputs": [
    {
     "name": "stdout",
     "output_type": "stream",
     "text": [
      "{'Carlos': 5556033, 'Javier': 5556051, 'Daniel': 5556056}\n"
     ]
    }
   ],
   "source": [
    "print(libreta_telefonos)"
   ]
  },
  {
   "cell_type": "markdown",
   "metadata": {},
   "source": [
    "Tenemos distintas formas de iterar un diccionario. Podemos iterar sobre las claves del diccionario de forma directa. También podemos iterar sobre las parejas (_clave_, _valor_).\n"
   ]
  },
  {
   "cell_type": "code",
   "execution_count": 186,
   "metadata": {},
   "outputs": [
    {
     "name": "stdout",
     "output_type": "stream",
     "text": [
      "Carlos = 5556033\n",
      "Javier = 5556051\n",
      "Daniel = 5556056\n"
     ]
    }
   ],
   "source": [
    "# Podemos iterar directamente sobre las claves de un diccionario así\n",
    "for nombre in libreta_telefonos:\n",
    "    print(nombre, \"=\", libreta_telefonos[nombre])"
   ]
  },
  {
   "cell_type": "code",
   "execution_count": 187,
   "metadata": {},
   "outputs": [
    {
     "name": "stdout",
     "output_type": "stream",
     "text": [
      "Carlos = 5556033\n",
      "Javier = 5556051\n",
      "Daniel = 5556056\n"
     ]
    }
   ],
   "source": [
    "# O podemos iterar sobre las parejas clave,valor\n",
    "for nombre, telefono in libreta_telefonos.items():\n",
    "    print(nombre, \"=\", telefono)"
   ]
  },
  {
   "cell_type": "code",
   "execution_count": 188,
   "metadata": {},
   "outputs": [
    {
     "name": "stdout",
     "output_type": "stream",
     "text": [
      "5556033\n",
      "5556051\n",
      "5556056\n"
     ]
    }
   ],
   "source": [
    "# Y si lo que queremos es iterar solo los valores, podemos hacerlo así\n",
    "for telefono in libreta_telefonos.values():\n",
    "    print(telefono)"
   ]
  },
  {
   "cell_type": "markdown",
   "metadata": {},
   "source": [
    "## Definiciones por comprensión\n",
    "\n",
    "Ahora que ya hemos visto los principales tipos compuestos de datos que ofrece Python de forma nativa, vamos a presentarte un tipo de expresiones muy útiles y potentes para crear y trabajar con estas estructuras de datos.\n",
    "\n",
    "Las definiciones por comprensión son una forma muy concisa y simple de generar colecciones de datos de forma automática. Se utilizan sobre todo con listas, pero son aplicables a todos los tipos compuestos haciendo los debidos ajustes. En inglés aparecen normalmente como _list comprehensions_, y en español unos autores denominan a estas expresiones _listas por comprensión_ o también _comprensión de listas_. Todos hacen referencia al mismo concepto.\n",
    "\n",
    "Las definiciones por comprensión son expresiones que permiten construir una nueva colección definiéndola a partir de otra colección de partida, una expresión generadora de los nuevos elementos a incluir y un predicado o condición. Escrito así, a lo mejor te parece complejo, pero verás como es muy sencillo.\n",
    "\n",
    "Lo mejor será comenzar con un caso de ejemplo. Imagina que queremos guardar en una lista la tabla de multiplicar del 7. Una forma de hacerlo con lo que has aprendido hasta ahora sería mediante un bucle."
   ]
  },
  {
   "cell_type": "code",
   "execution_count": 189,
   "metadata": {},
   "outputs": [
    {
     "name": "stdout",
     "output_type": "stream",
     "text": [
      "[0, 7, 14, 21, 28, 35, 42, 49, 56, 63]\n"
     ]
    }
   ],
   "source": [
    "# Preparamos una lista vacía para ir poniendo los resultados\n",
    "tabla_7 = []\n",
    "\n",
    "# Iteramos los números del 0 al 9\n",
    "for x in range(0, 10):\n",
    "    # añadimos a la lista el siguiente valor de la tabla de multiplicar del 7\n",
    "    tabla_7.append(7 * x)\n",
    "\n",
    "print(tabla_7)\n"
   ]
  },
  {
   "cell_type": "markdown",
   "metadata": {},
   "source": [
    "Hemos tenido que crear una variable con una lista vacía al principio, y después utilizar un bucle `for` para iterar por los valores de 0 a 9 e ir modificando en cada paso la lista, para añadir cada valor de la tabla de multiplicar.\n",
    "\n",
    "No es que sea un código muy complicado ni largo. Pero Python nos permite hacer esto de forma más sencilla y breve."
   ]
  },
  {
   "cell_type": "code",
   "execution_count": 190,
   "metadata": {},
   "outputs": [
    {
     "name": "stdout",
     "output_type": "stream",
     "text": [
      "[0, 7, 14, 21, 28, 35, 42, 49, 56, 63]\n"
     ]
    }
   ],
   "source": [
    "tabla_7 = [ 7 * x for x in range(0, 10) ]\n",
    "\n",
    "print(tabla_7)"
   ]
  },
  {
   "cell_type": "markdown",
   "metadata": {},
   "source": [
    "¿Qué te parece? ¿Se entiende bien? Vamos a examinar la expresión trozo a trozo para aclarar cómo funciona.\n",
    "\n",
    "Para empezar, la expresión está entre corchetes. Esto indica que vamos a construir una lista, rellenándola con los elementos que genere la expresión. Enseguida te contamos también cómo hacer para crear un conjunto, o una tupla o un diccionario.\n",
    "\n",
    "Vamos con el código dentro de los corchetes. La primera parte (`7 * x`) es la expresión que genera los nuevos elementos a partir de los valores que tome `x`, mientras que la expresión `for` nos dice cuál es el _dominio_ de valores de entrada que va a tomar `x` (en este caso la secuencia de 0 hasta 9).\n",
    "\n",
    "Podemos ampliar la definición incorporando una o más condiciones con una cláusula `if`. Supongamos que queremos guardar los valores de la tabla de multiplicar del 7 solo cuando el factor multiplicador es un número par (7\\*2, 7\\*4, 7\\*6...). Fácil."
   ]
  },
  {
   "cell_type": "code",
   "execution_count": 191,
   "metadata": {
    "collapsed": true
   },
   "outputs": [],
   "source": [
    "# usamos un if para comprobar si x es par\n",
    "# (utilizando el operador módulo o resto, ¿lo recuerdas?)\n",
    "tabla_7_pares = [ 7 * x for x in range(0, 10) if x % 2 == 0 ]"
   ]
  },
  {
   "cell_type": "markdown",
   "metadata": {},
   "source": [
    "Como ves en el ejemplo, simplemente hemos añadido la cláusula condicional '`if x%2 == 0`' al final de la construcción. Para cada valor de `x` en el rango especificado (de 0 a 9 en este caso), se comprueba si se cumple la condición (`x % 2 == 0`, es decir, que el resto de dividir `x` entre 2 sea cero, luego que `x` sea par). Si se cumple el predicado, entonces se genera un nuevo valor (`7 * x`) para la lista; y si no, ese valor de `x` se descarta.\n",
    "\n",
    "El dominio de valores de entrada puede ser cualquier objeto o expresión _iterable_."
   ]
  },
  {
   "cell_type": "code",
   "execution_count": 192,
   "metadata": {},
   "outputs": [
    {
     "data": {
      "text/plain": [
       "['CIRUELA', 'CEREZA']"
      ]
     },
     "execution_count": 192,
     "metadata": {},
     "output_type": "execute_result"
    }
   ],
   "source": [
    "lista_frutas = [\"pera\", \"manzana\", \"ciruela\", \"cereza\"]\n",
    "\n",
    "[ fruta.upper() for fruta in lista_frutas if fruta.startswith(\"c\") ]"
   ]
  },
  {
   "cell_type": "markdown",
   "metadata": {},
   "source": [
    "Podemos combinar dos o más cláusulas `for` con sus dominios de entrada para construir la colección."
   ]
  },
  {
   "cell_type": "code",
   "execution_count": 193,
   "metadata": {},
   "outputs": [
    {
     "data": {
      "text/plain": [
       "[4, 5, 6, 8, 10, 12, 12, 15, 18]"
      ]
     },
     "execution_count": 193,
     "metadata": {},
     "output_type": "execute_result"
    }
   ],
   "source": [
    "[ x * y for x in (1, 2, 3) for y in (4, 5, 6) ]"
   ]
  },
  {
   "cell_type": "markdown",
   "metadata": {},
   "source": [
    "Esta expresión se evalúa para todas las combinaciones de valores de `x` e `y`. Si lo piensas, es como si tuvieras dos bucles `for` anidados. Vamos a incluir en cada elemento generado los valores de `x` e `y`, así quedará más claro."
   ]
  },
  {
   "cell_type": "code",
   "execution_count": 194,
   "metadata": {},
   "outputs": [
    {
     "data": {
      "text/plain": [
       "[(1, 4, 4),\n",
       " (1, 5, 5),\n",
       " (1, 6, 6),\n",
       " (2, 4, 8),\n",
       " (2, 5, 10),\n",
       " (2, 6, 12),\n",
       " (3, 4, 12),\n",
       " (3, 5, 15),\n",
       " (3, 6, 18)]"
      ]
     },
     "execution_count": 194,
     "metadata": {},
     "output_type": "execute_result"
    }
   ],
   "source": [
    "[ (x, y, x * y) for x in (1, 2, 3) for y in (4, 5, 6) ]"
   ]
  },
  {
   "cell_type": "markdown",
   "metadata": {},
   "source": [
    "En este caso hemos hecho que la expresión generadora devuelva una tupla con los valores de `x`, `y` y de `x * y`. Puede utilizarse cualquier expresión, todo lo compleja que se necesite, siempre que devuelva un elemento válido."
   ]
  },
  {
   "cell_type": "markdown",
   "metadata": {},
   "source": [
    "Si en lugar de generar una lista queremos construir un conjunto, solamente tenemos que reemplazar los corchetes por llaves."
   ]
  },
  {
   "cell_type": "code",
   "execution_count": 195,
   "metadata": {},
   "outputs": [
    {
     "data": {
      "text/plain": [
       "{1, 3, 5, 7, 9}"
      ]
     },
     "execution_count": 195,
     "metadata": {},
     "output_type": "execute_result"
    }
   ],
   "source": [
    "{ x for x in range(10) if x % 2 != 0 }"
   ]
  },
  {
   "cell_type": "markdown",
   "metadata": {},
   "source": [
    "Si queremos una tupla, no será suficiente con utilizar paréntesis. Tendremos que utilizar el constructor `tuple()`"
   ]
  },
  {
   "cell_type": "code",
   "execution_count": 196,
   "metadata": {},
   "outputs": [
    {
     "data": {
      "text/plain": [
       "(0, 1, 2, 3, 4)"
      ]
     },
     "execution_count": 196,
     "metadata": {},
     "output_type": "execute_result"
    }
   ],
   "source": [
    "tuple( x for x in range(5) )"
   ]
  },
  {
   "cell_type": "markdown",
   "metadata": {},
   "source": [
    "Y para construir un diccionario utilizando el mecanismo de comprensión, además de utilizar las llaves en lugar de los corchetes, la expresión generadora deberá tener la forma `clave : valor`"
   ]
  },
  {
   "cell_type": "code",
   "execution_count": 197,
   "metadata": {},
   "outputs": [
    {
     "name": "stdout",
     "output_type": "stream",
     "text": [
      "21\n"
     ]
    }
   ],
   "source": [
    "# aquí la clave es el factor multiplicador, y el valor es el resultado de la multiplicación\n",
    "dict_tabla_7 = { num : 7 * num for num in range(0, 10) }\n",
    "\n",
    "print(dict_tabla_7[3])"
   ]
  },
  {
   "cell_type": "markdown",
   "metadata": {},
   "source": [
    "## Generadores\n",
    "\n",
    "Un par de párrafos más arriba acabamos de ver que si queremos crear una tupla definida por comprensión no basta con reemplazar los corchetes por paréntesis, tenemos que usar el constructor `tuple()`.\n",
    "\n",
    "Bueno, ¿y qué obtenemos entonces si usamos solamente los paréntesis?\n",
    "\n",
    "En este caso, en lugar de devolver inmediatamente una secuencia completa con todos los valores, Python nos devuelve un tipo especial de objeto que denominamos _generador_. \n",
    "\n",
    "Digamos que un _generador_ es un objeto que se encarga de hacer los cálculos para _generar_ los valores resultantes uno a uno conforme los necesitemos y los vayamos pidiendo, _iterando_ sobre la colección de entrada, en lugar de construir la secuencia entera de golpe.\n",
    "\n",
    "La utilidad de este mecanismo es que así se ahorra espacio de memoria (no tenemos que almacenar todos los resultados) y resulta más eficiente en los casos en los que no necesitamos la secuencia resultado completa de una vez, por ejemplo si queremos iterar los valores en un bucle.\n"
   ]
  },
  {
   "cell_type": "code",
   "execution_count": 198,
   "metadata": {},
   "outputs": [
    {
     "name": "stdout",
     "output_type": "stream",
     "text": [
      "<generator object <genexpr> at 0x7f9d9438dca8>\n"
     ]
    }
   ],
   "source": [
    "# construimos un generador para la tabla de multiplicar del 7\n",
    "gen_tabla_7 = ( 7 * x for x in range(0, 10) )\n",
    "\n",
    "# si intentamos imprimir el contenido de 'gen_tabla_7'...\n",
    "print(gen_tabla_7)\n",
    "# no veremos una secuencia, si no un mensaje \n",
    "# indicando que es un objeto de tipo 'generator'"
   ]
  },
  {
   "cell_type": "code",
   "execution_count": 199,
   "metadata": {},
   "outputs": [
    {
     "name": "stdout",
     "output_type": "stream",
     "text": [
      "0\n",
      "7\n",
      "14\n",
      "21\n",
      "28\n",
      "35\n",
      "42\n",
      "49\n",
      "56\n",
      "63\n"
     ]
    }
   ],
   "source": [
    "# vamos a usarlo en un bucle\n",
    "for v in gen_tabla_7:\n",
    "    print(v)\n",
    "\n",
    "# el generador va devolviendo un nuevo valor \n",
    "# cada vez que se le pide\n",
    "# hasta que agota todos los valores de su dominio de entrada"
   ]
  },
  {
   "cell_type": "markdown",
   "metadata": {},
   "source": [
    "Si tenemos un generador y queremos extraer sus valores a una lista, podemos utilizar el constructor `list`"
   ]
  },
  {
   "cell_type": "code",
   "execution_count": 200,
   "metadata": {},
   "outputs": [
    {
     "name": "stdout",
     "output_type": "stream",
     "text": [
      "[0, 3, 6, 9, 12, 15, 18, 21, 24, 27]\n"
     ]
    }
   ],
   "source": [
    "# si tenemos un generador\n",
    "gen_tabla_3 = ( 3 * x for x in range(0, 10) )\n",
    "# y queremos pasar todos sus elementos a una lista, usamos 'list'\n",
    "lista_tabla_3 = list(gen_tabla_3)\n",
    "print(lista_tabla_3)"
   ]
  },
  {
   "cell_type": "markdown",
   "metadata": {},
   "source": [
    "Fíjate que si intentas volver a utilizar el generador después de haber iterado todos sus elementos (en un bucle o al extraerlos a una lista), no obtendrás nada, excepto posiblemente un error. El generador ha quedado vacío, está agotado, ya no tiene valores que devolver."
   ]
  },
  {
   "cell_type": "code",
   "execution_count": 201,
   "metadata": {},
   "outputs": [
    {
     "name": "stdout",
     "output_type": "stream",
     "text": [
      "[]\n"
     ]
    }
   ],
   "source": [
    "otra_lista_tabla_3 = list(gen_tabla_3)\n",
    "\n",
    "# obtienes una lista vacía []\n",
    "print(otra_lista_tabla_3)"
   ]
  },
  {
   "cell_type": "markdown",
   "metadata": {},
   "source": [
    "# Funciones\n",
    "\n",
    "En lenguajes de programación, una función es un conjunto de operaciones que sirven para completar un cálculo o tarea específica y que se agrupan y encapsulan como unidades de código independientes para poder ser reutilizadas a lo largo de nuestro programa siempre que sea necesario.\n",
    "\n",
    "El uso de funciones nos permite no tener que reescribir el mismo código en distintas partes de nuestro programa, sustituyéndolo por _llamadas_ a una función. No solo tiene la ventaja de la reutilización y evitarnos escribir mucho más código. También hace los programas más modulares y fáciles de leer, depurar y modificar.\n",
    "\n",
    "En Python indicamos que vamos a _definir_ una función utilizando la palabra reservada `def`. Veamos un ejemplo\n"
   ]
  },
  {
   "cell_type": "code",
   "execution_count": 202,
   "metadata": {
    "collapsed": true
   },
   "outputs": [],
   "source": [
    "# vamos a definir la función\n",
    "def mi_primera_funcion():\n",
    "    print(\"Soy la primerita función\")\n"
   ]
  },
  {
   "cell_type": "markdown",
   "metadata": {},
   "source": [
    "Bueno, no es la función más útil del mundo, pero para empezar nos sirve.\n",
    "\n",
    "Podemos dividir la definición de la función en dos partes: el encabezado y el cuerpo.\n",
    "\n",
    "El encabezado empieza con la palabra clave `def`, seguida del nombre de la función (`mi_primera_funcion`). Para los nombres de funciones se aplican las mismas reglas que para los nombres de variables. Después del nombre de la función se colocan los paréntesis de apertura y cierre, y finalmente los dos puntos (`:`) para indicar el final de la cabecera.\n",
    "\n",
    "Justo después del encabezado, en la línea siguiente, comienza el cuerpo de la función, que es donde incluiremos todas las instrucciones que componen el cálculo o tarea que queremos implementar. En este ejemplo, el cuerpo lo forma unicamente la sentencia `print`. Al igual que vimos con las sentencias de control de flujo, este cuerpo va indentado respecto a la cabecera. La primera línea que vuelva al mismo nivel de indentación que el encabezado nos marcará el fin de la función.\n",
    "\n",
    "Una vez que tenemos definida la función, ya podemos utilizarla. Para _invocar_ una funcion simplemente utilizamos su nombre seguido de los paréntesis."
   ]
  },
  {
   "cell_type": "code",
   "execution_count": 203,
   "metadata": {},
   "outputs": [
    {
     "name": "stdout",
     "output_type": "stream",
     "text": [
      "Soy la primerita función\n"
     ]
    }
   ],
   "source": [
    "mi_primera_funcion()"
   ]
  },
  {
   "cell_type": "markdown",
   "metadata": {},
   "source": [
    "Como hemos visto, es una buena costumbre incluir comentarios en nuestro código para documentar qué estamos haciendo, de forma que luego sea más fácil de seguir por otras personas (¡y por nosotros mismos!).\n",
    "\n",
    "En el caso de las funciones, Python permite añadir una documentación específica añadiendo una cadena de texto justo entre el encabezado y el cuerpo de la función. A estas cadenas en Python se las conoce como `docstring`.\n",
    "\n",
    "Las _docstrings_ son opcionales, pero es muy recomendable incluirlas. No tienen ningún efecto en el código que se ejecuta. Normalmente se utilizan cadenas rodeadas por comillas triples, porque así la cadena puede ocupar varias líneas consecutivas. Utiliza las _docstrings_ para describir qué es lo que hacen tus funciones y qué parámetros necesitan."
   ]
  },
  {
   "cell_type": "code",
   "execution_count": 204,
   "metadata": {
    "collapsed": true
   },
   "outputs": [],
   "source": [
    "def mi_primera_funcion():\n",
    "    \"\"\"Función trivial de ejemplo.\n",
    "    \n",
    "    Imprime un mensaje de prueba.\n",
    "    \"\"\"\n",
    "    print(\"Soy la primerita función\")\n"
   ]
  },
  {
   "cell_type": "markdown",
   "metadata": {},
   "source": [
    "Podemos hacer que la función devuelva un valor como resultado utilizando la sentencia `return`. Además, podemos añadir _parámetros_ a la función para utilizarlos en sus cálculos. Indicamos los parámetros que necesita una función añadiéndolos entre los paréntesis de la definición, como nombres de variables."
   ]
  },
  {
   "cell_type": "code",
   "execution_count": 205,
   "metadata": {},
   "outputs": [
    {
     "name": "stdout",
     "output_type": "stream",
     "text": [
      "El cuadrado de 7 es 49\n",
      "El cuadrado de 12 es 144\n"
     ]
    }
   ],
   "source": [
    "# definimos una nueva función \n",
    "# que devuelve el cuadrado del número x que pasamos como argumento\n",
    "def cuadrado(x):\n",
    "    \"\"\"Devuelve el cuadrado del número x\"\"\"\n",
    "    return x**2\n",
    "\n",
    "# y probamos que funciona\n",
    "print(\"El cuadrado de 7 es\", cuadrado(7))\n",
    "print(\"El cuadrado de 12 es\", cuadrado(12))"
   ]
  },
  {
   "cell_type": "markdown",
   "metadata": {},
   "source": [
    "En esta nueva función `cuadrado` hemos incluido un parámetro `x`. Dentro del cuerpo de la función podemos utilizar el parámetro como si fuera una variable normal. Cuando llamamos a la función dentro de la sentencia `print`, lo hacemos indicando entre paréntesis cuál es el valor que queremos dar a `x` en esta ejecución; en este caso queremos ejecutar la función `cuadrado` haciendo que `x` tome el valor `12`. Estamos haciendo algo similar a una _asignación_ de variables. Solo que el parámetro `x` es una especie de variable _local_, unicamente va a existir y ser visible dentro de la función.\n",
    "\n",
    "Por lo demás, el cuerpo de la función simplemente devuelve (`return`) el resultado de elevar el valor que tenga `x` al cuadrado (`x**2`).\n",
    "\n",
    "Una función puede recibir varios parámetros, cada uno del tipo que sea necesario. También puede devolver cualquier tipo de elemento."
   ]
  },
  {
   "cell_type": "code",
   "execution_count": 206,
   "metadata": {},
   "outputs": [
    {
     "data": {
      "text/plain": [
       "['Toc,toc,toc! Penny!', 'Toc,toc,toc! Penny!', 'Toc,toc,toc! Penny!']"
      ]
     },
     "execution_count": 206,
     "metadata": {},
     "output_type": "execute_result"
    }
   ],
   "source": [
    "# una función con dos parámetros\n",
    "# y que devuelve una lista definida por comprensión\n",
    "def llama_a_la_puerta_de(persona, n_veces):\n",
    "    \"\"\"Llama a la puerta de la persona \n",
    "       las veces que haga falta\"\"\"\n",
    "    return [ \"Toc,toc,toc! \" + persona + \"!\" for i in range(n_veces) ]\n",
    "\n",
    "llama_a_la_puerta_de(\"Penny\", 3)\n"
   ]
  },
  {
   "cell_type": "markdown",
   "metadata": {},
   "source": [
    "Al definir una función, también podemos especificar un valor _por defecto_ para cualquiera de los parámetros. Se indica como si hiciéramos una asignación del parámetro en el encabezado. El valor _por defecto_ o _por omisión_ solamente se aplicará si al llamar a la función no incluimos un valor explícito para ese parámetro (_omitimos_ su valor)."
   ]
  },
  {
   "cell_type": "code",
   "execution_count": 207,
   "metadata": {},
   "outputs": [
    {
     "data": {
      "text/plain": [
       "['Toc,toc,toc! Penny!', 'Toc,toc,toc! Penny!', 'Toc,toc,toc! Penny!']"
      ]
     },
     "execution_count": 207,
     "metadata": {},
     "output_type": "execute_result"
    },
    {
     "data": {
      "text/plain": [
       "['Toc,toc,toc! Amy!']"
      ]
     },
     "execution_count": 207,
     "metadata": {},
     "output_type": "execute_result"
    }
   ],
   "source": [
    "# redefinimos la función con dos parámetros\n",
    "# indicando un valor por omisión para 'n_veces'\n",
    "def llama_a_la_puerta_de(persona, n_veces=3):\n",
    "    \"\"\"Llama a la puerta de la persona \n",
    "       las veces que haga falta\"\"\"\n",
    "    return [ \"Toc,toc,toc! \" + persona + \"!\" for i in range(n_veces) ]\n",
    "\n",
    "# ahora podemos usar la función sin especificar 'n_veces'\n",
    "# y tomará el valor por defecto\n",
    "llama_a_la_puerta_de(\"Penny\")\n",
    "\n",
    "# si incluimos un valor para el parámetro,\n",
    "# se ignora el valor por omisión\n",
    "llama_a_la_puerta_de(\"Amy\", 1)\n"
   ]
  },
  {
   "cell_type": "markdown",
   "metadata": {},
   "source": [
    "Al definir una función, los parámetros para los que no se especifique un valor por defecto deben ir delante de los parámetros con valor por omisión.\n",
    "\n",
    "Al llamar a una función es obligatorio dar valores para todos los parámetros que no tengan valor por omisión especificado. Por defecto, deben proporcionarse los valores en el mismo orden en el que se han definido los parámetros. \n",
    "\n",
    "No obstante, podemos llamar a una función indicando los valores para cada parámetro por su nombre, como pares `nombre_parametro=valor`. Haciéndolo así, podemos dar valor a los parámetros en el orden que queramos.\n"
   ]
  },
  {
   "cell_type": "code",
   "execution_count": 208,
   "metadata": {},
   "outputs": [
    {
     "data": {
      "text/plain": [
       "['Toc,toc,toc! Howard!',\n",
       " 'Toc,toc,toc! Howard!',\n",
       " 'Toc,toc,toc! Howard!',\n",
       " 'Toc,toc,toc! Howard!',\n",
       " 'Toc,toc,toc! Howard!']"
      ]
     },
     "execution_count": 208,
     "metadata": {},
     "output_type": "execute_result"
    }
   ],
   "source": [
    "llama_a_la_puerta_de(n_veces=5, persona=\"Howard\")"
   ]
  },
  {
   "cell_type": "markdown",
   "metadata": {},
   "source": [
    "## Recursión\n",
    "\n",
    "En el cuerpo de una función se puede llamar a otras funciones. Y naturalmente una función también se puede llamarse a sí misma. Es lo que se llama una definición recursiva.\n",
    "\n",
    "Este tipo de construcciones son habituales en definiciones de series o progresiones matemáticas, o para recorrer determinados tipos de estructuras de datos.\n",
    "\n",
    "Tomemos por ejemplo la conocida [_Sucesión de Fibonacci_](https://es.wikipedia.org/wiki/Sucesi%C3%B3n_de_Fibonacci), que se define así"
   ]
  },
  {
   "cell_type": "markdown",
   "metadata": {},
   "source": [
    "$$ Fib\\left(0\\right) = 0 $$\n",
    "$$ Fib\\left(1\\right) = 1 $$\n",
    "$$ Fib\\left(n\\right) = Fib\\left(n-1\\right) + Fib\\left(n-2\\right) $$"
   ]
  },
  {
   "cell_type": "markdown",
   "metadata": {},
   "source": [
    "El elemento _n-ésimo_ de la sucesión (para n >= 2) se construye sumando los elementos para _(n-1)_ y _(n-2)_. Esto es una definición recursiva. Escribamos unos cuantos términos:\n",
    "\n",
    "$$ Fib\\left(0\\right) = 0 $$\n",
    "$$ Fib\\left(1\\right) = 1 $$\n",
    "$$ Fib\\left(2\\right) = Fib\\left(1\\right) + Fib\\left(0\\right) = 1 + 0 = 1 $$\n",
    "$$ Fib\\left(3\\right) = Fib\\left(2\\right) + Fib\\left(1\\right) = 1 + 1 = 2 $$\n",
    "$$ Fib\\left(4\\right) = Fib\\left(3\\right) + Fib\\left(2\\right) = 2 + 1 = 3 $$\n",
    "$$ Fib\\left(5\\right) = Fib\\left(4\\right) + Fib\\left(3\\right) = 3 + 2 = 5 $$\n",
    "$$ Fib\\left(6\\right) = Fib\\left(5\\right) + Fib\\left(4\\right) = 5 + 3 = 8 $$\n",
    "\n",
    "En Python podemos construir una función que implemente esta definición recursiva"
   ]
  },
  {
   "cell_type": "code",
   "execution_count": 209,
   "metadata": {},
   "outputs": [
    {
     "data": {
      "text/plain": [
       "2"
      ]
     },
     "execution_count": 209,
     "metadata": {},
     "output_type": "execute_result"
    },
    {
     "data": {
      "text/plain": [
       "8"
      ]
     },
     "execution_count": 209,
     "metadata": {},
     "output_type": "execute_result"
    }
   ],
   "source": [
    "def fibonacci(n):\n",
    "    \"\"\"Calcula el n-ésimo elemento de la serie de Fibonacci\"\"\"\n",
    "    if n == 0:\n",
    "        return 0\n",
    "    elif n == 1:\n",
    "        return 1\n",
    "    else:\n",
    "        return fibonacci(n-1) + fibonacci(n-2)\n",
    "\n",
    "\n",
    "fibonacci(3)\n",
    "fibonacci(6)"
   ]
  },
  {
   "cell_type": "markdown",
   "metadata": {},
   "source": [
    "¿Cuáles son las ventajas de las funciones recursivas? Bueno, como puedes ver el código es sencillo y fácil de entender. Si quisieramos hacer lo mismo usando bucles tendríamos que utilizar más variables para iterar y para almacenar resultados intermedios. Las funciones recursivas encajan muy bien para este tipo de casos.\n",
    "\n",
    "Sin embargo, también tienen inconvenientes. Las funciones recursivas suelen consumir mucha más memoria y tiempo de ejecución cuando el número de veces que se tienen que llamar a sí mismas es grande. Esto hace que además sean más complicadas de depurar si hay algún error. Es más, si no se tiene cuidado al programarlas podemos caer en una recursión infinita, de la que no se pueda salir sin un error o una interrupción externa."
   ]
  },
  {
   "cell_type": "markdown",
   "metadata": {},
   "source": [
    "## Un pez llamado `lambda`...\n",
    "\n",
    "En ocasiones, necesitamos utilizar una pequeña función para realizar algún cálculo en un punto específico de nuestro programa y nada más. En casos como éste y otros que te vamos a presentar, sería más cómodo si pudiéramos expresar la función de una forma más sencilla, sin tener que definir el encabezado con su `def`, su nombre, ...\n",
    "\n",
    "En Python podemos conseguir esto utilizando las funciones _anónimas_, también llamadas funciones o expresiones _lambda_, por la cláusula que se utiliza para definirlas.\n",
    "\n",
    "Una función _anónima_ efectivamente comienza con la palabra clave `lambda` (en lugar de `def` como las funciones normales) y no tiene un nombre identificador (de ahí lo de _anónima_). Una función _lambda_ puede tener cualquier número de argumentos, pero su cuerpo solamente puede constar de una expresión que devuelva un valor."
   ]
  },
  {
   "cell_type": "code",
   "execution_count": 210,
   "metadata": {},
   "outputs": [
    {
     "data": {
      "text/plain": [
       "15"
      ]
     },
     "execution_count": 210,
     "metadata": {},
     "output_type": "execute_result"
    }
   ],
   "source": [
    "# creamos una función anónima \n",
    "# y se la asignamos a la variable 'triple'\n",
    "triple = lambda x: 3 * x\n",
    "\n",
    "triple(5)"
   ]
  },
  {
   "cell_type": "markdown",
   "metadata": {},
   "source": [
    "Después de la palabra clave `lambda` colocamos todos los parámetros separados por comas. Fíjate que no ponemos paréntesis. Después de la lista de parámetros se ponen dos puntos (`:`) y seguidamente la expresión que calcula el resultado a devolver.\n",
    "\n",
    "En este ejemplo, hemos asignado la función anónima que hemos creado a una variable. Después utilizamos esta variable para llamar a la función. Probablemente estarás preguntándote _\"¿y para esto hace falta crear las funciones lambda? ¿No hacen ya este papel las funciones normales?\"_\n",
    "\n",
    "Si es así, ¡estarás haciendo muy bien!\n",
    "\n",
    "El ejemplo anterior era solamente una forma sencilla de mostrarte la sintáxis para definir una función anónima.\n",
    "\n",
    "Sin embargo, la verdadera utilidad viene cuando tenemos funciones que pueden recibir otras funciones como parámetros. O funciones que devuelven como resultado otra función. Veamos un ejemplo para entender de qué hablamos."
   ]
  },
  {
   "cell_type": "code",
   "execution_count": 211,
   "metadata": {
    "collapsed": true
   },
   "outputs": [],
   "source": [
    "def genera_multiplicador(n):\n",
    "    \"\"\"Esta función crea y devuelve a su vez \n",
    "       una nueva función que multiplicará \n",
    "       cualquier valor por n\"\"\"\n",
    "    return lambda x: x * n"
   ]
  },
  {
   "cell_type": "code",
   "execution_count": 212,
   "metadata": {},
   "outputs": [
    {
     "name": "stdout",
     "output_type": "stream",
     "text": [
      "6\n",
      "10\n"
     ]
    }
   ],
   "source": [
    "# vamos a generar una nueva función \n",
    "# que multiplique su entrada por 2\n",
    "doble = genera_multiplicador(2)\n",
    "\n",
    "# la variable 'doble' apunta ahora \n",
    "# a una función anónima que devuelve \n",
    "# su entrada multiplicada por 2\n",
    "print( doble(3) )\n",
    "print( doble(5) )"
   ]
  },
  {
   "cell_type": "code",
   "execution_count": 213,
   "metadata": {},
   "outputs": [
    {
     "name": "stdout",
     "output_type": "stream",
     "text": [
      "21\n",
      "27\n"
     ]
    }
   ],
   "source": [
    "# ahora generamos una nueva función \n",
    "# que multiplique su entrada por 3\n",
    "triple = genera_multiplicador(3)\n",
    "\n",
    "# la variable 'triple' apunta ahora \n",
    "# a una función anónima que devuelve \n",
    "# su entrada multiplicada por 3\n",
    "print( triple(7) )\n",
    "print( triple(9) )"
   ]
  },
  {
   "cell_type": "markdown",
   "metadata": {},
   "source": [
    "¿Un poco complicado? Repasemos el código paso a paso.\n",
    "\n",
    "Empezamos definiendo la función `genera_multiplicador`. Es una función normal, con su `def` y que recibe un parámetro `n`.\n",
    "\n",
    "Lo complejo viene en el cuerpo. En lugar de devolver un valor _\"normal\"_, como habíamos visto hasta ahora, esta función devuelve una expresión `lambda`, devuelve _otra función_.\n",
    "\n",
    "En este caso, devuelve una función _lambda_ que, a su vez, lo que hace es tomar su parámetro `x` y devolverlo multiplicado por `n`.\n",
    "\n",
    "Imaginemos este ejemplo de otra manera. Supón que tenemos un almacen en el que vendemos herramientas preparadas para construir formas geométricas. Tenemos una máquina configurable con la que podemos preparar estas herramientas a medida para construir las formas geométricas que necesiten los clientes. \n",
    "Viene un cliente y nos pide una herramienta para construir triángulos de cualquier tamaño. Nosotros vamos a nuestra máquina, la configuramos y producimos una nueva herramienta que está ajustada para construir triángulos, el cliente solo tendrá que indicar el tamaño. \n",
    "Otro cliente nos pide después una herramienta para construir cuadrados de cualquier tamaño. Volvemos a configurar nuestro aparato y obtenemos una nueva herramienta ajustada para que el cliente construya cuadrados del tamaño que le plazca.\n",
    "\n",
    "Algo parecido es lo que ocurre en este ejemplo. La función `genera_multiplicador` sería nuestra máquina _\"configurable\"_ (mediante el parámetro `n`) y las funciones anónimas que devuelve serían las _\"herramientas\"_ preparadas para cada caso concreto.\n",
    "\n",
    "Solamente hay una sutileza más, que tal vez ya te haya rondado la cabeza.\n",
    "Si el parámetro `n` en realidad está definido en la función `genera_multiplicador`, ¿cómo es que la función _lambda_ se acuerda del valor correcto de `n` que tiene que utilizar?\n",
    "En el ejemplo llamamos primero a `genera_multiplicador` con `n=2` y asignamos la función anónima a la variable `doble`.\n",
    "Y después volvemos a llamar a `genera_multiplicador` con `n=3` y asignamos la función anónima devuelta a la variable `triple`.\n",
    "\n",
    "Muy bien pero, ¿por qué la función anónima que hay en `doble` mantiene el valor `n=2` (lo _\"recuerda\"_) y no ha cambiado a `n=3`?\n",
    "\n",
    "De esta especie de _\"magia\"_ se encarga Python. En realidad, al devolver la función _lambda_ dentro de `genera_multiplicador`, Python no solo devuelve una función anónima, si no que la _\"empaqueta\"_ con un _contexto_, es decir, con los valores que tenía cada variable visible en ese momento."
   ]
  },
  {
   "cell_type": "markdown",
   "metadata": {},
   "source": [
    "### ... y funciones de orden superior\n",
    "\n",
    "A las funciones que reciben como parámetro otra función, o que devuelven como resultado otra función, se las denomina _funciones de orden superior_.\n",
    "\n",
    "Existen algunas funciones de orden superior cuyo uso está tan extendido que suelen estar ya incluidas en muchos lenguajes de programación. Se trata de las funciones `map`, `filter` y `reduce`. En Python 2 todas están soportadas de forma nativa. En Python 3 las dos primeras siguen estando incluidas, mientras que la función `reduce` se ha colocado en una librería aparte.\n",
    "\n",
    "Vamos a explicar cada una de ellas.\n",
    "\n",
    "#### `map`\n",
    "\n",
    "La función `map` sirve para aplicar (o _mapear_) otra función $f$ (que recibe como parámetro) a todos los elementos de una secuencia o colección."
   ]
  },
  {
   "cell_type": "code",
   "execution_count": 214,
   "metadata": {},
   "outputs": [
    {
     "data": {
      "text/plain": [
       "[1, 4, 9, 16, 25]"
      ]
     },
     "execution_count": 214,
     "metadata": {},
     "output_type": "execute_result"
    }
   ],
   "source": [
    "cuadrados = map(lambda x: x**2, [1,2,3,4,5])\n",
    "\n",
    "list(cuadrados)"
   ]
  },
  {
   "cell_type": "markdown",
   "metadata": {},
   "source": [
    "Como ves, a `map` le pasamos como primer argumento una función. En este caso, una función anónima usando una expresión _lambda_ (`lambda x: x**2`) que devuelve su valor de entrada elevado al cuadrado. El segundo argumento de `map` es una colección de elementos. Aquí le pasamos una lista de números (`[1,2,3,4,5]`) que queremos elevar al cuadrado.\n",
    "\n",
    "Lo que va a hacer la función `map` es ir tomando uno a uno los valores de la secuencia y ejecutar la función que le hemos pasado como primer argumento con cada uno de estos valores.\n",
    "\n",
    "`map` no devuelve inmediatamente la lista con los valores resultantes. En Python 3 lo que devuelve `map` es un tipo especial de objeto que se denomina _iterador_, que es una variante de los _generadores_ que explicamos anteriormente.\n",
    "\n",
    "Como recordatorio, es un objeto que se encarga de hacer los cálculos para _generar_ los valores resultantes uno a uno conforme los necesites y se los vayas pidiendo, _iterando_ sobre la colección de entrada, en lugar de construir la secuencia entera de golpe, lo que permite ahorrar espacio de memoria ya que no tenemos que almacenar todos los resultados de una vez.\n",
    "\n",
    "Si realmente queremos tener una lista con todos los valores resultado, basta con hacer lo que aparece en la última línea del ejemplo, construir una lista con `list`."
   ]
  },
  {
   "cell_type": "markdown",
   "metadata": {},
   "source": [
    "#### `filter`\n",
    "La función `filter` sirve para seleccionar (o _filtrar_) aquellos elementos de una secuencia o colección que cumplen una condición determinada. La condición se le pasa a `filter` en forma de otra función."
   ]
  },
  {
   "cell_type": "code",
   "execution_count": 215,
   "metadata": {},
   "outputs": [
    {
     "data": {
      "text/plain": [
       "[2, 4]"
      ]
     },
     "execution_count": 215,
     "metadata": {},
     "output_type": "execute_result"
    }
   ],
   "source": [
    "pares = filter(lambda x: x % 2 == 0, [1,2,3,4,5])\n",
    "\n",
    "list(pares)"
   ]
  },
  {
   "cell_type": "markdown",
   "metadata": {},
   "source": [
    "Al igual que `map`, a `filter` le pasamos como primer argumento una función. En el ejemplo, le pasamos una función anónima (`lambda x: x % 2 == 0`) que devuelve _verdadero_ si su valor de entrada es un número par, y _falso_ en caso contrario. La función que le pasemos a `filter` siempre debe devolver valores `True` o `False`. El segundo argumento de `filter` es de nuevo una colección de elementos.\n",
    "\n",
    "Lo que va a hacer `filter` en este caso es ir tomando cada uno de los valores de la secuencia y ejecutar la función que le pasamos como primer argumento con cada uno de dichos valores, devolviendo solamente los elementos para los que el resultado sea `True`.\n",
    "\n",
    "En realidad, `filter` devuelve también un objeto de tipo _iterador_, como ocurre con `map`. Por eso utilizamos `list` al final del ejemplo para obtener una lista con los resultados."
   ]
  },
  {
   "cell_type": "markdown",
   "metadata": {},
   "source": [
    "#### `reduce`\n",
    "\n",
    "La función `reduce` sirve para ejecutar otra función $f$ de forma acumulativa sobre una colección de elementos. Dicho así, a lo mejor no te hemos aclarado demasiado. Mucho mejor con un ejemplo"
   ]
  },
  {
   "cell_type": "code",
   "execution_count": 216,
   "metadata": {},
   "outputs": [
    {
     "name": "stdout",
     "output_type": "stream",
     "text": [
      "15\n"
     ]
    }
   ],
   "source": [
    "import functools\n",
    "\n",
    "suma = functools.reduce(lambda x,y: x + y, [1,2,3,4,5])\n",
    "\n",
    "print(suma)"
   ]
  },
  {
   "cell_type": "markdown",
   "metadata": {},
   "source": [
    "En la primera línea estamos cargando el _módulo_ `functools`. Como te decíamos al empezar a hablar de las funciones de orden superior, la función `reduce` estaba incluida por defecto en Python 2, pero en Python 3 se pasó a una librería aparte, en este caso al módulo `functools`. Para cargar componentes de una librería en Python utilizamos la palabra reservada `import`. Más adelante te contaremos más acerca de las librerías en Python.\n",
    "\n",
    "En la segunda línea ya usamos la función `reduce` del módulo `functools`. Si te fijas, el primer argumento de `reduce` es nuevamente una función (en el ejemplo, la función anónima `lambda x,y: x + y`). El segundo argumento vuelve a ser una colección de valores.\n",
    "\n",
    "La diferencia aquí reside en que la función que le pasemos a `reduce` debe ser una función que tome _dos argumentos_ y devuelva _un solo valor_. En este caso, la función anónima recibe dos valores en `x` e `y` y devuelve la suma de ambos.\n",
    "\n",
    "¿Y qué hace exáctamente `reduce`? Pues empieza tomando los dos primeros elementos de la lista de entrada (`[1,2,3,4,5]`) y ejecuta la función. A continuación, toma el resultado y el siguiente elemento de la lista y vuelve a ejecutar la función. A continuación, toma el nuevo resultado y el siguiente elemento de la lista y vuelve a ejecutar la función. A continuación... Bueno, ya ves como sigue. `reduce` continuará con el proceso hasta agotar todos los elementos de la lista. Al terminar, devolverá el resultado final que haya dado la última evaluación de la función.\n",
    "\n",
    "Tal vez este diagrama explique más claramente la secuencia de operaciones."
   ]
  },
  {
   "cell_type": "markdown",
   "metadata": {},
   "source": [
    "<img src=\"./img/fig_reduce_suma.png\" width=250px />"
   ]
  },
  {
   "cell_type": "markdown",
   "metadata": {},
   "source": [
    "#### Utilidad de las funciones de orden superior\n",
    "\n",
    "Las funciones de orden superior pueden ser unas herramientas muy útiles y potentes para ayudarte a resolver algunos problemas.\n",
    "\n",
    "No obstante, en buena parte de los casos Python te ofrece formas alternativas de conseguir el mismo resultado de una forma más sencilla y legible, utilizando algunas de las construcciones que ya hemos visto a lo largo de esta unidad.\n",
    "\n",
    "Fijémonos en los ejemplos de `map`, `filter` o `reduce` que hemos mostrado. ¿Se te ocurre cómo podrías resolver cada caso aplicando lo que ya has aprendido?\n",
    "\n",
    "Empecemos con `map`. En el ejemplo, queríamos elevar los elementos de una lista al cuadrado."
   ]
  },
  {
   "cell_type": "code",
   "execution_count": 217,
   "metadata": {},
   "outputs": [
    {
     "name": "stdout",
     "output_type": "stream",
     "text": [
      "[1, 4, 9, 16, 25]\n"
     ]
    }
   ],
   "source": [
    "# calcular cuadrados usando 'map'\n",
    "cuadrados = map(lambda x: x**2, [1,2,3,4,5])\n",
    "print( list(cuadrados) )"
   ]
  },
  {
   "cell_type": "code",
   "execution_count": 218,
   "metadata": {},
   "outputs": [
    {
     "name": "stdout",
     "output_type": "stream",
     "text": [
      "[1, 4, 9, 16, 25]\n"
     ]
    }
   ],
   "source": [
    "# calcular cuadrados usando un generador\n",
    "cuadrados_2 = ( x**2 for x in [1,2,3,4,5] )\n",
    "print( list(cuadrados_2) )"
   ]
  },
  {
   "cell_type": "code",
   "execution_count": 219,
   "metadata": {},
   "outputs": [
    {
     "name": "stdout",
     "output_type": "stream",
     "text": [
      "[1, 4, 9, 16, 25]\n"
     ]
    }
   ],
   "source": [
    "# si queremos directamente una lista, \n",
    "# podemos definirla por comprensión\n",
    "lista_cuadrados = [ x**2 for x in [1,2,3,4,5] ]\n",
    "print(lista_cuadrados)"
   ]
  },
  {
   "cell_type": "markdown",
   "metadata": {},
   "source": [
    "Podemos conseguir el mismo resultado utilizando una expresión de tipo _generador_ con una expresión por comprensión. O si queremos directamente guardar el resultado como una lista, usar una lista por comprensión.\n",
    "\n",
    "Si recuerdas cuando hablamos de los _generadores_, si intentas volver a extraer valores de un _generador_ que ya ha sido _agotado_, obtendrás una lista vacía (`[]`). Esto mismo te ocurrirá con el _iterador_ devuelto por `map`. Una vez que ya los has usado, _generando_ todos los elementos hasta agotar la secuencia de entrada, ya no hay más valores que devolver.\n",
    "\n",
    "En cambio con la lista por comprensión, efectivamente, obtienes una lista (no un _generador_) y la tienes disponible mientras la necesites. Tenlo en cuenta cuando vayas a decidir si usar una estructura u otra.\n",
    "\n",
    "Pasemos al ejemplo con `filter`. El objetivo era quedarnos con los números pares de una lista."
   ]
  },
  {
   "cell_type": "code",
   "execution_count": 220,
   "metadata": {},
   "outputs": [
    {
     "name": "stdout",
     "output_type": "stream",
     "text": [
      "[2, 4]\n"
     ]
    }
   ],
   "source": [
    "# extraer los números pares usando 'filter'\n",
    "pares = filter(lambda x: x % 2 == 0, [1,2,3,4,5])\n",
    "print( list(pares) )"
   ]
  },
  {
   "cell_type": "code",
   "execution_count": 221,
   "metadata": {},
   "outputs": [
    {
     "name": "stdout",
     "output_type": "stream",
     "text": [
      "[2, 4]\n"
     ]
    }
   ],
   "source": [
    "# hacemos lo mismo usando un generador\n",
    "pares_2 = ( x for x in [1,2,3,4,5] if x % 2 == 0 )\n",
    "print( list(pares_2) )"
   ]
  },
  {
   "cell_type": "code",
   "execution_count": 222,
   "metadata": {},
   "outputs": [
    {
     "name": "stdout",
     "output_type": "stream",
     "text": [
      "[2, 4]\n"
     ]
    }
   ],
   "source": [
    "# o si queremos una lista, \n",
    "# la definimos por comprensión\n",
    "lista_pares = [ x for x in [1,2,3,4,5] if x % 2 == 0 ]\n",
    "print(lista_pares)"
   ]
  },
  {
   "cell_type": "markdown",
   "metadata": {},
   "source": [
    "Otra vez conseguimos lo mismo utilizando definiciones por comprensión, solo que esta vez añadiendo una cláusula `if` con la misma condición que en la función de filtrado.\n",
    "\n",
    "Y por último, el ejemplo de `reduce`. En este caso queremos calcular la suma de todos los elementos de una lista."
   ]
  },
  {
   "cell_type": "code",
   "execution_count": 223,
   "metadata": {},
   "outputs": [
    {
     "name": "stdout",
     "output_type": "stream",
     "text": [
      "15\n"
     ]
    }
   ],
   "source": [
    "import functools\n",
    "\n",
    "# calcular la suma de elementos usando 'reduce'\n",
    "suma = functools.reduce(lambda x,y: x + y, [1,2,3,4,5])\n",
    "print(suma)"
   ]
  },
  {
   "cell_type": "code",
   "execution_count": 224,
   "metadata": {},
   "outputs": [
    {
     "name": "stdout",
     "output_type": "stream",
     "text": [
      "15\n"
     ]
    }
   ],
   "source": [
    "# la forma alternativa de aplicar una función \n",
    "# de forma acumulativa \n",
    "# es usando un bucle\n",
    "otra_suma = 0\n",
    "for x in [1,2,3,4,5]:\n",
    "    otra_suma = otra_suma + x\n",
    "\n",
    "print(otra_suma)"
   ]
  },
  {
   "cell_type": "markdown",
   "metadata": {},
   "source": [
    "Si queremos aplicar una función a una colección de valores, acumulando o combinando los resultados, la forma general de hacerlo será mediante un bucle.\n",
    "\n",
    "Claro que este tipo de operaciones de cálculo acumulado o de reducción a un único valor, como obtener la suma, el mínimo o el máximo, son tan comunes que Python proporciona directamente estas funciones."
   ]
  },
  {
   "cell_type": "code",
   "execution_count": 225,
   "metadata": {},
   "outputs": [
    {
     "name": "stdout",
     "output_type": "stream",
     "text": [
      "15\n"
     ]
    }
   ],
   "source": [
    "print( sum([1,2,3,4,5]) )"
   ]
  },
  {
   "cell_type": "code",
   "execution_count": 226,
   "metadata": {},
   "outputs": [
    {
     "name": "stdout",
     "output_type": "stream",
     "text": [
      "1\n"
     ]
    }
   ],
   "source": [
    "print( min([1,2,3,4,5]) )"
   ]
  },
  {
   "cell_type": "code",
   "execution_count": 227,
   "metadata": {},
   "outputs": [
    {
     "name": "stdout",
     "output_type": "stream",
     "text": [
      "5\n"
     ]
    }
   ],
   "source": [
    "print( max([1,2,3,4,5]) )"
   ]
  },
  {
   "cell_type": "markdown",
   "metadata": {},
   "source": [
    "Visto que en Python tenemos alternativas _a priori_ más simples y fáciles de entender que las funciones de orden superior, la cuestión ahora es ¿cuándo usar las funciones `map`, `filter` o `reduce`?\n",
    "\n",
    "A diferencia de otros lenguajes, Python incorpora el mecanismo de definiciones por comprensión, que como hemos visto resulta muy potente a la par que fácil de utilizar.\n",
    "\n",
    "Los ejemplos que hemos visto son casos típicos para resolverlos utilizando estos generadores o listas por comprensión en Python. De hecho, es la solución más habitual y extendida.\n",
    "\n",
    "Sin embargo, también habrá casos en los que los cálculos o funciones a aplicar no sean tan simples. Las funciones `map`, `filter` y `reduce` no solo aceptan funciones _lambda_, también aceptan las funciones habituales, siempre que respeten el número de parámetros y el tipo de resultado a devolver.\n",
    "\n",
    "Es más, la potencia más grande viene normalmente cuando hay que combinar estas operaciones de filtrado, _mapeo_ y reducción o acumulación. Se trata de un esquema bastante típico en procesamiento de datos, y en el que podemos aplicar las funciones `map`, `filter` y `reduce` de forma encadenada.\n",
    "\n",
    "Así que, como en otras ocasiones, la respuesta a cuándo usarlas es _\"depende\"_. Depende del tipo de problema, se adaptará mejor un tipo de solución u otra.\n",
    "\n",
    "> **El experto opina** ¿Recuerdas las recomendaciones sobre el estilo de programación que hemos ido haciendo? Cuando tengas que decidir entre varias formas de resolver la misma tarea, intenta elegir la solución que simplifique el código aprovechando las herramientas que tienes, haciéndolo también fácil de entender. Python ofrece alternativas para programar de forma elegante, concisa y comprensible.\n",
    "\n",
    "> No obstante, en caso de duda y si el tiempo apremia, utiliza la técnica que mejor domines. Si no estás totalmente seguro de cómo implementar algo con una técnica alternativa, te costará más esfuerzo y es más probable que cometas un error. Si tienes tiempo, entonces ¡adelante, prueba, equivócate y aprende!\n"
   ]
  },
  {
   "cell_type": "markdown",
   "metadata": {},
   "source": [
    "# Módulos y paquetes\n",
    "\n",
    "Conforme empezamos a desarrollar programas con estructuras cada vez más complejas (variables, funciones, clases y objetos), tenemos la necesidad de poder guardar nuestro código de una forma organizada para poder reutilizarlo, sin tener que rehacer cosas que ya habíamos resuelto.\n",
    "\n",
    "Los módulos son la forma de organizar nuestro código, agrupando definiciones y funcionalidades relacionadas en unidades que podemos cargar y reutilizar en nuevos programas.\n",
    "\n",
    "En Python, cada archivo de código terminado con el sufijo `.py` es un módulo. Un módulo de Python puede contener declaraciones de variables y constantes, definiciones de funciones y clases, comentarios. \n",
    "\n",
    "A continuación te mostramos el contenido de un módulo de ejemplo, incluyendo algunas de las definiciones de función que hemos utilizado hasta ahora. \n",
    "\n",
    "> **Atención** Puedes crear un fichero llamado `mimodulo.py` y copiar dentro el código siguiente. O si lo prefieres, puedes encontrar el fichero `mimodulo.py` en el material que acompaña a la unidad. Asegúrate de que el fichero se encuentre en el directorio de fuentes (`U09_src`), y que lo añadiste al _path_ como te explicamos al inicio de la unidad, para que esté accesible para la sesión de Python."
   ]
  },
  {
   "cell_type": "code",
   "execution_count": null,
   "metadata": {
    "collapsed": true
   },
   "outputs": [],
   "source": [
    "# %load U09_src/mimodulo.py\n",
    "\"\"\"\n",
    "Ejemplo de módulo con definicion de funciones\n",
    "y declaración de variables\n",
    "\"\"\"\n",
    "\n",
    "# Definimos funciones del módulo\n",
    "\n",
    "def fibonacci(n):\n",
    "    \"\"\"Calcula el n-ésimo elemento de la serie de Fibonacci\"\"\"\n",
    "    if n == 0:\n",
    "        return 0\n",
    "    elif n == 1:\n",
    "        return 1\n",
    "    else:\n",
    "        return fibonacci(n-1) + fibonacci(n-2)\n",
    "\n",
    "\n",
    "def genera_multiplicador(n):\n",
    "    \"\"\"Esta función crea y devuelve a su vez \n",
    "    una nueva función que multiplicará cualquier valor por n\"\"\"\n",
    "    return lambda x: x * n\n",
    "\n",
    "\n",
    "# Declaramos variables del módulo\n",
    "\n",
    "# Asignamos a esta variable la función multiplicadora por 2\n",
    "doblar = genera_multiplicador(2)\n",
    "\n",
    "# Asignamos a esta variable la función multiplicadora por 3\n",
    "triplicar = genera_multiplicador(3)\n"
   ]
  },
  {
   "cell_type": "markdown",
   "metadata": {},
   "source": [
    "## Carga de módulos y espacios de nombres\n",
    "\n",
    "Para cargar el contenido de un módulo y tener acceso a sus funciones, clases, variables, etc. utilizamos el comando `import` seguido del nombre del módulo."
   ]
  },
  {
   "cell_type": "code",
   "execution_count": 238,
   "metadata": {},
   "outputs": [
    {
     "data": {
      "text/plain": [
       "55"
      ]
     },
     "execution_count": 238,
     "metadata": {},
     "output_type": "execute_result"
    }
   ],
   "source": [
    "# vamos a importar nuestro primer módulo\n",
    "import mimodulo\n",
    "\n",
    "# ya podemos utilizar sus funciones\n",
    "mimodulo.fibonacci(10)"
   ]
  },
  {
   "cell_type": "markdown",
   "metadata": {},
   "source": [
    "Como ves, al hacer el `import` no ponemos el nombre del fichero completo con su extensión. Podemos el nombre _del módulo_. En Python el nombre del módulo se toma de la primera parte del nombre del fichero, sin el `.py`.\n",
    "\n",
    "Una vez que hemos cargado el módulo de esta forma, podemos acceder a su contenido a través del nombre del módulo, siguiendo con un punto (`.`) y el nombre de la función o variable que queremos usar.\n",
    "\n",
    "¿Pero por qué tenemos que anteponer el nombre del módulo?\n",
    "\n",
    "Piensa que en nuestras aplicaciones fácilmente acabaremos teniendo muchos módulos, y es posible que tengamos funciones o variables o cualquier otro objeto con el mismo nombre en módulos distintos. ¿Cómo hacer para que no haya confusión al importarlos y usarlos, cómo hacer que no _colisionen_?\n",
    "\n",
    "Para eso Python utiliza el concepto de _espacios de nombres_ (o _namespaces_ en inglés). Un espacio de nombres es algo así como un directorio en el que se van anotando los nombres de todos los objetos que vamos creando  (variables, funciones, etc). No puede haber dos objetos con el mismo nombre dentro de un _namespace_.\n",
    "\n",
    "Cuando iniciamos una nueva sesión de Python con el intérprete interactivo, o al ejecutar un programa o _script_, se crea un nuevo espacio de nombres _global_ asociado a esa sesión. En este espacio de nombres se añaden a su vez todos los símbolos, todos los nombres de los objetos predefinidos integrados en el lenguaje (funciones, variables, constantes... como `len`, `sum`, `list` o `map`). Y también se añadirán todos los objetos que nosotros vayamos definiendo directamente en la sesión.\n",
    "\n",
    "Volviendo a los módulos, en Python cada uno tiene su propio espacio de nombres, que contiene los identificadores de todos los elementos definidos dentro del módulo. Así que puedes tener dos variables o dos funciones con el mismo nombre en distintos módulos. Cada objeto estará incluido en su _namespace_ correspondiente y no habrá conflictos entre ellos.\n",
    "\n",
    "Al importar un módulo también podemos asociarle un alias, normalmente para abreviar el nombre original del módulo.\n"
   ]
  },
  {
   "cell_type": "code",
   "execution_count": 239,
   "metadata": {},
   "outputs": [
    {
     "data": {
      "text/plain": [
       "5"
      ]
     },
     "execution_count": 239,
     "metadata": {},
     "output_type": "execute_result"
    }
   ],
   "source": [
    "# importamos nuestro módulo, pero con un alias más cortito\n",
    "import mimodulo as m\n",
    "\n",
    "# ahora podemos usar el alias 'm' para acceder a las funciones\n",
    "m.fibonacci(5)"
   ]
  },
  {
   "cell_type": "markdown",
   "metadata": {},
   "source": [
    "También es posible importar directamente un elemento del módulo deseado a nuestro espacio de nombres actual. La sintaxis en este caso sería\n",
    "\n",
    "`from`  *nombre_modulo*  `import`  *nombre_elemento*"
   ]
  },
  {
   "cell_type": "code",
   "execution_count": 240,
   "metadata": {},
   "outputs": [
    {
     "data": {
      "text/plain": [
       "14"
      ]
     },
     "execution_count": 240,
     "metadata": {},
     "output_type": "execute_result"
    }
   ],
   "source": [
    "# vamos a importar únicamente la definición de 'doblar' de 'mimodulo'\n",
    "# incluyéndola en nuestro espacio de nombres actual\n",
    "from mimodulo import doblar\n",
    "\n",
    "# ahora podemos usar 'doblar' como si la hubiéramos definido en este nivel\n",
    "doblar(7)\n"
   ]
  },
  {
   "cell_type": "markdown",
   "metadata": {},
   "source": [
    "Esta variante incluye el objeto indicado (la función `doblar`) en nuestro espacio actual, sin añadir el espacio de nombres del módulo (en este caso, `mimodulo` no estaría definido para acceder a otras funciones).\n",
    "\n",
    "Hay que tener cuidado al utilizar esta forma de importar elementos, porque puede que ya exista otro objeto con el mismo nombre en nuestro contexto o espacio de nombres actual. Siempre podemos asignar un alias en estos casos."
   ]
  },
  {
   "cell_type": "code",
   "execution_count": 241,
   "metadata": {},
   "outputs": [
    {
     "name": "stdout",
     "output_type": "stream",
     "text": [
      "15\n",
      "15\n"
     ]
    }
   ],
   "source": [
    "# tenemos una versión local de la función 'triplicar'\n",
    "def triplicar(x):\n",
    "    \"\"\"Función triplicar local\"\"\"\n",
    "    return 3 * x\n",
    "\n",
    "# vamos a cargar la versión del módulo, pero con un alias\n",
    "# para que no haya conflictos de nombres\n",
    "from mimodulo import triplicar as triple\n",
    "\n",
    "# podemos usar ambas versiones\n",
    "print( triplicar(5) )\n",
    "print( triple(5) )"
   ]
  },
  {
   "cell_type": "markdown",
   "metadata": {},
   "source": [
    "Por último, también podemos importar todos los nombres definidos dentro de un módulo sin utilizar su _namespace_, aunque sin poder asignarles un alias. Para ello, en lugar de la lista de elementos del módulo que queremos importar, utilizamos un asterisco (`*`) a modo de comodín."
   ]
  },
  {
   "cell_type": "code",
   "execution_count": null,
   "metadata": {
    "collapsed": true
   },
   "outputs": [],
   "source": [
    "from mimodulo import *"
   ]
  },
  {
   "cell_type": "markdown",
   "metadata": {},
   "source": [
    "No obstante, esta última opción es muy desaconsejable, ya que reemplaza todas las definiciones de los nombres ya existentes. Además, dificulta entender el código, al no saber de dónde viene una función o una variable, y complica su mantenimiento.\n"
   ]
  },
  {
   "cell_type": "markdown",
   "metadata": {},
   "source": [
    "## Localizando los módulos\n",
    "\n",
    "Cuando le pedimos a Python que importe un módulo, primero tiene que encontrarlo. Para ello sigue una serie de pasos.\n",
    "\n",
    "- Primero comprueba si se trata de uno de los módulos predefinidos incluidos con el lenguaje\n",
    "- Si no existe ningún modulo del lenguaje con ese nombre, busca el fichero con el módulo en el directorio que contiene el _script_ de Python actual, o el directorio de ejecución de la sesión actual si estamos en modo interactivo\n",
    "- Si no lo encuentra en el directorio actual, consulta la variable entorno PYTHONPATH. Se trata de una variable que hay que definir a nivel de sistema operativo, y donde se puede indicar una lista de directorios donde buscar módulos y librerías instaladas\n",
    "- Por último, busca en el directorio donde esté instalado Python\n",
    "\n",
    "Podemos ver la secuencia de directorios donde buscará de la siguiente forma"
   ]
  },
  {
   "cell_type": "code",
   "execution_count": null,
   "metadata": {
    "collapsed": true
   },
   "outputs": [],
   "source": [
    "import sys\n",
    "sys.path"
   ]
  },
  {
   "cell_type": "markdown",
   "metadata": {},
   "source": [
    "Cuando desarrollemos nuestros módulos, tendremos que asegurarnos que sean accesibles desde el directorio actual o bien añadir los directorios donde se encuentren a la secuencia de búsqueda, bien mediante la variable de entorno `PYTHONPATH` o bien modificando la variable `sys.path` dentro del código.\n",
    "\n",
    "## Módulos ejecutables\n",
    "\n",
    "Podemos ejecutar un módulo como si fuera un fichero de _script_ normal."
   ]
  },
  {
   "cell_type": "markdown",
   "metadata": {},
   "source": [
    "`$ python mimodulo.py`"
   ]
  },
  {
   "cell_type": "markdown",
   "metadata": {},
   "source": [
    "Si el módulo unicamente contiene definiciones de variables, funciones, clases, etc. lo único que ocurrirá es que se cargarán todas ellas en un _namespace_, y seguidamente terminará la ejecución.\n",
    "\n",
    "Cuando se lanza la ejecución de un _script_ o un módulo, Python prepara el _namespace_ para la ejecución y le da el nombre especial `\"__main__\"`.\n",
    "\n",
    "Si queremos incluir en un módulo un código para que se ejecute solamente cuando lo lancemos como _script_, podemos consultar cuál es el nombre del _namespace_ actual utilizando la variable global `__name__`.\n",
    "\n",
    "Veamos el siguiente ejemplo de módulo con sección _main_."
   ]
  },
  {
   "cell_type": "code",
   "execution_count": null,
   "metadata": {
    "collapsed": true
   },
   "outputs": [],
   "source": [
    "# %load U09_src/mimoduloexec.py\n",
    "\"\"\"\n",
    "Ejemplo de módulo ejecutable\n",
    "\"\"\"\n",
    "\n",
    "# Definición de funciones\n",
    "\n",
    "def llama_a_la_puerta_de(persona, n_veces=3):\n",
    "    \"\"\"Llama a la puerta de la persona las veces que haga falta\"\"\"\n",
    "    return [ \"Toc,toc,toc! \" + persona + \"!\" for i in range(n_veces) ]\n",
    "\n",
    "\n",
    "# Cuerpo principal ejecutable\n",
    "\n",
    "# si estamos dentro del namespace __main__\n",
    "if __name__ == \"__main__\":\n",
    "    # ejecuta cosas!!\n",
    "    print(\"Ejecutamos el main\")\n",
    "    print(llama_a_la_puerta_de(\"Penny\"))\n",
    "    "
   ]
  },
  {
   "cell_type": "markdown",
   "metadata": {},
   "source": [
    "Prueba a ejecutar el anterior módulo\n",
    "\n",
    "`$ python mimoduloexec.py`\n",
    "\n",
    "Deberías ver cómo se imprimen los distintos mensajes.\n",
    "\n",
    "En cambio, si lo importas desde una sesión interactiva o desde otro módulo, simplemente cargará las definiciones, sin ejecutar nada más."
   ]
  },
  {
   "cell_type": "code",
   "execution_count": null,
   "metadata": {
    "collapsed": true
   },
   "outputs": [],
   "source": [
    "import mimoduloexec\n"
   ]
  },
  {
   "cell_type": "markdown",
   "metadata": {},
   "source": [
    "## Paquetes\n",
    "\n",
    "En Python los paquetes son la forma de organizar un conjunto de módulos relacionados entre sí.\n",
    "\n",
    "Igual que un módulo se corresponde con un archivo de código, los paquetes se estructuran como directorios o carpetas. Solo deben cumplir con un requisito adicional. Para que Python reconozca que se trata de un paquete de módulos, dentro del directorio debe incluirse un archivo especial de inicialización con el nombre `__init__.py`. \n",
    "\n",
    "De entrada, no es necesario que el archivo `__init__.py` contenga nada, podemos dejarlo completamente vacío.\n",
    "Conforme vayamos ampliando el contenido de nuestro paquete, podremos incluir dentro de `__init__.py` código de configuración e importación de otros módulos que se necesiten en el paquete.\n",
    "\n",
    "Veamos un ejemplo de estructura de directorios y ficheros para una colección de paquetes y módulos que hemos creado (puedes acceder a estos ficheros en el material que acompaña a esta unidad)\n",
    "\n",
    "`\n",
    "paqtema09/\n",
    "├── __init__.py\n",
    "├── modulo0901.py\n",
    "└── subtema09\n",
    "    ├── __init__.py\n",
    "    ├── modulo0901.py\n",
    "    └── modulo0902.py\n",
    "`\n",
    "\n",
    "Aquí hemos creado un paquete llamado `paqtema09`. Como corresponde, hemos añadido un fichero `__init__.py` dentro del directorio para que Python lo reconozca. También hemos añadido un módulo llamado `modulo0901`, creando su correspondiente fichero `.py`.\n",
    "\n",
    "Como puedes ver, también es posible crear _subpaquetes_, es decir, paquetes anidados dentro de paquetes. Es como cualquier organización de directorios o carpetas, no hay nada especial. Aquí tenemos el _subpaquete_ `subtema09` con su `__init__.py` dentro. Además, le hemos añadido dos módulos, `modulo0901` y `modulo0902`.\n",
    "\n",
    "¿Te fijaste? Tenemos dos módulos con el mismo nombre (`modulo0901`), pero no hay problema porque uno está en el paquete `paqtema09` y otro en el _subpaquete_ `subtema09`. Es como tener ficheros con el mismo nombre en carpetas distintas, no hay colisión.\n",
    "\n",
    "Ahora veamos como cargar un paquete y su contenido. Utilizamos `import`, de la misma forma que con los módulos."
   ]
  },
  {
   "cell_type": "code",
   "execution_count": null,
   "metadata": {
    "collapsed": true
   },
   "outputs": [],
   "source": [
    "import paqtema09\n"
   ]
  },
  {
   "cell_type": "markdown",
   "metadata": {},
   "source": [
    "En este caso concreto, esto tampoco es muy útil. El paquete en sí no contiene nada, las definiciones están dentro de los módulos. Si en `__init__.py` incluyéramos definiciones y carga de módulos, sí que los tendríamos accesibles a través de `paqtema09`.\n",
    "\n",
    "En su lugar, probemos a cargar los módulos. En los tres módulos que hay definimos una constante `CONSTANTE_T09`, con un valor distinto en cada módulo."
   ]
  },
  {
   "cell_type": "code",
   "execution_count": 242,
   "metadata": {},
   "outputs": [
    {
     "name": "stdout",
     "output_type": "stream",
     "text": [
      "Definida en paqtema09.modulo0901\n",
      "Definida en paqtema09.subtema09.modulo0901\n",
      "Definida en paqtema09.subtema09.modulo0902\n"
     ]
    }
   ],
   "source": [
    "import paqtema09.modulo0901\n",
    "import paqtema09.subtema09.modulo0901\n",
    "import paqtema09.subtema09.modulo0902\n",
    "\n",
    "print(paqtema09.modulo0901.CONSTANTE_T09)\n",
    "print(paqtema09.subtema09.modulo0901.CONSTANTE_T09)\n",
    "print(paqtema09.subtema09.modulo0902.CONSTANTE_T09)\n"
   ]
  },
  {
   "cell_type": "markdown",
   "metadata": {},
   "source": [
    "Como ves, aquí entran de nuevo los espacios de nombres. Igual que en los módulos, los paquetes tienen asociado su _namespace_ propio. Python utiliza esta jerarquía de _namespaces_ para resolver los nombres de los objetos y saber cuál tiene que usar.\n",
    "\n",
    "Podemos utilizar los alias para abreviar"
   ]
  },
  {
   "cell_type": "code",
   "execution_count": 243,
   "metadata": {},
   "outputs": [
    {
     "name": "stdout",
     "output_type": "stream",
     "text": [
      "Definida en paqtema09.modulo0901\n",
      "Definida en paqtema09.subtema09.modulo0901\n",
      "Definida en paqtema09.subtema09.modulo0902\n"
     ]
    }
   ],
   "source": [
    "import paqtema09.modulo0901 as m1a\n",
    "import paqtema09.subtema09.modulo0901 as m1b\n",
    "import paqtema09.subtema09.modulo0902 as m2\n",
    "\n",
    "print(m1a.CONSTANTE_T09)\n",
    "print(m1b.CONSTANTE_T09)\n",
    "print(m2.CONSTANTE_T09)\n"
   ]
  },
  {
   "cell_type": "markdown",
   "metadata": {},
   "source": [
    "O utilizar la construcción `from .. import ..` para cargar directamente un módulo en nuestro espacio de nombres, ahorrándonos tener que escribir la jerarquía completa de paquetes (eso sí, recuerda tener cuidado para que no colisionen nombres de objetos)."
   ]
  },
  {
   "cell_type": "code",
   "execution_count": 244,
   "metadata": {},
   "outputs": [
    {
     "name": "stdout",
     "output_type": "stream",
     "text": [
      "Definida en paqtema09.subtema09.modulo0901\n",
      "Definida en paqtema09.subtema09.modulo0902\n"
     ]
    }
   ],
   "source": [
    "from paqtema09.subtema09 import modulo0901\n",
    "from paqtema09.subtema09 import modulo0902\n",
    "\n",
    "print(modulo0901.CONSTANTE_T09)\n",
    "print(modulo0902.CONSTANTE_T09)\n"
   ]
  },
  {
   "cell_type": "markdown",
   "metadata": {},
   "source": [
    "## Algunos módulos incluidos de serie\n",
    "\n",
    "Python viene de serie con una ingente colección de paquetes y módulos conocida como _Python Standard Library_ (biblioteca estándar de Python), y que ofrecen gran cantidad de herramientas y funcionalidades muy útiles para ayudarnos en nuestros programas. \n",
    "\n",
    "Vamos a revisar unas pocas de ellas, pero no veremos todo ni entraremos en mucho detalle. Puedes investigar más en los siguientes enlaces\n",
    "\n",
    "https://docs.python.org/3/library/index.html\n",
    "\n",
    "http://docs.python.org.ar/tutorial/3/stdlib.html\n",
    "\n",
    "http://docs.python.org.ar/tutorial/3/stdlib2.html\n",
    "\n",
    "En cualquier caso, no hace falta que te aprendas todos estos módulos y sus funcionalidades de memoria. Es suficiente con que te vayas familiarizando con ellos y con lo que te ofrecen puedes. Siempre podrás consultar la documentación en cualquier momento para resolver tus dudas y refrescar cómo usarlos.\n",
    "\n",
    "### Módulos del sistema\n",
    "#### `os`\n",
    "Este módulo incluye funciones básicas para acceder e interactuar al sistema operativo.\n",
    "\n",
    "`import os`\n",
    "\n",
    "|                | Descripción                                                          |\n",
    "|:---------------|:---------------------------------------------------------------------|\n",
    "| `os.environ`   | Permite acceder a las variables de entorno; p.ej. os.environ['HOME'] |\n",
    "| `os.chdir()`   | Cambiar el directorio de trabajo de la sesión actual                 |\n",
    "| `os.mkdir()`   | Crear nuevos directorios                                             |\n",
    "| `os.rmdir()`   | Borrar directorios                                                   |\n",
    "| `os.listdir()` | Devuelve un listado con el contenido de un directorio                |\n",
    "| `os.open()`    | Abrir un fichero                                                     |\n",
    "| `os.close()`   | Cerrar un fichero                                                    |\n",
    "\n",
    "\n",
    "\n",
    "#### `os.path`\n",
    "Este módulo nos permite realizar consultas sobre nombres de ficheros y directorios\n",
    "\n",
    "`import os.path`\n",
    "\n",
    "|              | Descripción                                                          |\n",
    "|:-------------|:---------------------------------------------------------------------|\n",
    "| `os.path.basename()` | Devuelve el nombre del último elemento (directorio/fichero) de una ruta |\n",
    "| `os.path.dirname()` | Devuelve la cadena de directorios hasta el último elemento de la ruta |\n",
    "| `os.path.absname()`  | Devuelve la ruta absoluta completa hasta un directorio o fichero |\n",
    "| `os.path.isdir()` | Comprueba si una ruta corresponde a un directorio |\n",
    "| `os.path.isfile()` | Comprueba si una ruta corresponde a un fichero |\n",
    "\n",
    "\n",
    "#### `sys`\n",
    "Este módulo da acceso a variables y funciones relacionadas con el intérprete y su estado\n",
    "\n",
    "`import sys`\n",
    "\n",
    "|              | Descripción                                                          |\n",
    "|:-------------|:---------------------------------------------------------------------|\n",
    "| `sys.path` | Listado de directorios de búsqueda de módulos |\n",
    "| `sys.modules` | Diccionario con los módulos cargados actualmente |\n",
    "| `sys.version` | Versión de Python ejecutándose |\n",
    "| `sys.argv` | Listado de parámetros pasados al _script_ Python por línea de comandos |\n",
    "| `sys.stdin` | Referencia a la entrada estándar de datos |\n",
    "| `sys.stdout` | Referencia a la salida estándar de datos |\n",
    "| `sys.stderr` | Referencia a la salida estándar de errores |\n",
    "| `sys.exit()` | Terminar la ejecución de Python y salir al sistema operativo |\n",
    "\n",
    "\n",
    "### Módulos de tipos de datos \n",
    "#### `datetime`\n",
    "Este módulo incluye clases y funciones básicas para manipular fechas y horas\n",
    "\n",
    "`import datetime as dt`\n",
    "\n",
    "|              | Descripción                                                          |\n",
    "|:-------------|:---------------------------------------------------------------------|\n",
    "| `dt.date()` | Crea un objeto que representa una fecha (con año, mes y día) |\n",
    "| `dt.time()` | Crea un objeto que representa una hora del día (con horas, minutos y segundos) |\n",
    "| `dt.datetime()` | Combinación de `date` y `time` |\n",
    "| `dt.date.today()` | Devuelve un objeto `date` con la fecha de hoy |\n",
    "| `dt.datetime.now()` | Devuelve un objeto `datetime` que representa el instante actual |\n",
    "\n",
    "\n",
    "#### `calendar`\n",
    "Este módulo permite formatear y hacer operaciones con fechas de calendario\n",
    "\n",
    "### Módulos adicionales para cadenas de texto\n",
    "#### `string`\n",
    "Este módulo proporciona constantes y funciones adicionales para formatear cadenas de texto\n",
    "\n",
    "`import string`\n",
    "\n",
    "|              | Descripción                                                          |\n",
    "|:-------------|:---------------------------------------------------------------------|\n",
    "| `string.ascii_lowercase` | Secuencia de caracteres alfabéticos en minúscula |\n",
    "| `string.ascii_uppercase` | Secuencia de caracteres alfabéticos en mayúscula |\n",
    "| `string.digits` | Secuencia de caracteres numéricos |\n",
    "| `string.Formatter` | Clase para dar formatos avanzados a cadenas de texto  |\n",
    "\n",
    "#### `re`\n",
    "Este módulo proporciona las funcionalidades para trabajar con expresiones regulares en Python.\n",
    "Las expresiones regulares son una forma de expresar patrones de búsqueda mediante una secuencia de caracteres. Se trata de una herramienta muy potente para realizar búsquedas, extracciones, sustituciones y otras operaciones de edición sobre cadenas de texto.\n",
    "Si no las has usado nunca y no conoces cómo funcionan, no te preocupes, tarde o temprano te toparás con ellas. Solo recuerda que Python te permite usarlas.\n",
    "\n",
    "`import re`\n",
    "\n",
    "|              | Descripción                                                          |\n",
    "|:-------------|:---------------------------------------------------------------------|\n",
    "| `re.compile()` | Compila una expresión regular para poder utilizarla en búsquedas |\n",
    "| `re.search()` | Busca la primera ocurrencia de una expresión regular |\n",
    "| `re.match()` | Busca la expresión regular y devuelve los elementos con correspondencia al patrón |\n",
    "| `re.split()` | Divide una cadena de texto en porciones en base al patrón |\n",
    "\n",
    "\n",
    "### Módulos matemáticos\n",
    "#### `math`\n",
    "Este módulo ofrece varias funciones matemáticas de uso extendido\n",
    "\n",
    "`import math`\n",
    "\n",
    "|              | Descripción                                                          |\n",
    "|:-------------|:---------------------------------------------------------------------|\n",
    "| `math.ceil()` | Devuelve el número entero más pequeño que es mayor o igual que un valor |\n",
    "| `math.floor()` | Devuelve el número entero más grande que es menor o igual que un valor |\n",
    "| `math.gdc()` | Devuelve el máximo común divisor de dos números |\n",
    "| `math.isinf()` | Comprueba si es un valor infinito |\n",
    "| `math.trunc()` | Devuelve la parte entera de un número en punto flotante |\n",
    "| `math.exp()` | Devuelve el valor de $e^x$ |\n",
    "| `math.log()` | Devuelve el logaritmo de x (en base $e$) |\n",
    "| `math.sqrt()` | Devuelve la la raíz cuadrada de un valor |\n",
    "| `math.cos()` | Devuelve el coseno de un valor |\n",
    "| `math.sin()` | Devuelve el seno de un valor |\n",
    "| `math.tan()` | Devuelve la tangente de un valor |\n",
    "| `math.pi` | Constante con el valor del número $\\pi$ |\n",
    "| `math.e` | Constante con el valor del número $e$ |\n",
    "| `math.inf` | Constante que representa Infinito |\n",
    "\n",
    "#### `random`\n",
    "Este módulo proporciona funcionalidades para generar números pseudo-aleatorios, trabajar con diferentes distribuciones de probabilidad y simular procesos y muestreos estocásticos.\n",
    "\n",
    "`import random`\n",
    "\n",
    "|              | Descripción                                                          |\n",
    "|:-------------|:---------------------------------------------------------------------|\n",
    "| `random.seed()` | Inicializar la _semilla_ del generador de números aleatorios |\n",
    "| `random.randint()` | Devuelve un número entero aleatorio entre dos valores |\n",
    "| `random.choice()` | Devuelve un elemento elegido aleatoriamente de una secuencia |\n",
    "| `random.shuffle()` | Mezcla aleatoriamente los elementos de una secuencia |\n",
    "| `random.sample()` | Extrae una muestra aleatoria de _k_ elementos de una secuencia |\n",
    "| `random.random()` | Devuelve un número aleatorio en punto flotante entre 0 y 1 |\n",
    "| `random.uniform()` | Devuelve un número aleatorio a partir de una distribución uniforme |\n",
    "| `random.expovariate()` | Devuelve un número aleatorio a partir de una distribución exponencial |\n",
    "| `random.gauss()` | Devuelve un número aleatorio a partir de una distribución normal |\n",
    "\n",
    "\n",
    "### Módulos para programación funcional\n",
    "#### `functools`\n",
    "Este módulo incluye utilidades para facilitar el trabajo con funciones de orden superior\n",
    "\n",
    "`import functools as fn`\n",
    "\n",
    "|              | Descripción                                                          |\n",
    "|:-------------|:---------------------------------------------------------------------|\n",
    "| `fn.reduce()` | Implementa la función de orden superior de _reducción_ |\n",
    "\n",
    "\n",
    "#### `itertools`\n",
    "Este módulo ofrece una serie de _iteradores_ muy útiles para construir ciertos bucles de forma eficiente\n",
    "\n",
    "`import itertools as it`\n",
    "\n",
    "|              | Descripción                                                          |\n",
    "|:-------------|:---------------------------------------------------------------------|\n",
    "| `it.cycle()` | Itera indefinidamente de forma cíclica sobre los elementos de una secuencia |\n",
    "| `it.repeat()` | Itera repitiendo un mismo valor |\n",
    "| `it.accumulate()` | Itera sobre los valores acumulados de una secuencia |\n",
    "| `it.product()` | Itera sobre el producto cartesiano de dos secuencias |\n",
    "| `it.permutations()` | Itera sobre las permutaciones de _k_ elementos de una secuencia |\n",
    "| `it.combinations()` | Itera sobre las combinaciones únicas ordenadas de _k_ elementos de una secuencia |\n",
    "\n",
    "#### `operator`\n",
    "Este módulo proporciona operadores comunes para su uso con funciones de orden superior, en lugar de expresiones _lambda_. Enumeramos solo algunos de los que incluye.\n",
    "\n",
    "`import operator as op`\n",
    "\n",
    "|              | Descripción                                                          |\n",
    "|:-------------|:---------------------------------------------------------------------|\n",
    "| `op.le` | Operación $x \\le y$ |\n",
    "| `op.eq` | Operación $x = y$ |\n",
    "| `op.abs` | Operación _valor absoluto_ |\n",
    "| `op.add` | Operación $x + y$ |\n",
    "| `op.sub` | Operación $x - y$ |\n",
    "| `op.mul` | Operación $x * y$ |\n",
    "| `op.pow` | Operación $x^y$ |\n",
    "\n",
    "\n",
    "### Módulos para ficheros\n",
    "#### `fileinput`\n",
    "Este módulo proporciona funciones para iterar leyendo líneas de uno o más ficheros de entrada.\n",
    "\n",
    "`import fileinput as fin`\n",
    "\n",
    "|              | Descripción                                                          |\n",
    "|:-------------|:---------------------------------------------------------------------|\n",
    "| `fin.input()` | Itera leyendo línea a línea de todos los ficheros de entrada indicados |\n",
    "\n",
    "#### `csv`\n",
    "Este módulo proporciona funciones para leer y escribir ficheros en formato CSV.\n",
    "\n",
    "`import csv`\n",
    "\n",
    "|              | Descripción                                                          |\n",
    "|:-------------|:---------------------------------------------------------------------|\n",
    "| `csv.reader()` | Devuelve un objeto para leer el contenido de un fichero CSV determinado |\n",
    "| `csv.writer()` | Devuelve un objeto para escribir datos en un fichero con formato CSV |\n",
    "\n",
    "\n",
    "## Instalación de librerías externas"
   ]
  },
  {
   "cell_type": "markdown",
   "metadata": {
    "collapsed": true
   },
   "source": [
    "En muchos casos, Python y su biblioteca estándar nos proporcionarán todos los elementos que necesitamos para construir nuestros programas.\n",
    "\n",
    "Sin embargo, conforme tengamos que resolver tareas más complejas, acabaremos necesitando incluir librerías y módulos desarrollados por terceros. Como ya comentamos al principio de esta unidad, Python cuenta con una enorme comunidad de usuarios que colaboran y aportan nuevos módulos de forma libre para que todo el mundo pueda beneficiarse. Puedes empezar a explorar toda la variedad de librerías disponibles en la web de Pypi (_The Python Package Index_ - https://pypi.python.org/pypi).\n",
    "\n",
    "Para instalar y administrar los módulos que tenemos en nuestra máquina, contamos con la herramienta `pip`. Actualmente, `pip` está incluida ya en las instalaciones de Python a partir de las versiones 2.7.9 (para Python 2) y 3.4 (para Python 3). En versiones anteriores, es posible instalar `pip` siguiendo las instrucciones incluidas en la página web https://pip.pypa.io/en/stable/installing/\n",
    "\n",
    "Una vez que la herramienta está instalada, utilizar `pip` es muy sencillo. Se trata de una utilidad de línea de comandos, así que tendremos que abrir una consola o terminal.\n",
    "\n",
    "Para instalar un nuevo módulo utilizamos el comando `install` de `pip`:\n",
    "\n",
    "`$ pip install ModuloNuevo`\n",
    "\n",
    "Como ves, ni siquiera es necesario descargar los ficheros del módulo. Este comando automáticamente se conecta al repositorio de Pypi para obtener el módulo y procede a instalarlo. Si el nuevo módulo a su vez depende de otros para funcionar, estas dependencias también se descargarán e instalarán de forma automática.\n",
    "\n",
    "En la tabla siguiente tienes un listado de los comandos más habituales de `pip`\n",
    "\n",
    "| Comando                        | Descripción                    |\n",
    "|:-------------------------------|:-------------------------------|\n",
    "| `pip install Modulo`           | Instalar un módulo obtenido del repositorio |\n",
    "| `pip install --upgrade Modulo` | Actualizar la versión de un módulo ya instalado |\n",
    "| `pip uninstall Modulo`         | Desinstalar un módulo  |\n",
    "| `pip list`                     | Listar los módulos instalados |\n",
    "| `pip show Modulo`              | Mostrar información sobre un módulo instalado |\n",
    "| `pip search patron`            | Buscar información sobre módulos en el repositorio |\n"
   ]
  },
  {
   "cell_type": "markdown",
   "metadata": {},
   "source": [
    "# Entrada y salida de datos\n",
    "\n",
    "En la mayoría de los programas es necesario poder cargar unos datos de entrada y almacenar los resultados de salida. En esta sección vamos a ver cómo utilizar los mecanismos básicos de manejo de ficheros en Python para realizar estas tareas.\n",
    "\n",
    "Python nos permite trabajar con un fichero a través de un objeto `File`. Un objeto `File` representa una conexión a un fichero determinado, y nos permite leer su contenido o escribir en él.\n",
    "\n",
    "Veamos un ejemplo sencillo."
   ]
  },
  {
   "cell_type": "code",
   "execution_count": 250,
   "metadata": {},
   "outputs": [
    {
     "name": "stdout",
     "output_type": "stream",
     "text": [
      "Lorem ipsum dolor sit amet,\n",
      "\n"
     ]
    }
   ],
   "source": [
    "# Ajusta la ubicación del directorio `U09_aux`\n",
    "# incluido en el material de la unidad\n",
    "# que descargaste del campus !!\n",
    "DIR_U09_AUX = os.path.join(\".\", \"U09_aux\")\n",
    "\n",
    "nombre_fichero = os.path.join(DIR_U09_AUX, \"lorem_ipsum.txt\")\n",
    "\n",
    "# Abrimos un fichero de texto con la función open()\n",
    "f = open(nombre_fichero, \"r\")\n",
    "\n",
    "# Tenemos un objeto file en la variable f\n",
    "# Leemos una línea del fichero usando readline()\n",
    "linea_1 = f.readline()\n",
    "print(linea_1)\n",
    "\n",
    "# Cuando hemos terminado, debemos cerrar el fichero\n",
    "f.close()"
   ]
  },
  {
   "cell_type": "markdown",
   "metadata": {},
   "source": [
    "Para empezar, tenemos que abrir el fichero. Para ello utilizamos la función `open()`. El primer argumento de esta función es el nombre del fichero que queremos abrir. Si el fichero está en un directorio diferente de donde se ejecuta la sesión de Python, tendremos que indicar la ruta completa de directorios. El segundo argumento indica _en qué modo_ queremos abrir el fichero, esto es, si queremos abrirlo solo para lectura (pero no podremos escribir en él), o para lectura y escritura, si queremos vaciar su contenido antes de empezar a escribir, o queremos añadir contenido al final...\n",
    "\n",
    "A continuación indicamos los códigos que se utilizan para los distintos _modos_ aceptados\n",
    "\n",
    "| Modo | Descripción |\n",
    "|:-----|:------------|\n",
    "| `r`  | Abrir solo para lectura, desde el inicio del fichero |\n",
    "| `r+` | Abrir para lectura y escritura, desde el inicio del fichero |\n",
    "| `w`  | Abrir solo para escritura. Si el fichero no existe, lo crea primero. Si ya existe, sobreescribe el contenido |\n",
    "| `w+` | Abrir para escritura y lectura. Si el fichero no existe, lo crea primero. Si ya existe, sobreescribe el contenido |\n",
    "| `a`  | Abrir para añadir al final del fichero. Si el fichero no existe, lo crea primero. |\n",
    "| `a+` | Abrir para añadir al final del fichero y para lectura. Si el fichero no existe, lo crea primero. |\n",
    "\n",
    "Estos modos sirver para trabajar con ficheros cuyo contenido esté codificado como texto. Si queremos trabajar con datos binarios (por ejemplo, una imagen), añadimos el modificador `b` a la primera letra del modo (p.ej. `\"rb\"`, `\"rb+\"` o `\"wb+\"`).\n",
    "\n",
    "La función `open()` nos devuelve un objeto `file` que usaremos para acceder y manipular su contenido.\n",
    "\n",
    "Para leer el contenido, disponemos de varias funciones\n",
    "\n",
    "| Función                 | Descripción                            |\n",
    "|:------------------------|:---------------------------------------|\n",
    "| `f.read(n)`             | Lee `n` caracteres o bytes del fichero |\n",
    "| `f.readline()`          | Lee una nueva línea del fichero        |\n",
    "| `f.readlines()`         | Lee todas las líneas del fichero       |\n",
    "\n",
    "Veamos un ejemplo de cómo leer el contenido completo de un fichero de texto."
   ]
  },
  {
   "cell_type": "code",
   "execution_count": null,
   "metadata": {
    "collapsed": true
   },
   "outputs": [],
   "source": [
    "# Abrimos un fichero de texto con la función open()\n",
    "f = open(nombre_fichero, \"r\")\n",
    "\n",
    "# Leemos todas las lineas del fichero\n",
    "lineas = f.readlines():\n",
    "print(lineas)\n",
    "\n",
    "# Cuando hemos terminado, debemos cerrar el fichero\n",
    "f.close()"
   ]
  },
  {
   "cell_type": "markdown",
   "metadata": {},
   "source": [
    "La función `f.readlines()` lee todas las líneas y las devuelve en una lista. En realidad, si lo que necesitamos es iterar y procesar secuencialmente cada una de las líneas, cargar todo el contenido del fichero de golpe en memoria no suele ser la mejor opción, sobre todo si el fichero es grande. Una forma más eficiente y rápida es la siguiente."
   ]
  },
  {
   "cell_type": "code",
   "execution_count": null,
   "metadata": {
    "collapsed": true
   },
   "outputs": [],
   "source": [
    "# Abrimos un fichero de texto con la función open()\n",
    "f = open(nombre_fichero, \"r\")\n",
    "\n",
    "# Iteramos sobre las lineas del fichero\n",
    "for linea in f:\n",
    "    print(linea)\n",
    "\n",
    "# Cerramos el fichero\n",
    "f.close()"
   ]
  },
  {
   "cell_type": "markdown",
   "metadata": {},
   "source": [
    "Para escribir datos en un fichero podemos usar las siguientes funciones\n",
    "\n",
    "| Función                 | Descripción                                                |\n",
    "|:------------------------|:-----------------------------------------------------------|\n",
    "| `f.write(datos)`        | Escribe el contenido de `datos` en el fichero              |\n",
    "| `f.writelines(lineas)`  | Escribe el contenido de la lista de `lineas` en el fichero |\n",
    "\n",
    "Cuando utilicemos estas funciones tenemos que saber que no añaden los caracteres delimitadores de líneas al final de cada una de forma automática. Si el propio contenido no incluye los caracteres de fin de línea, tendremos que añadirlos nosotros antes (si es que estamos escribiendo ficheros de texto, claro).\n"
   ]
  },
  {
   "cell_type": "code",
   "execution_count": null,
   "metadata": {
    "collapsed": true
   },
   "outputs": [],
   "source": [
    "# Abrimos el fichero con los datos de entrada\n",
    "f_in = open(nombre_fichero, \"r\")\n",
    "# y un fichero en el que guardar los resultados\n",
    "f_out = open(\"resultado.txt\", \"w\")\n",
    "\n",
    "# Iteramos cada línea del fichero de entrada\n",
    "for linea in f_in:\n",
    "    # Dividimos cada línea en palabras\n",
    "    palabras = linea.split()\n",
    "    # Contamos cuantas palabras hay\n",
    "    n_palabras = len(palabras)\n",
    "    # Escribimos el número de palabras en el fichero de salida\n",
    "    f_out.write(str(n_palabras))\n",
    "    # Añadimos el carácter de fin de línea\n",
    "    f_out.write(\"\\n\")\n",
    "\n",
    "# Cuando hemos terminado, debemos cerrar los fichero\n",
    "f_in.close()\n",
    "f_out.close()"
   ]
  },
  {
   "cell_type": "markdown",
   "metadata": {},
   "source": [
    "Cuando ejecutes este fragmento de código, busca y abre el fichero `resultado.txt` y comprueba su contenido. Fíjate también en cómo escribimos en el fichero el número de palabras que hemos contado en cada línea. No escribimos directamente la variable `n_palabras`. Convertimos el valor a cadena de texto utilizando `str()`. La razón es que si abrimos un fichero para escritura en modo texto (`\"w\"`), debemos pasar cadenas de texto a la función `f.write()`. De lo contrario, se producirá un error.\n",
    "\n",
    "Como habrás visto, cada nueva operación de lectura y escritura que ejecutamos comienza a partir de la última posición accedida del fichero. Esto es el comportamiento que necesitaremos habitualmente. En algunos casos, puede que queramos volver al inicio del fichero, o saber en qué posición del fichero nos encontramos. Para eso tenemos las funciones `f.seek()` y `f.tell()`.\n",
    "\n",
    "| Función                       | Descripción                                                |\n",
    "|:------------------------------|:-----------------------------------------------------------|\n",
    "| `f.seek(posicion [, origen])` | Desplazarse a una `posicion` dentro del fichero, relativa al `origen` |\n",
    "| `f.tell()`                    | Devolver la posición actual dentro del fichero |\n",
    "\n",
    "En la función `f.seek()` el argumento `origen` es opcional y puede tomar los siguientes valores\n",
    "\n",
    "| Origen en `f.seek()` | Descripción                                      |\n",
    "|:---------------------|:-------------------------------------------------|\n",
    "| 0                    | Desplazarse desde el inicio del fichero          |\n",
    "| 1                    | Desplazarse desde la posición actual del fichero |\n",
    "| 2                    | Desplazarse desde el final del fichero           |\n",
    "\n",
    "En los dos últimos casos, el argumento `posicion` de `f.seek()` puede tomar valores negativos. Así le indicamos que queremos desplazarnos hacia atrás desde la posición actual (`origen = 1`) o desde el final del fichero (`origen = 2`). Veamos un ejemplo sencillo."
   ]
  },
  {
   "cell_type": "code",
   "execution_count": 252,
   "metadata": {
    "collapsed": true
   },
   "outputs": [],
   "source": [
    "# Abrimos un fichero de texto con la función open()\n",
    "f = open(nombre_fichero, \"r\")"
   ]
  },
  {
   "cell_type": "code",
   "execution_count": 253,
   "metadata": {},
   "outputs": [
    {
     "name": "stdout",
     "output_type": "stream",
     "text": [
      "Pos. inicial: 0\n"
     ]
    }
   ],
   "source": [
    "# Nada más abrir el fichero para lectura estaremos en la posición cero\n",
    "pos_0 = f.tell()\n",
    "print(\"Pos. inicial:\", pos_0)"
   ]
  },
  {
   "cell_type": "code",
   "execution_count": 254,
   "metadata": {},
   "outputs": [
    {
     "name": "stdout",
     "output_type": "stream",
     "text": [
      "Linea 1:  Lorem ipsum dolor sit amet,\n",
      "\n",
      "Tras leer linea 1, pos: 28\n"
     ]
    }
   ],
   "source": [
    "# Leemos la primera línea del fichero\n",
    "linea_1 = f.readline()\n",
    "pos_1 = f.tell()\n",
    "print(\"Linea 1: \", linea_1)\n",
    "print(\"Tras leer linea 1, pos:\", pos_1)"
   ]
  },
  {
   "cell_type": "code",
   "execution_count": 255,
   "metadata": {},
   "outputs": [
    {
     "name": "stdout",
     "output_type": "stream",
     "text": [
      "Linea 2:  consectetur adipiscing elit,\n",
      "\n",
      "Tras leer linea 2, pos: 57\n"
     ]
    }
   ],
   "source": [
    "# Leemos la segunda línea del fichero\n",
    "linea_2 = f.readline()\n",
    "pos_2 = f.tell()\n",
    "print(\"Linea 2: \", linea_2)\n",
    "print(\"Tras leer linea 2, pos:\", pos_2)"
   ]
  },
  {
   "cell_type": "code",
   "execution_count": 256,
   "metadata": {},
   "outputs": [
    {
     "data": {
      "text/plain": [
       "0"
      ]
     },
     "execution_count": 256,
     "metadata": {},
     "output_type": "execute_result"
    },
    {
     "name": "stdout",
     "output_type": "stream",
     "text": [
      "Volvemos al inicio del fichero\n"
     ]
    }
   ],
   "source": [
    "# Nos volvemos a colocar al inicio del fichero\n",
    "f.seek(0)\n",
    "print(\"Volvemos al inicio del fichero\")"
   ]
  },
  {
   "cell_type": "code",
   "execution_count": 257,
   "metadata": {},
   "outputs": [
    {
     "name": "stdout",
     "output_type": "stream",
     "text": [
      "Linea 1 (bis): Lorem ipsum dolor sit amet,\n",
      "\n",
      "Tras leer linea 1 (bis), pos: 28\n"
     ]
    }
   ],
   "source": [
    "# Leemos la primera linea de nuevo\n",
    "linea_1_bis = f.readline()\n",
    "pos_1_bis = f.tell()\n",
    "print(\"Linea 1 (bis):\", linea_1_bis)\n",
    "print(\"Tras leer linea 1 (bis), pos:\", pos_1_bis)"
   ]
  },
  {
   "cell_type": "code",
   "execution_count": 258,
   "metadata": {},
   "outputs": [
    {
     "data": {
      "text/plain": [
       "57"
      ]
     },
     "execution_count": 258,
     "metadata": {},
     "output_type": "execute_result"
    },
    {
     "name": "stdout",
     "output_type": "stream",
     "text": [
      "Saltamos tras la linea 2\n",
      "Linea 3:  sed eiusmod tempor incidunt\n",
      "\n",
      "Tras leer linea 3, pos: 85\n"
     ]
    }
   ],
   "source": [
    "# Ahora nos desplazamos a continuación de la segunda línea\n",
    "f.seek(pos_2)\n",
    "print(\"Saltamos tras la linea 2\")\n",
    "linea_3 = f.readline()\n",
    "pos_3 = f.tell()\n",
    "print(\"Linea 3: \", linea_3)\n",
    "print(\"Tras leer linea 3, pos:\", pos_3)"
   ]
  },
  {
   "cell_type": "code",
   "execution_count": 259,
   "metadata": {
    "collapsed": true
   },
   "outputs": [],
   "source": [
    "# Cuando hemos terminado, debemos cerrar el fichero\n",
    "f.close()"
   ]
  },
  {
   "cell_type": "markdown",
   "metadata": {},
   "source": [
    "A lo largo de todos estos ejemplos hemos visto que debemos asegurarnos de cerrar un fichero una vez que hemos terminado de trabajar con él. Existe una forma alternativa de trabajar con ficheros en Python, más elegante y que se encarga de cerrar automáticamente el fichero, utilizando la cláusula `with`. Veamos cómo.\n"
   ]
  },
  {
   "cell_type": "code",
   "execution_count": 260,
   "metadata": {},
   "outputs": [
    {
     "name": "stdout",
     "output_type": "stream",
     "text": [
      "Lorem ipsum dolor sit amet,\n",
      "\n",
      "consectetur adipiscing elit,\n",
      "\n",
      "sed eiusmod tempor incidunt\n",
      "\n",
      "ut labore et dolore magna aliqua.\n",
      "\n",
      "¿El fichero está cerrado? True\n"
     ]
    }
   ],
   "source": [
    "# Abrimos el fichero dentro de un bloque `with`\n",
    "with open(nombre_fichero, \"r\") as f:\n",
    "    # Dentro del bloque, podemos usar el objeto File de forma normal\n",
    "    for linea in f:\n",
    "        print(linea)\n",
    "\n",
    "# Al salir del bloque `with`, el fichero se cierra automáticamente\n",
    "print(\"¿El fichero está cerrado?\", f.closed)"
   ]
  },
  {
   "cell_type": "markdown",
   "metadata": {},
   "source": [
    "La cláusula `with` nos permite definir e inicializar un _alias_ a partir de un objeto o expresión, de forma que podamos utilizarlo dentro del bloque de código que sigue a la cláusula. Al terminar el bloque, se ejecutan de forma automática las operaciones de finalización que tenga asociadas el objeto.\n",
    "\n",
    "En este caso, usamos la cláusula `with` asociando el objeto `File` devuelto por la función `open()` al _alias_ `f`. Dentro del bloque `with` podemos acceder al fichero usando `f` como una variable normal, de las formas que ya hemos visto. La diferencia viene cuando se terminan de ejecutar todas las operaciones del bloque `with`. Cuando se llega al final del bloque, este se encarga de hacer el `close()` sobre el fichero de forma automática.\n",
    "\n",
    "## La entrada y salida estándar\n",
    "\n",
    "Si eres un usuario habitual de Linux o Unix (o incluso de Mac OS), probablemente ya estarás familiarizado con los conceptos de la entrada y salida estándar de un proceso.\n",
    "\n",
    "Sin embargo, si solo has sido usuario de Windows o de Mac OS sin utilizar mucho la consola o terminal de línea de comandos, es fácil que no sepas a qué nos estamos refiriendo.\n",
    "\n",
    "Podemos ver la entrada y salida estándar como unas conexiones a ficheros que se abren de forma automática para cualquier proceso del que se lance la ejecución. \n",
    "\n",
    "<img src=\"./img/fig_process_standard_io.png\" width=350px />\n",
    "\n",
    "La entrada estándar (comunmente `stdin`, por _standard input_) es una conexión solo de lectura a través de la que un programa puede recibir y leer datos generados desde el entorno en el que se lanzó. Por ejemplo, cuando lanzamos un programa desde el terminal o consola de texto, la conexión `stdin` recibe la entrada generada desde el teclado.  \n",
    "\n",
    "La salida estándar (`stdout`, por _standard output_) es la conexión solo de escritura en la que se escribe por defecto cualquier mensaje o resultado de salida, cuando no se utiliza explícitamente otro fichero o conexión. Por ejemplo, cuando hacemos un `print()` en Python, se escribe en `stdout`. Si estamos ejecutando el programa desde un terminal o consola de texto, veremos la salida en el terminal.\n",
    "\n",
    "Existe además una tercera conexión, la salida de error estándar o `stderr`. Es una conexión similar a `stdout`, solo de escritura, y que se utiliza como el canal por defecto en el que se escriben los mensajes de error, excepciones, etc.\n",
    "\n",
    "En Python podemos acceder a estos ficheros a través del módulo `sys`. \n",
    "\n",
    "| Objeto     | Funciones |\n",
    "|:-----------|:----------|\n",
    "| sys.stdin  | sys.stdin.read()<br/>sys.stdin.readline()<br/>sys.stdin.readlines() |\n",
    "| sys.stdout | sys.stdout.write()<br/>sys.stdout.writelines() |\n",
    "| sys.stderr | sys.stderr.write()<br/>sys.stderr.writelines() |\n",
    "\n",
    "\n",
    "El programa `loop_lee_stdin.py` es un pequeño ejemplo de cómo utilizar `stdin` y `stdout`."
   ]
  },
  {
   "cell_type": "code",
   "execution_count": null,
   "metadata": {
    "collapsed": true
   },
   "outputs": [],
   "source": [
    "# %load U09_src/loop_lee_stdin.py\n",
    "\"\"\"\n",
    "Ejemplo de lectura de datos de la entrada estándar,\n",
    "capturada desde teclado al lanzar el script por linea de comandos\n",
    "\"\"\"\n",
    "\n",
    "import sys\n",
    "\n",
    "# Escribimos un mensaje inicial para el usuario en STDOUT\n",
    "sys.stdout.write(\"Prueba a escribir (una línea vacía sirve para salir) ...\\n\")\n",
    "\n",
    "while True:\n",
    "  \n",
    "    # Leemos de STDIN\n",
    "    x = sys.stdin.readline()\n",
    "    \n",
    "    # Comprobamos si no es una línea vacía\n",
    "    if (len(x) > 0) and (x != '') and (x != '\\n'):\n",
    "        mensaje = \"He leído {}\".format(x)\n",
    "        sys.stdout.write(mensaje)\n",
    "    else:\n",
    "        # Es una línea vacía, salimos\n",
    "        sys.stderr.write(\"No hay más datos\\n\")\n",
    "        break\n"
   ]
  },
  {
   "cell_type": "markdown",
   "metadata": {},
   "source": [
    "Para probar el programa, abre un terminal, ve al directorio con el material de la unidad donde se encuentran los ficheros con código fuente y ejecuta\n",
    "\n",
    "`$ python loop_lee_stdin.py`\n",
    "\n",
    "Al ejecutarlo, el programa mostrará en la consola el mensaje inicial y se quedará esperando a que escribas algo utilizando el teclado. Cuando pulses INTRO, se completará la línea y la función `readline()` de `sys.stdin` devolverá la cadena a la variable `x`, para escribir a continuación un mensaje en la salida estándar con el contenido leído. Esto se repetirá infinitamente, hasta que introduzcas una línea vacía.\n",
    "\n",
    "> **Importante**. Aunque este ejemplo no te parezca muy útil, la entrada y salida estándar se utilizan en multitud de programas para procesar datos. Especialmente para encadenar la salida de un proceso (`stdout`) y usarla como entrada de otro proceso (`stdin`) y construir secuencias de procesamiento de datos complejas a partir de procesos individuales muy sencillos. Esta técnica recibe el nombre de _data pipelines_ o tuberías de datos, y es una de las bases del procesamiento _Big Data_. \n"
   ]
  },
  {
   "cell_type": "markdown",
   "metadata": {},
   "source": [
    "# Clases y programación orientada a objetos\n",
    "\n",
    "Python es un lenguaje orientado a objetos (_OOL - Object Oriented Language_). Como tal, incorpora las herramientas para definir nuestras propias clases, instanciar y operar con objetos, o gestionar aspectos como la herencia o el polimorfismo. \n",
    "\n",
    "## ¿Orientación a objetos?\n",
    "\n",
    "Si todos estos conceptos te resultan totalmente desconocidos, vamos a tratar de explicarlo por encima. \n",
    "\n",
    "Puedes ver un objeto como una representación de un objeto del mundo real, con ciertas propiedades y capacidades o funcionalidades concretas.\n",
    "\n",
    "Una clase no deja de ser una abstracción, un patrón de cierta familia de elementos, que nos dice cuáles son las propiedades y funcionalidades comunes que comparten todos los objetos de dicha clase.\n",
    "\n",
    "En programación orientada a objetos, a las propiedades las llamamos _atributos_ y a las funcionalidades o capacidades las llamamos _métodos_. Y al proceso de crear un nuevo objeto a partir de una clase lo denominamos _instanciación_.\n",
    "\n",
    "## Definiendo clases y objetos\n",
    "\n",
    "Para crear una nueva clase empleamos la palabra reservada `class`."
   ]
  },
  {
   "cell_type": "code",
   "execution_count": 261,
   "metadata": {
    "collapsed": true
   },
   "outputs": [],
   "source": [
    "class Coche:\n",
    "    '''Esta clase representa un coche'''\n",
    "    \n",
    "    # Atributo de clase\n",
    "    ruedas = 4\n",
    "    \n",
    "    # Método de clase\n",
    "    def comprueba_coche():\n",
    "        print(\"Soy un coche.\")"
   ]
  },
  {
   "cell_type": "code",
   "execution_count": 262,
   "metadata": {},
   "outputs": [
    {
     "name": "stdout",
     "output_type": "stream",
     "text": [
      "4\n",
      "Soy un coche.\n"
     ]
    }
   ],
   "source": [
    "print(Coche.ruedas)\n",
    "Coche.comprueba_coche()"
   ]
  },
  {
   "cell_type": "markdown",
   "metadata": {},
   "source": [
    "Como ves, es simple. Una vez que definimos una nueva clase, su nombre queda registrado y se le asigna un espacio de nombres propio. A través de su nombre podemos acceder a la clase y a sus elementos.\n",
    "\n",
    "Aquí hemos definido un atributo de clase (`ruedas`) cuyo valor compartirán todos los objetos de clase `Coche`. Estos atributos se definen dentro de la clase igual que una variable normal.\n",
    "\n",
    "Del mismo modo, hemos definido un método de clase, cuya funcionalidad compartirán también todos los objetos de clase `Coche`. Un método de clase se define igual que una función común.\n",
    "\n",
    "¿Cómo creamos nuevos objetos de una clase? Invocando la clase como si fuera una función."
   ]
  },
  {
   "cell_type": "code",
   "execution_count": 263,
   "metadata": {},
   "outputs": [
    {
     "name": "stdout",
     "output_type": "stream",
     "text": [
      "<__main__.Coche object at 0x7f9d9433c0b8>\n"
     ]
    }
   ],
   "source": [
    "c1 = Coche()\n",
    "print(c1)"
   ]
  },
  {
   "cell_type": "markdown",
   "metadata": {},
   "source": [
    "### Constructores\n",
    "\n",
    "Los constructores son métodos especiales de una clase que permiten configurar distintas propiedades de los objetos durante su instanciación. En Python, el constructor de una clase se define siempre con una función con el nombre `__init__`."
   ]
  },
  {
   "cell_type": "code",
   "execution_count": 264,
   "metadata": {
    "collapsed": true
   },
   "outputs": [],
   "source": [
    "class Coche:\n",
    "    '''Esta clase representa un coche'''\n",
    "    \n",
    "    # Atributo de clase\n",
    "    ruedas = 4\n",
    "    \n",
    "    def __init__(self, potencia, velocidad_max, color):\n",
    "        '''Constructor de Coche'''\n",
    "        # Inicializamos atributos propios del nuevo objeto\n",
    "        self.potencia = potencia\n",
    "        self.velocidad_max = velocidad_max\n",
    "        self.color = color\n",
    "    \n",
    "    # Método de clase\n",
    "    def comprueba_coche():\n",
    "        print(\"Soy un coche.\")"
   ]
  },
  {
   "cell_type": "markdown",
   "metadata": {},
   "source": [
    "El método constructor recibe siempre como primer argumento una referencia al nuevo objeto (argumento `self`). Adicionalmente, podemos añadir más argumentos arbitrarios. El propósito principal de un constructor es declarar e inicializar los atributos del objeto.\n",
    "\n",
    "La forma de definir los atributos es creándolos a través del objeto `self`, como nuevas propiedades."
   ]
  },
  {
   "cell_type": "code",
   "execution_count": 265,
   "metadata": {},
   "outputs": [
    {
     "name": "stdout",
     "output_type": "stream",
     "text": [
      "rojo\n"
     ]
    }
   ],
   "source": [
    "# Creamos un nuevo objeto\n",
    "coche_1 = Coche(120, 200, \"rojo\")\n",
    "\n",
    "# Accedemos a sus atributos directamente\n",
    "print(coche_1.color)"
   ]
  },
  {
   "cell_type": "markdown",
   "metadata": {},
   "source": [
    "Ten en cuenta que los atributos de dos instancias distintas no comparten el valor de sus atributos."
   ]
  },
  {
   "cell_type": "code",
   "execution_count": 266,
   "metadata": {},
   "outputs": [
    {
     "name": "stdout",
     "output_type": "stream",
     "text": [
      "azul\n"
     ]
    }
   ],
   "source": [
    "# Creamos un nuevo objeto\n",
    "coche_2 = Coche(150, 220, \"azul\")\n",
    "\n",
    "# Accedemos a sus atributos directamente\n",
    "print(coche_2.color)"
   ]
  },
  {
   "cell_type": "markdown",
   "metadata": {},
   "source": [
    "### Definiendo métodos\n",
    "\n",
    "Para definir métodos aplicables a los objetos solo tenemos que añadir primero el argumento para pasar la referencia al objeto (`self`)."
   ]
  },
  {
   "cell_type": "code",
   "execution_count": 267,
   "metadata": {
    "collapsed": true
   },
   "outputs": [],
   "source": [
    "class Coche:\n",
    "    '''Esta clase representa un coche'''\n",
    "    \n",
    "    # Atributo de clase\n",
    "    ruedas = 4\n",
    "    \n",
    "    def __init__(self, potencia, velocidad_max, color):\n",
    "        '''Constructor de Coche'''\n",
    "        # Inicializamos atributos propios del nuevo objeto\n",
    "        self.potencia = potencia\n",
    "        self.velocidad_max = velocidad_max\n",
    "        self.color = color\n",
    "        self.velocidad = 0\n",
    "    \n",
    "    def acelera(self, incremento):\n",
    "        '''Método para acelerar el coche `self`'''\n",
    "        self.velocidad = self.velocidad + incremento\n",
    "        if (self.velocidad > self.velocidad_max):\n",
    "            print(\"Voy a todo gas!!\")\n",
    "            self.velocidad = self.velocidad_max\n",
    "        else:\n",
    "            print(\"Voy a %d\" % self.velocidad)\n",
    "    \n",
    "    # Método de clase\n",
    "    def comprueba_coche():\n",
    "        print(\"Soy un coche.\")"
   ]
  },
  {
   "cell_type": "code",
   "execution_count": 268,
   "metadata": {},
   "outputs": [
    {
     "name": "stdout",
     "output_type": "stream",
     "text": [
      "Voy a 50\n",
      "Voy a 110\n",
      "Voy a todo gas!!\n"
     ]
    }
   ],
   "source": [
    "coche_1 = Coche(120, 200, \"rojo\")\n",
    "coche_1.acelera(50)\n",
    "coche_1.acelera(60)\n",
    "coche_1.acelera(100)"
   ]
  },
  {
   "cell_type": "markdown",
   "metadata": {},
   "source": [
    "Un método de instancia puede acceder a los atributos particulares del objeto a través de la referencia `self`. En cambio, un método de clase solamente tiene acceso a los atributos de clase (los compartidos por todos los objetos). Es más, un método de clase no se puede ejecutar a través de una instancia, unicamente a través de su clase."
   ]
  },
  {
   "cell_type": "markdown",
   "metadata": {},
   "source": [
    "### Herencia\n",
    "\n",
    "Una de las características más importantes de la orientación a objetos es el concepto de _herencia_. Esencialmente consiste en definir una nueva clase _derivándola_ de una existente, de la que hereda por defecto todas sus características, métodos y atributos.\n",
    "\n",
    "La forma de especificar que una clase hereda de otra clase _base_ es indicando su nombre entre paréntesis."
   ]
  },
  {
   "cell_type": "code",
   "execution_count": 269,
   "metadata": {
    "collapsed": true
   },
   "outputs": [],
   "source": [
    "# Definimos la clase Familiar\n",
    "# que hereda de la clase Coche\n",
    "class Familiar(Coche):\n",
    "    \n",
    "    def __init__(self, potencia, velocidad_max, color, maletero):\n",
    "        '''Constructor para coche familiar'''\n",
    "        # primero inicializamos los atributos heredados\n",
    "        # llamando al constructor de la superclase\n",
    "        super().__init__(potencia, velocidad_max, color)\n",
    "        # y ahora inicializamos atributos propios \n",
    "        # de esta clase unicamente\n",
    "        self.maletero = maletero\n",
    "        self.carga = 0\n",
    "    \n",
    "    def pon_carga(self, peso):\n",
    "        '''Método para cargar el maletero'''\n",
    "        # En un coche familiar tenemos más capacidad de carga\n",
    "        self.carga = self.carga + peso\n",
    "        if (self.carga > self.maletero):\n",
    "            print(\"No cabe nada más!!\")\n",
    "            self.carga = self.maletero\n",
    "        else:\n",
    "            print(\"Llevo %d kg\" % self.carga)\n",
    "        "
   ]
  },
  {
   "cell_type": "code",
   "execution_count": 270,
   "metadata": {},
   "outputs": [
    {
     "name": "stdout",
     "output_type": "stream",
     "text": [
      "<__main__.Familiar object at 0x7f9d942d60f0>\n"
     ]
    }
   ],
   "source": [
    "fam_1 = Familiar(130,  180, 'gris', 300)\n",
    "print(fam_1)"
   ]
  },
  {
   "cell_type": "markdown",
   "metadata": {},
   "source": [
    "Como hemos dicho, una clase derivada hereda todos los métodos y atributos de la clase _padre_ (también conocida como _superclase_).\n",
    "\n",
    "Sin embargo, la potencia de este mecanismo viene al ampliar o redefinir los elementos heredados de la _superclase_.\n",
    "\n",
    "En este ejemplo, ampliamos los atributos para nuevas instancias de esta clase, añadiendo el atributo `maletero` en el constructor. Además, en el constructor de `Familiar` empezamos por inicializar los atributos heredados de la clase _padre_, llamando a su constructor. Decimos que hemos _sobrecargado_ el constructor.\n",
    "\n",
    "También aprovechamos para añadir un nuevo método (`pon_carga()`) para los objetos de la clase `Familiar`. A esto lo llamamos _extender_ la clase. Eso sí, seguimos teniendo acceso a todos los demás atributos y métodos heredados."
   ]
  },
  {
   "cell_type": "code",
   "execution_count": 271,
   "metadata": {},
   "outputs": [
    {
     "name": "stdout",
     "output_type": "stream",
     "text": [
      "Voy a 40\n",
      "Llevo 50 kg\n"
     ]
    }
   ],
   "source": [
    "fam_1.acelera(40)\n",
    "fam_1.pon_carga(50)"
   ]
  },
  {
   "cell_type": "markdown",
   "metadata": {},
   "source": [
    "#### Redefinición o _sobrecarga_ de métodos\n",
    "\n",
    "No solo podemos _sobrecargar_ el constructor de una clase derivada. La sobrecarga aplica a cualquier método. De esta forma alteramos el comportamiento heredado para adaptarlo a las características de la nueva clase."
   ]
  },
  {
   "cell_type": "code",
   "execution_count": 272,
   "metadata": {
    "collapsed": true
   },
   "outputs": [],
   "source": [
    "# Definimos la clase Familiar\n",
    "# que hereda de la clase Coche\n",
    "class Familiar(Coche):\n",
    "    \n",
    "    def __init__(self, potencia, velocidad_max, color, maletero):\n",
    "        '''Constructor para coche familiar'''\n",
    "        # primero inicializamos los atributos heredados\n",
    "        # llamando al constructor de la superclase\n",
    "        super().__init__(potencia, velocidad_max, color)\n",
    "        # y ahora inicializamos atributos propios \n",
    "        # de esta clase unicamente\n",
    "        self.maletero = maletero\n",
    "        self.carga = 0\n",
    "    \n",
    "    def pon_carga(self, peso):\n",
    "        '''Método para cargar el maletero'''\n",
    "        # En un coche familiar tenemos más capacidad de carga\n",
    "        self.carga = self.carga + peso\n",
    "        if (self.carga > self.maletero):\n",
    "            print(\"No cabe nada más!!\")\n",
    "            self.carga = self.maletero\n",
    "        else:\n",
    "            print(\"Llevo %d kg\" % self.carga)\n",
    "\n",
    "    def acelera(self, incremento):\n",
    "        '''Método sobrecargado para acelerar un familiar'''\n",
    "        self.velocidad = self.velocidad + 0.5*incremento\n",
    "        if (self.velocidad > 120):\n",
    "            print(\"Dónde vas, Fitipaldi!!\")\n",
    "            self.velocidad = self.velocidad_max\n",
    "        else:\n",
    "            print(\"He subido solo a %d\" % self.velocidad)\n",
    "    \n"
   ]
  },
  {
   "cell_type": "code",
   "execution_count": 273,
   "metadata": {},
   "outputs": [
    {
     "name": "stdout",
     "output_type": "stream",
     "text": [
      "He subido solo a 35\n",
      "He subido solo a 75\n",
      "Dónde vas, Fitipaldi!!\n"
     ]
    }
   ],
   "source": [
    "fam_2 = Familiar(120, 180, \"negro\", 250)\n",
    "fam_2.acelera(70)\n",
    "fam_2.acelera(80)\n",
    "fam_2.acelera(100)"
   ]
  },
  {
   "cell_type": "markdown",
   "metadata": {},
   "source": [
    "Para decidir qué atributo o método debe usar, Python usa un mecanismo de resolución con el que va explorando desde la clase más baja en el árbol de herencia hacia las clases superiores. Es decir, comienza buscando un método en la propia clase del objeto. Si no lo encuentra, asciende a sus clases _padre_ para continuar la busqueda."
   ]
  },
  {
   "cell_type": "markdown",
   "metadata": {},
   "source": [
    "# 10.¿Qué has aprendido?\n",
    "\n",
    "Con esta unidad ya tienes los conocimientos y herramientas necesarias para desarrollar tus propios programas en Python y poder analizar y entender el funcionamiento de código escrito en Python por otras personas.  \n",
    "\n",
    "Esto te va a ser muy útil, para empezar, en la siguiente unidad, donde profundizaremos en las principales librerías para trabajar en ciencia de datos con Python.  \n",
    "\n",
    "Recuerda que Python es un lenguaje de propósito general, y uno de los más extendidos actualmente. Te animamos a hacer nuevas pruebas y programas por tu cuenta, profundizando en tu dominio del lenguaje. Seguro que te abrirá nuevas puertas \n",
    "Y por último, no dudes en volver a esta unidad y utilizarla como referencia siempre que lo necesites.\n"
   ]
  }
 ],
 "metadata": {
  "celltoolbar": "Raw Cell Format",
  "kernelspec": {
   "display_name": "Python 3",
   "language": "python",
   "name": "python3"
  },
  "language_info": {
   "codemirror_mode": {
    "name": "ipython",
    "version": 3
   },
   "file_extension": ".py",
   "mimetype": "text/x-python",
   "name": "python",
   "nbconvert_exporter": "python",
   "pygments_lexer": "ipython3",
   "version": "3.6.3"
  }
 },
 "nbformat": 4,
 "nbformat_minor": 2
}
